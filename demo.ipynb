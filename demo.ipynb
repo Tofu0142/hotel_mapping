{
 "cells": [
  {
   "cell_type": "code",
   "execution_count": 1,
   "metadata": {},
   "outputs": [],
   "source": [
    "import pandas as pd\n",
    "import numpy as np\n"
   ]
  },
  {
   "cell_type": "code",
   "execution_count": 2,
   "metadata": {},
   "outputs": [
    {
     "data": {
      "text/html": [
       "<div>\n",
       "<style scoped>\n",
       "    .dataframe tbody tr th:only-of-type {\n",
       "        vertical-align: middle;\n",
       "    }\n",
       "\n",
       "    .dataframe tbody tr th {\n",
       "        vertical-align: top;\n",
       "    }\n",
       "\n",
       "    .dataframe thead th {\n",
       "        text-align: right;\n",
       "    }\n",
       "</style>\n",
       "<table border=\"1\" class=\"dataframe\">\n",
       "  <thead>\n",
       "    <tr style=\"text-align: right;\">\n",
       "      <th></th>\n",
       "      <th>hotel_id</th>\n",
       "      <th>lp_id</th>\n",
       "      <th>room_id</th>\n",
       "      <th>room_name</th>\n",
       "    </tr>\n",
       "  </thead>\n",
       "  <tbody>\n",
       "    <tr>\n",
       "      <th>0</th>\n",
       "      <td>13484077</td>\n",
       "      <td>lp23e8ef</td>\n",
       "      <td>1142730702</td>\n",
       "      <td>Double or Twin Room</td>\n",
       "    </tr>\n",
       "    <tr>\n",
       "      <th>1</th>\n",
       "      <td>13487663</td>\n",
       "      <td>lp6554de34</td>\n",
       "      <td>1141927122</td>\n",
       "      <td>House</td>\n",
       "    </tr>\n",
       "    <tr>\n",
       "      <th>2</th>\n",
       "      <td>13462809</td>\n",
       "      <td>lp6556c3dc</td>\n",
       "      <td>1142722063</td>\n",
       "      <td>Room</td>\n",
       "    </tr>\n",
       "    <tr>\n",
       "      <th>3</th>\n",
       "      <td>13530116</td>\n",
       "      <td>lp6555450b</td>\n",
       "      <td>1141968275</td>\n",
       "      <td>Triple Room</td>\n",
       "    </tr>\n",
       "    <tr>\n",
       "      <th>4</th>\n",
       "      <td>13530071</td>\n",
       "      <td>lp6557a92c</td>\n",
       "      <td>1142513784</td>\n",
       "      <td>Apartment</td>\n",
       "    </tr>\n",
       "  </tbody>\n",
       "</table>\n",
       "</div>"
      ],
      "text/plain": [
       "   hotel_id       lp_id     room_id            room_name\n",
       "0  13484077    lp23e8ef  1142730702  Double or Twin Room\n",
       "1  13487663  lp6554de34  1141927122                House\n",
       "2  13462809  lp6556c3dc  1142722063                 Room\n",
       "3  13530116  lp6555450b  1141968275          Triple Room\n",
       "4  13530071  lp6557a92c  1142513784            Apartment"
      ]
     },
     "execution_count": 2,
     "metadata": {},
     "output_type": "execute_result"
    }
   ],
   "source": [
    "ref = pd.read_csv('data/reference_rooms.csv')\n",
    "ref.head()"
   ]
  },
  {
   "cell_type": "code",
   "execution_count": 3,
   "metadata": {},
   "outputs": [
    {
     "data": {
      "text/html": [
       "<div>\n",
       "<style scoped>\n",
       "    .dataframe tbody tr th:only-of-type {\n",
       "        vertical-align: middle;\n",
       "    }\n",
       "\n",
       "    .dataframe tbody tr th {\n",
       "        vertical-align: top;\n",
       "    }\n",
       "\n",
       "    .dataframe thead th {\n",
       "        text-align: right;\n",
       "    }\n",
       "</style>\n",
       "<table border=\"1\" class=\"dataframe\">\n",
       "  <thead>\n",
       "    <tr style=\"text-align: right;\">\n",
       "      <th></th>\n",
       "      <th>core_room_id</th>\n",
       "      <th>core_hotel_id</th>\n",
       "      <th>lp_id</th>\n",
       "      <th>supplier_room_id</th>\n",
       "      <th>supplier_name</th>\n",
       "      <th>supplier_room_name</th>\n",
       "    </tr>\n",
       "  </thead>\n",
       "  <tbody>\n",
       "    <tr>\n",
       "      <th>0</th>\n",
       "      <td>1</td>\n",
       "      <td>506732</td>\n",
       "      <td>lp7bb6c</td>\n",
       "      <td>200979491</td>\n",
       "      <td>Expedia</td>\n",
       "      <td>Superior Double Room</td>\n",
       "    </tr>\n",
       "    <tr>\n",
       "      <th>1</th>\n",
       "      <td>2</td>\n",
       "      <td>509236</td>\n",
       "      <td>lp7c534</td>\n",
       "      <td>200998017</td>\n",
       "      <td>Expedia</td>\n",
       "      <td>Deluxe Room, Balcony</td>\n",
       "    </tr>\n",
       "    <tr>\n",
       "      <th>2</th>\n",
       "      <td>3</td>\n",
       "      <td>516326</td>\n",
       "      <td>lp7e0e6</td>\n",
       "      <td>201144757</td>\n",
       "      <td>Expedia</td>\n",
       "      <td>Female Dormitory- 3 Beds</td>\n",
       "    </tr>\n",
       "    <tr>\n",
       "      <th>3</th>\n",
       "      <td>4</td>\n",
       "      <td>495330</td>\n",
       "      <td>lp78ee2</td>\n",
       "      <td>201028863</td>\n",
       "      <td>Expedia</td>\n",
       "      <td>Standard Apartment, 2 Bedrooms (6 people)</td>\n",
       "    </tr>\n",
       "    <tr>\n",
       "      <th>4</th>\n",
       "      <td>5</td>\n",
       "      <td>970167</td>\n",
       "      <td>lpecdb7</td>\n",
       "      <td>218116045</td>\n",
       "      <td>Expedia</td>\n",
       "      <td>Traditional Cottage, 2 Bedrooms, Harbor View</td>\n",
       "    </tr>\n",
       "  </tbody>\n",
       "</table>\n",
       "</div>"
      ],
      "text/plain": [
       "   core_room_id  core_hotel_id    lp_id  supplier_room_id supplier_name  \\\n",
       "0             1         506732  lp7bb6c         200979491       Expedia   \n",
       "1             2         509236  lp7c534         200998017       Expedia   \n",
       "2             3         516326  lp7e0e6         201144757       Expedia   \n",
       "3             4         495330  lp78ee2         201028863       Expedia   \n",
       "4             5         970167  lpecdb7         218116045       Expedia   \n",
       "\n",
       "                             supplier_room_name  \n",
       "0                          Superior Double Room  \n",
       "1                          Deluxe Room, Balcony  \n",
       "2                      Female Dormitory- 3 Beds  \n",
       "3     Standard Apartment, 2 Bedrooms (6 people)  \n",
       "4  Traditional Cottage, 2 Bedrooms, Harbor View  "
      ]
     },
     "execution_count": 3,
     "metadata": {},
     "output_type": "execute_result"
    }
   ],
   "source": [
    "upc = pd.read_csv('data/updated_core_rooms.csv')\n",
    "upc.head()\n"
   ]
  },
  {
   "cell_type": "code",
   "execution_count": 4,
   "metadata": {},
   "outputs": [
    {
     "name": "stdout",
     "output_type": "stream",
     "text": [
      "=== EXPLORATORY DATA ANALYSIS FOR ROOM MATCHING API ===\n",
      "\n",
      "=== DATASET OVERVIEW ===\n",
      "\n",
      "Reference Data Shape: (100000, 4)\n",
      "\n",
      "Reference Data Sample:\n",
      "   hotel_id       lp_id     room_id            room_name\n",
      "0  13484077    lp23e8ef  1142730702  Double or Twin Room\n",
      "1  13487663  lp6554de34  1141927122                House\n",
      "2  13462809  lp6556c3dc  1142722063                 Room\n",
      "3  13530116  lp6555450b  1141968275          Triple Room\n",
      "4  13530071  lp6557a92c  1142513784            Apartment\n",
      "\n",
      "Reference Data Info:\n",
      "<class 'pandas.core.frame.DataFrame'>\n",
      "RangeIndex: 100000 entries, 0 to 99999\n",
      "Data columns (total 4 columns):\n",
      " #   Column     Non-Null Count   Dtype \n",
      "---  ------     --------------   ----- \n",
      " 0   hotel_id   100000 non-null  int64 \n",
      " 1   lp_id      100000 non-null  object\n",
      " 2   room_id    100000 non-null  int64 \n",
      " 3   room_name  100000 non-null  object\n",
      "dtypes: int64(2), object(2)\n",
      "memory usage: 3.1+ MB\n",
      "None\n",
      "\n",
      "Reference Data Description:\n",
      "            hotel_id       lp_id       room_id              room_name\n",
      "count   1.000000e+05      100000  1.000000e+05                 100000\n",
      "unique           NaN       40011           NaN                  27991\n",
      "top              NaN  lp65556118           NaN  One-Bedroom Apartment\n",
      "freq             NaN          99           NaN                   3634\n",
      "mean    9.621274e+06         NaN  8.503616e+08                    NaN\n",
      "std     5.103214e+06         NaN  4.129639e+08                    NaN\n",
      "min     1.044700e+04         NaN  3.055000e+03                    NaN\n",
      "25%     5.190788e+06         NaN  5.594727e+08                    NaN\n",
      "50%     1.345951e+07         NaN  1.142040e+09                    NaN\n",
      "75%     1.367078e+07         NaN  1.142814e+09                    NaN\n",
      "max     1.394758e+07         NaN  1.143650e+09                    NaN\n",
      "\n",
      "\n",
      "Core Data Shape: (2869056, 6)\n",
      "\n",
      "Core Data Sample:\n",
      "   core_room_id  core_hotel_id    lp_id  supplier_room_id supplier_name  \\\n",
      "0             1         506732  lp7bb6c         200979491       Expedia   \n",
      "1             2         509236  lp7c534         200998017       Expedia   \n",
      "2             3         516326  lp7e0e6         201144757       Expedia   \n",
      "3             4         495330  lp78ee2         201028863       Expedia   \n",
      "4             5         970167  lpecdb7         218116045       Expedia   \n",
      "\n",
      "                             supplier_room_name  \n",
      "0                          Superior Double Room  \n",
      "1                          Deluxe Room, Balcony  \n",
      "2                      Female Dormitory- 3 Beds  \n",
      "3     Standard Apartment, 2 Bedrooms (6 people)  \n",
      "4  Traditional Cottage, 2 Bedrooms, Harbor View  \n",
      "\n",
      "Core Data Info:\n",
      "<class 'pandas.core.frame.DataFrame'>\n",
      "RangeIndex: 2869056 entries, 0 to 2869055\n",
      "Data columns (total 6 columns):\n",
      " #   Column              Dtype \n",
      "---  ------              ----- \n",
      " 0   core_room_id        int64 \n",
      " 1   core_hotel_id       int64 \n",
      " 2   lp_id               object\n",
      " 3   supplier_room_id    int64 \n",
      " 4   supplier_name       object\n",
      " 5   supplier_room_name  object\n",
      "dtypes: int64(3), object(3)\n",
      "memory usage: 131.3+ MB\n",
      "None\n",
      "\n",
      "Core Data Description:\n",
      "        core_room_id  core_hotel_id       lp_id  supplier_room_id  \\\n",
      "count   2.869056e+06   2.869056e+06     2869056      2.869056e+06   \n",
      "unique           NaN            NaN      813834               NaN   \n",
      "top              NaN            NaN  lp656c2983               NaN   \n",
      "freq             NaN            NaN         174               NaN   \n",
      "mean    1.444446e+06   4.881652e+08         NaN      2.391751e+08   \n",
      "std     8.391996e+05   7.687119e+08         NaN      6.673219e+07   \n",
      "min     1.000000e+00   4.110000e+03         NaN      3.100000e+01   \n",
      "25%     7.197768e+05   4.281690e+05         NaN      2.018473e+08   \n",
      "50%     1.437040e+06   8.012200e+05         NaN      2.182439e+08   \n",
      "75%     2.154329e+06   1.700100e+09         NaN      3.160393e+08   \n",
      "max     2.912443e+06   1.701693e+09         NaN      3.243883e+08   \n",
      "\n",
      "       supplier_name    supplier_room_name  \n",
      "count        2869056               2869055  \n",
      "unique             1                704452  \n",
      "top          Expedia  Standard Double Room  \n",
      "freq         2869056                 45313  \n",
      "mean             NaN                   NaN  \n",
      "std              NaN                   NaN  \n",
      "min              NaN                   NaN  \n",
      "25%              NaN                   NaN  \n",
      "50%              NaN                   NaN  \n",
      "75%              NaN                   NaN  \n",
      "max              NaN                   NaN  \n",
      "\n",
      "=== MISSING VALUES ===\n",
      "\n",
      "Missing values in Reference Data:\n",
      "hotel_id     0\n",
      "lp_id        0\n",
      "room_id      0\n",
      "room_name    0\n",
      "dtype: int64\n",
      "\n",
      "Missing values in Core Data:\n",
      "core_room_id          0\n",
      "core_hotel_id         0\n",
      "lp_id                 0\n",
      "supplier_room_id      0\n",
      "supplier_name         0\n",
      "supplier_room_name    1\n",
      "dtype: int64\n",
      "\n",
      "=== ROOM NAME ANALYSIS ===\n",
      "\n",
      "Reference Room Name Features:\n",
      "      room_id            room_name  length  word_count  has_numeric  \\\n",
      "0  1142730702  Double or Twin Room      19           4        False   \n",
      "1  1141927122                House       5           1        False   \n",
      "2  1142722063                 Room       4           1        False   \n",
      "3  1141968275          Triple Room      11           2        False   \n",
      "4  1142513784            Apartment       9           1        False   \n",
      "\n",
      "   has_bed_mention  has_room_type  has_quality_indicator  has_feature  \n",
      "0             True           True                  False        False  \n",
      "1            False           True                  False        False  \n",
      "2            False           True                  False        False  \n",
      "3            False           True                  False        False  \n",
      "4            False           True                  False        False  \n",
      "\n",
      "Supplier Room Name Features:\n",
      "   supplier_room_id supplier_name  \\\n",
      "0         200979491       Expedia   \n",
      "1         200998017       Expedia   \n",
      "2         201144757       Expedia   \n",
      "3         201028863       Expedia   \n",
      "4         218116045       Expedia   \n",
      "\n",
      "                             supplier_room_name  length  word_count  \\\n",
      "0                          Superior Double Room      20           3   \n",
      "1                          Deluxe Room, Balcony      20           3   \n",
      "2                      Female Dormitory- 3 Beds      24           4   \n",
      "3     Standard Apartment, 2 Bedrooms (6 people)      41           6   \n",
      "4  Traditional Cottage, 2 Bedrooms, Harbor View      44           6   \n",
      "\n",
      "   has_numeric  has_bed_mention  has_room_type  has_quality_indicator  \\\n",
      "0        False             True           True                   True   \n",
      "1        False            False           True                   True   \n",
      "2         True             True           True                  False   \n",
      "3         True             True           True                   True   \n",
      "4         True             True           True                  False   \n",
      "\n",
      "   has_feature  \n",
      "0        False  \n",
      "1         True  \n",
      "2        False  \n",
      "3        False  \n",
      "4         True  \n",
      "\n",
      "=== WORD FREQUENCY ANALYSIS ===\n",
      "\n",
      "Top 10 words in Reference Room Names:\n",
      "[('room', 50817), ('double', 20562), ('apartment', 19745), ('bedroom', 16346), ('view', 10927), ('deluxe', 9594), ('standard', 9261), ('twin', 9177), ('1', 8810), ('suite', 8324)]\n",
      "\n",
      "Top 10 words in Supplier Room Names:\n",
      "[('room', 1689755), ('double', 611530), ('1', 609025), ('bed', 501610), ('standard', 394597), ('2', 369897), ('suite', 364337), ('view', 352891), ('smoking', 320643), ('deluxe', 304132)]\n",
      "\n",
      "=== ROOM NAME LENGTH ANALYSIS ===\n",
      "\n",
      "Reference Room Name Length Statistics:\n",
      "         name_length     word_count\n",
      "count  100000.000000  100000.000000\n",
      "mean       23.100920       3.614740\n",
      "std        12.566208       2.153746\n",
      "min         2.000000       1.000000\n",
      "25%        14.000000       2.000000\n",
      "50%        20.000000       3.000000\n",
      "75%        28.000000       5.000000\n",
      "max       131.000000      25.000000\n",
      "\n",
      "Supplier Room Name Length Statistics:\n",
      "        name_length    word_count\n",
      "count  2.869056e+06  2.869056e+06\n",
      "mean   2.682404e+01  4.385819e+00\n",
      "std    1.503606e+01  2.445995e+00\n",
      "min    1.000000e+00  1.000000e+00\n",
      "25%    1.600000e+01  3.000000e+00\n",
      "50%    2.300000e+01  4.000000e+00\n",
      "75%    3.600000e+01  6.000000e+00\n",
      "max    1.000000e+02  2.400000e+01\n",
      "\n",
      "=== SUPPLIER DISTRIBUTION ===\n",
      "supplier_name\n",
      "Expedia    2869056\n",
      "Name: count, dtype: int64\n",
      "\n",
      "=== TEXT SIMILARITY ANALYSIS ===\n",
      "Calculating similarity matrix...\n",
      "Full similarity matrix saved to 'full_similarity_matrix.csv'\n",
      "\n",
      "=== VISUALIZATIONS ===\n",
      "Visualizations saved to 'room_matching_eda.png'\n",
      "\n",
      "=== FEATURE IMPORTANCE FOR MATCHING ===\n",
      "\n",
      "Feature Presence Comparison:\n",
      "                       Reference   Supplier\n",
      "length                  23.10092  26.824045\n",
      "word_count               3.61474   4.385819\n",
      "has_numeric              0.21639   0.406194\n",
      "has_bed_mention          0.59160   0.631256\n",
      "has_room_type            0.89021   0.897116\n",
      "has_quality_indicator    0.27596   0.357275\n",
      "has_feature              0.15537   0.155396\n",
      "\n",
      "=== POTENTIAL MATCHING PAIRS ===\n",
      "                                        reference_room  \\\n",
      "0                                  Double or Twin Room   \n",
      "1                                                House   \n",
      "2                                                 Room   \n",
      "3                                          Triple Room   \n",
      "4                                            Apartment   \n",
      "..                                                 ...   \n",
      "995                                 Family Triple Room   \n",
      "996                                Classic Double Room   \n",
      "997                    Standard Single Room, 1 Bedroom   \n",
      "998     Exclusive Duplex, Partial Sea View, Sea Facing   \n",
      "999  Classic Double Room Single Use, 1 Bedroom, Gar...   \n",
      "\n",
      "                                            best_match supplier  \\\n",
      "0                                  Double or Twin Room  Expedia   \n",
      "1                                                House  Expedia   \n",
      "2                                                 Room  Expedia   \n",
      "3                                          Triple Room  Expedia   \n",
      "4                             Apartment (Party Palace)  Expedia   \n",
      "..                                                 ...      ...   \n",
      "995                                        Triple Room  Expedia   \n",
      "996                                Classic Double Room  Expedia   \n",
      "997                               Standard Single Room  Expedia   \n",
      "998  Cottage, 3 Bedrooms, Sea View, Sea Facing (Lig...  Expedia   \n",
      "999  Standard Apartment, 1 Bedroom, Garden View, Ga...  Expedia   \n",
      "\n",
      "     similarity_score  \n",
      "0            1.000000  \n",
      "1            1.000000  \n",
      "2            1.000000  \n",
      "3            1.000000  \n",
      "4            1.000000  \n",
      "..                ...  \n",
      "995          0.607226  \n",
      "996          1.000000  \n",
      "997          0.855327  \n",
      "998          0.617058  \n",
      "999          0.670027  \n",
      "\n",
      "[1000 rows x 4 columns]\n",
      "\n",
      "=== SUMMARY STATISTICS ===\n",
      "\n",
      "Average similarity score: 0.7374556208100885\n",
      "Minimum similarity score: 0.0\n",
      "Maximum similarity score: 1.0000000000000004\n"
     ]
    },
    {
     "data": {
      "image/png": "[encoded data removed]",
      "text/plain": [
       "<Figure size 1500x1000 with 5 Axes>"
      ]
     },
     "metadata": {},
     "output_type": "display_data"
    }
   ],
   "source": [
    "from analysis import analysis\n",
    "analysis(ref, upc)"
   ]
  },
  {
   "cell_type": "code",
   "execution_count": 4,
   "metadata": {},
   "outputs": [],
   "source": [
    "from data_processing import main\n",
    "reference_rooms, supplier_rooms = main(ref, upc)\n"
   ]
  },
  {
   "cell_type": "code",
   "execution_count": 5,
   "metadata": {},
   "outputs": [
    {
     "name": "stderr",
     "output_type": "stream",
     "text": [
      "/Users/xinzhang/.pyenv/versions/realtime_interview_copilot/lib/python3.9/site-packages/urllib3/__init__.py:35: NotOpenSSLWarning: urllib3 v2 only supports OpenSSL 1.1.1+, currently the 'ssl' module is compiled with 'LibreSSL 2.8.3'. See: https://github.com/urllib3/urllib3/issues/3020\n",
      "  warnings.warn(\n",
      "/Users/xinzhang/.pyenv/versions/realtime_interview_copilot/lib/python3.9/site-packages/tqdm/auto.py:21: TqdmWarning: IProgress not found. Please update jupyter and ipywidgets. See https://ipywidgets.readthedocs.io/en/stable/user_install.html\n",
      "  from .autonotebook import tqdm as notebook_tqdm\n"
     ]
    },
    {
     "name": "stdout",
     "output_type": "stream",
     "text": [
      "250 500 250\n"
     ]
    }
   ],
   "source": [
    "from find_perfect_matches import find_perfect_matches\n",
    "label_data = find_perfect_matches(similarity_threshold=0.7)"
   ]
  },
  {
   "cell_type": "code",
   "execution_count": 6,
   "metadata": {},
   "outputs": [],
   "source": [
    "label_data.to_csv('matches.csv', index=False)"
   ]
  },
  {
   "cell_type": "code",
   "execution_count": 7,
   "metadata": {},
   "outputs": [],
   "source": [
    "from bert_xgb import BertXGBoostRoomMatcher"
   ]
  },
  {
   "cell_type": "code",
   "execution_count": 8,
   "metadata": {},
   "outputs": [
    {
     "name": "stdout",
     "output_type": "stream",
     "text": [
      "加载BERT模型: sentence-transformers/all-MiniLM-L6-v2\n",
      "使用设备: cpu\n"
     ]
    }
   ],
   "source": [
    "ref_s = reference_rooms.iloc[0:10000]\n",
    "supplier_s = supplier_rooms.iloc[0:30000]\n",
    "#matcher = BertXGBoostRoomMatcher(bert_model_name='prajjwal1/bert-tiny', batch_size=32) \n",
    "matcher = BertXGBoostRoomMatcher(bert_model_name='sentence-transformers/all-MiniLM-L6-v2', batch_size=32) "
   ]
  },
  {
   "cell_type": "code",
   "execution_count": 9,
   "metadata": {},
   "outputs": [
    {
     "name": "stdout",
     "output_type": "stream",
     "text": [
      "训练BERT+XGBoost房间匹配模型...\n",
      "获取BERT嵌入...\n"
     ]
    },
    {
     "name": "stderr",
     "output_type": "stream",
     "text": [
      "BERT编码: 100%|██████████| 313/313 [00:06<00:00, 50.22it/s]\n",
      "BERT编码: 100%|██████████| 938/938 [00:19<00:00, 48.65it/s]\n"
     ]
    },
    {
     "name": "stdout",
     "output_type": "stream",
     "text": [
      "提取结构化特征...\n",
      "生成合成训练数据...\n",
      "\n",
      "分析特征相关性...\n"
     ]
    },
    {
     "name": "stderr",
     "output_type": "stream",
     "text": [
      "/Users/xinzhang/Codes/nuitee/bert_xgb.py:357: UserWarning: Glyph 29305 (\\N{CJK UNIFIED IDEOGRAPH-7279}) missing from font(s) DejaVu Sans.\n",
      "  plt.tight_layout()\n",
      "/Users/xinzhang/Codes/nuitee/bert_xgb.py:357: UserWarning: Glyph 24449 (\\N{CJK UNIFIED IDEOGRAPH-5F81}) missing from font(s) DejaVu Sans.\n",
      "  plt.tight_layout()\n",
      "/Users/xinzhang/Codes/nuitee/bert_xgb.py:357: UserWarning: Glyph 30456 (\\N{CJK UNIFIED IDEOGRAPH-76F8}) missing from font(s) DejaVu Sans.\n",
      "  plt.tight_layout()\n",
      "/Users/xinzhang/Codes/nuitee/bert_xgb.py:357: UserWarning: Glyph 20851 (\\N{CJK UNIFIED IDEOGRAPH-5173}) missing from font(s) DejaVu Sans.\n",
      "  plt.tight_layout()\n",
      "/Users/xinzhang/Codes/nuitee/bert_xgb.py:357: UserWarning: Glyph 24615 (\\N{CJK UNIFIED IDEOGRAPH-6027}) missing from font(s) DejaVu Sans.\n",
      "  plt.tight_layout()\n",
      "/Users/xinzhang/Codes/nuitee/bert_xgb.py:357: UserWarning: Glyph 30697 (\\N{CJK UNIFIED IDEOGRAPH-77E9}) missing from font(s) DejaVu Sans.\n",
      "  plt.tight_layout()\n",
      "/Users/xinzhang/Codes/nuitee/bert_xgb.py:357: UserWarning: Glyph 38453 (\\N{CJK UNIFIED IDEOGRAPH-9635}) missing from font(s) DejaVu Sans.\n",
      "  plt.tight_layout()\n",
      "/Users/xinzhang/Codes/nuitee/bert_xgb.py:358: UserWarning: Glyph 29305 (\\N{CJK UNIFIED IDEOGRAPH-7279}) missing from font(s) DejaVu Sans.\n",
      "  plt.savefig('feature_correlation.png')\n",
      "/Users/xinzhang/Codes/nuitee/bert_xgb.py:358: UserWarning: Glyph 24449 (\\N{CJK UNIFIED IDEOGRAPH-5F81}) missing from font(s) DejaVu Sans.\n",
      "  plt.savefig('feature_correlation.png')\n",
      "/Users/xinzhang/Codes/nuitee/bert_xgb.py:358: UserWarning: Glyph 30456 (\\N{CJK UNIFIED IDEOGRAPH-76F8}) missing from font(s) DejaVu Sans.\n",
      "  plt.savefig('feature_correlation.png')\n",
      "/Users/xinzhang/Codes/nuitee/bert_xgb.py:358: UserWarning: Glyph 20851 (\\N{CJK UNIFIED IDEOGRAPH-5173}) missing from font(s) DejaVu Sans.\n",
      "  plt.savefig('feature_correlation.png')\n",
      "/Users/xinzhang/Codes/nuitee/bert_xgb.py:358: UserWarning: Glyph 24615 (\\N{CJK UNIFIED IDEOGRAPH-6027}) missing from font(s) DejaVu Sans.\n",
      "  plt.savefig('feature_correlation.png')\n",
      "/Users/xinzhang/Codes/nuitee/bert_xgb.py:358: UserWarning: Glyph 30697 (\\N{CJK UNIFIED IDEOGRAPH-77E9}) missing from font(s) DejaVu Sans.\n",
      "  plt.savefig('feature_correlation.png')\n",
      "/Users/xinzhang/Codes/nuitee/bert_xgb.py:358: UserWarning: Glyph 38453 (\\N{CJK UNIFIED IDEOGRAPH-9635}) missing from font(s) DejaVu Sans.\n",
      "  plt.savefig('feature_correlation.png')\n"
     ]
    },
    {
     "name": "stdout",
     "output_type": "stream",
     "text": [
      "特征相关性热图已保存为 'feature_correlation.png'\n",
      "\n",
      "特征与目标变量的互信息分数:\n",
      "                       特征     互信息分数\n",
      "1             jaccard_sim  0.215758\n",
      "0                text_sim  0.215701\n",
      "6      normalized_lev_sim  0.214298\n",
      "3        ref_contains_sup  0.210473\n",
      "4        sup_contains_ref  0.194797\n",
      "2           token_overlap  0.144491\n",
      "7         room_type_match  0.058715\n",
      "8          bed_type_match  0.046283\n",
      "9              view_match  0.036845\n",
      "5            number_match  0.011804\n",
      "12     capacity_bed_match  0.011507\n",
      "11  capacity_people_match  0.001481\n",
      "10          view_conflict  0.000543\n",
      "特征重要性图已保存为 'feature_importance_mi.png'\n",
      "\n",
      "高度相关的特征对 (|相关系数| > 0.75):\n",
      "text_sim 和 jaccard_sim: 0.837\n",
      "text_sim 和 ref_contains_sup: 0.824\n",
      "text_sim 和 sup_contains_ref: 0.806\n",
      "text_sim 和 normalized_lev_sim: 0.792\n",
      "jaccard_sim 和 token_overlap: 0.829\n",
      "jaccard_sim 和 ref_contains_sup: 0.952\n",
      "jaccard_sim 和 sup_contains_ref: 0.933\n",
      "jaccard_sim 和 normalized_lev_sim: 0.927\n",
      "ref_contains_sup 和 sup_contains_ref: 0.957\n",
      "ref_contains_sup 和 normalized_lev_sim: 0.918\n",
      "sup_contains_ref 和 normalized_lev_sim: 0.888\n",
      "\n",
      "低互信息特征 (MI < 0.01):\n",
      "                       特征     互信息分数\n",
      "11  capacity_people_match  0.001481\n",
      "10          view_conflict  0.000543\n",
      "删除低互信息特征: view_conflict\n",
      "删除低互信息特征: capacity_people_match\n",
      "删除高相关特征: text_sim\n",
      "删除高相关特征: token_overlap\n",
      "删除高相关特征: ref_contains_sup\n",
      "删除高相关特征: sup_contains_ref\n",
      "删除高相关特征: normalized_lev_sim\n"
     ]
    },
    {
     "name": "stderr",
     "output_type": "stream",
     "text": [
      "/Users/xinzhang/Codes/nuitee/bert_xgb.py:373: UserWarning: Glyph 20114 (\\N{CJK UNIFIED IDEOGRAPH-4E92}) missing from font(s) DejaVu Sans.\n",
      "  plt.tight_layout()\n",
      "/Users/xinzhang/Codes/nuitee/bert_xgb.py:373: UserWarning: Glyph 20449 (\\N{CJK UNIFIED IDEOGRAPH-4FE1}) missing from font(s) DejaVu Sans.\n",
      "  plt.tight_layout()\n",
      "/Users/xinzhang/Codes/nuitee/bert_xgb.py:373: UserWarning: Glyph 24687 (\\N{CJK UNIFIED IDEOGRAPH-606F}) missing from font(s) DejaVu Sans.\n",
      "  plt.tight_layout()\n",
      "/Users/xinzhang/Codes/nuitee/bert_xgb.py:373: UserWarning: Glyph 20998 (\\N{CJK UNIFIED IDEOGRAPH-5206}) missing from font(s) DejaVu Sans.\n",
      "  plt.tight_layout()\n",
      "/Users/xinzhang/Codes/nuitee/bert_xgb.py:373: UserWarning: Glyph 25968 (\\N{CJK UNIFIED IDEOGRAPH-6570}) missing from font(s) DejaVu Sans.\n",
      "  plt.tight_layout()\n",
      "/Users/xinzhang/Codes/nuitee/bert_xgb.py:373: UserWarning: Glyph 29305 (\\N{CJK UNIFIED IDEOGRAPH-7279}) missing from font(s) DejaVu Sans.\n",
      "  plt.tight_layout()\n",
      "/Users/xinzhang/Codes/nuitee/bert_xgb.py:373: UserWarning: Glyph 24449 (\\N{CJK UNIFIED IDEOGRAPH-5F81}) missing from font(s) DejaVu Sans.\n",
      "  plt.tight_layout()\n",
      "/Users/xinzhang/Codes/nuitee/bert_xgb.py:373: UserWarning: Glyph 19982 (\\N{CJK UNIFIED IDEOGRAPH-4E0E}) missing from font(s) DejaVu Sans.\n",
      "  plt.tight_layout()\n",
      "/Users/xinzhang/Codes/nuitee/bert_xgb.py:373: UserWarning: Glyph 30446 (\\N{CJK UNIFIED IDEOGRAPH-76EE}) missing from font(s) DejaVu Sans.\n",
      "  plt.tight_layout()\n",
      "/Users/xinzhang/Codes/nuitee/bert_xgb.py:373: UserWarning: Glyph 26631 (\\N{CJK UNIFIED IDEOGRAPH-6807}) missing from font(s) DejaVu Sans.\n",
      "  plt.tight_layout()\n",
      "/Users/xinzhang/Codes/nuitee/bert_xgb.py:373: UserWarning: Glyph 21464 (\\N{CJK UNIFIED IDEOGRAPH-53D8}) missing from font(s) DejaVu Sans.\n",
      "  plt.tight_layout()\n",
      "/Users/xinzhang/Codes/nuitee/bert_xgb.py:373: UserWarning: Glyph 37327 (\\N{CJK UNIFIED IDEOGRAPH-91CF}) missing from font(s) DejaVu Sans.\n",
      "  plt.tight_layout()\n",
      "/Users/xinzhang/Codes/nuitee/bert_xgb.py:373: UserWarning: Glyph 30340 (\\N{CJK UNIFIED IDEOGRAPH-7684}) missing from font(s) DejaVu Sans.\n",
      "  plt.tight_layout()\n",
      "/Users/xinzhang/Codes/nuitee/bert_xgb.py:374: UserWarning: Glyph 20114 (\\N{CJK UNIFIED IDEOGRAPH-4E92}) missing from font(s) DejaVu Sans.\n",
      "  plt.savefig('feature_importance_mi.png')\n",
      "/Users/xinzhang/Codes/nuitee/bert_xgb.py:374: UserWarning: Glyph 20449 (\\N{CJK UNIFIED IDEOGRAPH-4FE1}) missing from font(s) DejaVu Sans.\n",
      "  plt.savefig('feature_importance_mi.png')\n",
      "/Users/xinzhang/Codes/nuitee/bert_xgb.py:374: UserWarning: Glyph 24687 (\\N{CJK UNIFIED IDEOGRAPH-606F}) missing from font(s) DejaVu Sans.\n",
      "  plt.savefig('feature_importance_mi.png')\n",
      "/Users/xinzhang/Codes/nuitee/bert_xgb.py:374: UserWarning: Glyph 20998 (\\N{CJK UNIFIED IDEOGRAPH-5206}) missing from font(s) DejaVu Sans.\n",
      "  plt.savefig('feature_importance_mi.png')\n",
      "/Users/xinzhang/Codes/nuitee/bert_xgb.py:374: UserWarning: Glyph 25968 (\\N{CJK UNIFIED IDEOGRAPH-6570}) missing from font(s) DejaVu Sans.\n",
      "  plt.savefig('feature_importance_mi.png')\n",
      "/Users/xinzhang/Codes/nuitee/bert_xgb.py:374: UserWarning: Glyph 29305 (\\N{CJK UNIFIED IDEOGRAPH-7279}) missing from font(s) DejaVu Sans.\n",
      "  plt.savefig('feature_importance_mi.png')\n",
      "/Users/xinzhang/Codes/nuitee/bert_xgb.py:374: UserWarning: Glyph 24449 (\\N{CJK UNIFIED IDEOGRAPH-5F81}) missing from font(s) DejaVu Sans.\n",
      "  plt.savefig('feature_importance_mi.png')\n",
      "/Users/xinzhang/Codes/nuitee/bert_xgb.py:374: UserWarning: Glyph 19982 (\\N{CJK UNIFIED IDEOGRAPH-4E0E}) missing from font(s) DejaVu Sans.\n",
      "  plt.savefig('feature_importance_mi.png')\n",
      "/Users/xinzhang/Codes/nuitee/bert_xgb.py:374: UserWarning: Glyph 30446 (\\N{CJK UNIFIED IDEOGRAPH-76EE}) missing from font(s) DejaVu Sans.\n",
      "  plt.savefig('feature_importance_mi.png')\n",
      "/Users/xinzhang/Codes/nuitee/bert_xgb.py:374: UserWarning: Glyph 26631 (\\N{CJK UNIFIED IDEOGRAPH-6807}) missing from font(s) DejaVu Sans.\n",
      "  plt.savefig('feature_importance_mi.png')\n",
      "/Users/xinzhang/Codes/nuitee/bert_xgb.py:374: UserWarning: Glyph 21464 (\\N{CJK UNIFIED IDEOGRAPH-53D8}) missing from font(s) DejaVu Sans.\n",
      "  plt.savefig('feature_importance_mi.png')\n",
      "/Users/xinzhang/Codes/nuitee/bert_xgb.py:374: UserWarning: Glyph 37327 (\\N{CJK UNIFIED IDEOGRAPH-91CF}) missing from font(s) DejaVu Sans.\n",
      "  plt.savefig('feature_importance_mi.png')\n",
      "/Users/xinzhang/Codes/nuitee/bert_xgb.py:374: UserWarning: Glyph 30340 (\\N{CJK UNIFIED IDEOGRAPH-7684}) missing from font(s) DejaVu Sans.\n",
      "  plt.savefig('feature_importance_mi.png')\n"
     ]
    },
    {
     "name": "stdout",
     "output_type": "stream",
     "text": [
      "特征数量从 781 减少到 774\n",
      "\n",
      "保留的特征:\n",
      "- jaccard_sim\n",
      "- number_match\n",
      "- room_type_match\n",
      "- bed_type_match\n",
      "- view_match\n",
      "- capacity_bed_match\n",
      "- ref_emb_0\n",
      "- ref_emb_1\n",
      "- ref_emb_2\n",
      "- ref_emb_3\n",
      "- ref_emb_4\n",
      "- ref_emb_5\n",
      "- ref_emb_6\n",
      "\n",
      "训练XGBoost模型，使用84740个样本...\n",
      "[0]\ttrain-logloss:0.21041\tval-logloss:0.20726\n",
      "[10]\ttrain-logloss:0.06557\tval-logloss:0.06506\n",
      "[20]\ttrain-logloss:0.02395\tval-logloss:0.02386\n",
      "[30]\ttrain-logloss:0.00891\tval-logloss:0.00891\n",
      "[40]\ttrain-logloss:0.00338\tval-logloss:0.00339\n",
      "[50]\ttrain-logloss:0.00129\tval-logloss:0.00131\n",
      "[60]\ttrain-logloss:0.00053\tval-logloss:0.00056\n",
      "[70]\ttrain-logloss:0.00024\tval-logloss:0.00027\n",
      "[80]\ttrain-logloss:0.00013\tval-logloss:0.00016\n",
      "[90]\ttrain-logloss:0.00008\tval-logloss:0.00011\n",
      "[99]\ttrain-logloss:0.00006\tval-logloss:0.00009\n",
      "验证集性能: 精确率=1.0000, 召回率=1.0000, F1分数=1.0000\n",
      "模型已保存到: ./bert_xgb_room_matcher.joblib\n",
      "\n",
      "Top 10 特征重要性:\n",
      "  jaccard_sim: 711.27294921875\n",
      "  room_type_match: 680.4743041992188\n",
      "  bed_type_match: 186.9474334716797\n",
      "  ref_emb_372: 169.4294891357422\n",
      "  ref_emb_344: 140.1731414794922\n",
      "  sup_emb_172: 105.58882904052734\n",
      "  capacity_bed_match: 94.44966125488281\n",
      "  ref_emb_88: 94.1434555053711\n",
      "  ref_emb_311: 91.02239227294922\n",
      "  sup_emb_374: 79.3177490234375\n",
      "XGBoost特征重要性图已保存为 'xgboost_feature_importance.png'\n",
      "训练完成! 耗时: 1119.52秒\n"
     ]
    },
    {
     "name": "stderr",
     "output_type": "stream",
     "text": [
      "/Users/xinzhang/Codes/nuitee/bert_xgb.py:509: UserWarning: Glyph 37325 (\\N{CJK UNIFIED IDEOGRAPH-91CD}) missing from font(s) DejaVu Sans.\n",
      "  plt.tight_layout()\n",
      "/Users/xinzhang/Codes/nuitee/bert_xgb.py:509: UserWarning: Glyph 35201 (\\N{CJK UNIFIED IDEOGRAPH-8981}) missing from font(s) DejaVu Sans.\n",
      "  plt.tight_layout()\n",
      "/Users/xinzhang/Codes/nuitee/bert_xgb.py:509: UserWarning: Glyph 24615 (\\N{CJK UNIFIED IDEOGRAPH-6027}) missing from font(s) DejaVu Sans.\n",
      "  plt.tight_layout()\n",
      "/Users/xinzhang/Codes/nuitee/bert_xgb.py:509: UserWarning: Glyph 29305 (\\N{CJK UNIFIED IDEOGRAPH-7279}) missing from font(s) DejaVu Sans.\n",
      "  plt.tight_layout()\n",
      "/Users/xinzhang/Codes/nuitee/bert_xgb.py:509: UserWarning: Glyph 24449 (\\N{CJK UNIFIED IDEOGRAPH-5F81}) missing from font(s) DejaVu Sans.\n",
      "  plt.tight_layout()\n",
      "/Users/xinzhang/Codes/nuitee/bert_xgb.py:510: UserWarning: Glyph 37325 (\\N{CJK UNIFIED IDEOGRAPH-91CD}) missing from font(s) DejaVu Sans.\n",
      "  plt.savefig('xgboost_feature_importance.png')\n",
      "/Users/xinzhang/Codes/nuitee/bert_xgb.py:510: UserWarning: Glyph 35201 (\\N{CJK UNIFIED IDEOGRAPH-8981}) missing from font(s) DejaVu Sans.\n",
      "  plt.savefig('xgboost_feature_importance.png')\n",
      "/Users/xinzhang/Codes/nuitee/bert_xgb.py:510: UserWarning: Glyph 24615 (\\N{CJK UNIFIED IDEOGRAPH-6027}) missing from font(s) DejaVu Sans.\n",
      "  plt.savefig('xgboost_feature_importance.png')\n",
      "/Users/xinzhang/Codes/nuitee/bert_xgb.py:510: UserWarning: Glyph 29305 (\\N{CJK UNIFIED IDEOGRAPH-7279}) missing from font(s) DejaVu Sans.\n",
      "  plt.savefig('xgboost_feature_importance.png')\n",
      "/Users/xinzhang/Codes/nuitee/bert_xgb.py:510: UserWarning: Glyph 24449 (\\N{CJK UNIFIED IDEOGRAPH-5F81}) missing from font(s) DejaVu Sans.\n",
      "  plt.savefig('xgboost_feature_importance.png')\n"
     ]
    },
    {
     "data": {
      "text/plain": [
       "<bert_xgb.BertXGBoostRoomMatcher at 0x31dfd36d0>"
      ]
     },
     "execution_count": 9,
     "metadata": {},
     "output_type": "execute_result"
    },
    {
     "name": "stderr",
     "output_type": "stream",
     "text": [
      "/Users/xinzhang/.pyenv/versions/realtime_interview_copilot/lib/python3.9/site-packages/IPython/core/pylabtools.py:152: UserWarning: Glyph 29305 (\\N{CJK UNIFIED IDEOGRAPH-7279}) missing from font(s) DejaVu Sans.\n",
      "  fig.canvas.print_figure(bytes_io, **kw)\n",
      "/Users/xinzhang/.pyenv/versions/realtime_interview_copilot/lib/python3.9/site-packages/IPython/core/pylabtools.py:152: UserWarning: Glyph 24449 (\\N{CJK UNIFIED IDEOGRAPH-5F81}) missing from font(s) DejaVu Sans.\n",
      "  fig.canvas.print_figure(bytes_io, **kw)\n",
      "/Users/xinzhang/.pyenv/versions/realtime_interview_copilot/lib/python3.9/site-packages/IPython/core/pylabtools.py:152: UserWarning: Glyph 30456 (\\N{CJK UNIFIED IDEOGRAPH-76F8}) missing from font(s) DejaVu Sans.\n",
      "  fig.canvas.print_figure(bytes_io, **kw)\n",
      "/Users/xinzhang/.pyenv/versions/realtime_interview_copilot/lib/python3.9/site-packages/IPython/core/pylabtools.py:152: UserWarning: Glyph 20851 (\\N{CJK UNIFIED IDEOGRAPH-5173}) missing from font(s) DejaVu Sans.\n",
      "  fig.canvas.print_figure(bytes_io, **kw)\n",
      "/Users/xinzhang/.pyenv/versions/realtime_interview_copilot/lib/python3.9/site-packages/IPython/core/pylabtools.py:152: UserWarning: Glyph 24615 (\\N{CJK UNIFIED IDEOGRAPH-6027}) missing from font(s) DejaVu Sans.\n",
      "  fig.canvas.print_figure(bytes_io, **kw)\n",
      "/Users/xinzhang/.pyenv/versions/realtime_interview_copilot/lib/python3.9/site-packages/IPython/core/pylabtools.py:152: UserWarning: Glyph 30697 (\\N{CJK UNIFIED IDEOGRAPH-77E9}) missing from font(s) DejaVu Sans.\n",
      "  fig.canvas.print_figure(bytes_io, **kw)\n",
      "/Users/xinzhang/.pyenv/versions/realtime_interview_copilot/lib/python3.9/site-packages/IPython/core/pylabtools.py:152: UserWarning: Glyph 38453 (\\N{CJK UNIFIED IDEOGRAPH-9635}) missing from font(s) DejaVu Sans.\n",
      "  fig.canvas.print_figure(bytes_io, **kw)\n"
     ]
    },
    {
     "data": {
      "image/png": "[encoded data removed]",
      "text/plain": [
       "<Figure size 1000x800 with 2 Axes>"
      ]
     },
     "metadata": {},
     "output_type": "display_data"
    },
    {
     "name": "stderr",
     "output_type": "stream",
     "text": [
      "/Users/xinzhang/.pyenv/versions/realtime_interview_copilot/lib/python3.9/site-packages/IPython/core/pylabtools.py:152: UserWarning: Glyph 19982 (\\N{CJK UNIFIED IDEOGRAPH-4E0E}) missing from font(s) DejaVu Sans.\n",
      "  fig.canvas.print_figure(bytes_io, **kw)\n",
      "/Users/xinzhang/.pyenv/versions/realtime_interview_copilot/lib/python3.9/site-packages/IPython/core/pylabtools.py:152: UserWarning: Glyph 30446 (\\N{CJK UNIFIED IDEOGRAPH-76EE}) missing from font(s) DejaVu Sans.\n",
      "  fig.canvas.print_figure(bytes_io, **kw)\n",
      "/Users/xinzhang/.pyenv/versions/realtime_interview_copilot/lib/python3.9/site-packages/IPython/core/pylabtools.py:152: UserWarning: Glyph 26631 (\\N{CJK UNIFIED IDEOGRAPH-6807}) missing from font(s) DejaVu Sans.\n",
      "  fig.canvas.print_figure(bytes_io, **kw)\n",
      "/Users/xinzhang/.pyenv/versions/realtime_interview_copilot/lib/python3.9/site-packages/IPython/core/pylabtools.py:152: UserWarning: Glyph 21464 (\\N{CJK UNIFIED IDEOGRAPH-53D8}) missing from font(s) DejaVu Sans.\n",
      "  fig.canvas.print_figure(bytes_io, **kw)\n",
      "/Users/xinzhang/.pyenv/versions/realtime_interview_copilot/lib/python3.9/site-packages/IPython/core/pylabtools.py:152: UserWarning: Glyph 37327 (\\N{CJK UNIFIED IDEOGRAPH-91CF}) missing from font(s) DejaVu Sans.\n",
      "  fig.canvas.print_figure(bytes_io, **kw)\n",
      "/Users/xinzhang/.pyenv/versions/realtime_interview_copilot/lib/python3.9/site-packages/IPython/core/pylabtools.py:152: UserWarning: Glyph 30340 (\\N{CJK UNIFIED IDEOGRAPH-7684}) missing from font(s) DejaVu Sans.\n",
      "  fig.canvas.print_figure(bytes_io, **kw)\n",
      "/Users/xinzhang/.pyenv/versions/realtime_interview_copilot/lib/python3.9/site-packages/IPython/core/pylabtools.py:152: UserWarning: Glyph 20114 (\\N{CJK UNIFIED IDEOGRAPH-4E92}) missing from font(s) DejaVu Sans.\n",
      "  fig.canvas.print_figure(bytes_io, **kw)\n",
      "/Users/xinzhang/.pyenv/versions/realtime_interview_copilot/lib/python3.9/site-packages/IPython/core/pylabtools.py:152: UserWarning: Glyph 20449 (\\N{CJK UNIFIED IDEOGRAPH-4FE1}) missing from font(s) DejaVu Sans.\n",
      "  fig.canvas.print_figure(bytes_io, **kw)\n",
      "/Users/xinzhang/.pyenv/versions/realtime_interview_copilot/lib/python3.9/site-packages/IPython/core/pylabtools.py:152: UserWarning: Glyph 24687 (\\N{CJK UNIFIED IDEOGRAPH-606F}) missing from font(s) DejaVu Sans.\n",
      "  fig.canvas.print_figure(bytes_io, **kw)\n",
      "/Users/xinzhang/.pyenv/versions/realtime_interview_copilot/lib/python3.9/site-packages/IPython/core/pylabtools.py:152: UserWarning: Glyph 20998 (\\N{CJK UNIFIED IDEOGRAPH-5206}) missing from font(s) DejaVu Sans.\n",
      "  fig.canvas.print_figure(bytes_io, **kw)\n",
      "/Users/xinzhang/.pyenv/versions/realtime_interview_copilot/lib/python3.9/site-packages/IPython/core/pylabtools.py:152: UserWarning: Glyph 25968 (\\N{CJK UNIFIED IDEOGRAPH-6570}) missing from font(s) DejaVu Sans.\n",
      "  fig.canvas.print_figure(bytes_io, **kw)\n"
     ]
    },
    {
     "data": {
      "image/png": "[encoded data removed]",
      "text/plain": [
       "<Figure size 1000x600 with 1 Axes>"
      ]
     },
     "metadata": {},
     "output_type": "display_data"
    },
    {
     "name": "stderr",
     "output_type": "stream",
     "text": [
      "/Users/xinzhang/.pyenv/versions/realtime_interview_copilot/lib/python3.9/site-packages/IPython/core/pylabtools.py:152: UserWarning: Glyph 37325 (\\N{CJK UNIFIED IDEOGRAPH-91CD}) missing from font(s) DejaVu Sans.\n",
      "  fig.canvas.print_figure(bytes_io, **kw)\n",
      "/Users/xinzhang/.pyenv/versions/realtime_interview_copilot/lib/python3.9/site-packages/IPython/core/pylabtools.py:152: UserWarning: Glyph 35201 (\\N{CJK UNIFIED IDEOGRAPH-8981}) missing from font(s) DejaVu Sans.\n",
      "  fig.canvas.print_figure(bytes_io, **kw)\n"
     ]
    },
    {
     "data": {
      "image/png": "[encoded data removed]",
      "text/plain": [
       "<Figure size 1000x600 with 1 Axes>"
      ]
     },
     "metadata": {},
     "output_type": "display_data"
    }
   ],
   "source": [
    "matcher.train(ref_s, supplier_s)"
   ]
  },
  {
   "cell_type": "code",
   "execution_count": 7,
   "metadata": {},
   "outputs": [
    {
     "name": "stdout",
     "output_type": "stream",
     "text": [
      "加载BERT模型: prajjwal1/bert-tiny\n",
      "使用设备: cpu\n",
      "训练BERT+XGBoost房间匹配模型...\n",
      "获取BERT嵌入...\n",
      "从缓存加载BERT嵌入...\n",
      "从缓存加载BERT嵌入...\n",
      "提取结构化特征...\n",
      "生成合成训练数据...\n",
      "        0    1    2    3    4    5    6         7         8         9    ...  \\\n",
      "0  0.785461  0.0  0.0  1.0  0.0  0.0  0.0 -1.087509  0.253939 -3.828410  ...   \n",
      "1  1.000000  1.0  0.0  1.0  0.0  0.0  0.0 -0.273703  0.292329 -3.283674  ...   \n",
      "2  1.000000  1.0  0.0  1.0  0.0  0.0  0.0 -1.783789  0.162121 -3.244087  ...   \n",
      "3  0.778132  0.0  0.0  0.0  0.0  0.0  0.0 -1.334804  0.601053 -3.612597  ...   \n",
      "4  0.713195  0.0  0.0  1.0  0.0  0.0  0.0 -0.891191 -0.159204 -3.558709  ...   \n",
      "\n",
      "        253       254       255       256       257       258       259  \\\n",
      "0  0.675524  0.509778  0.013595  0.246139 -0.366082 -0.853024 -1.187364   \n",
      "1  1.126597 -0.455213 -0.745456 -0.004688  0.435047  0.020124 -1.462379   \n",
      "2  0.452105 -0.022213  0.838464  0.241109  0.327983  0.082965 -0.476717   \n",
      "3  0.968304  0.533344 -0.202185  0.053810 -0.080207 -0.648834 -0.713684   \n",
      "4  0.295106  0.091644  0.199261  0.070158  0.822878 -0.672111 -1.134171   \n",
      "\n",
      "        260       261       262  \n",
      "0 -2.503780 -0.499213 -0.093658  \n",
      "1 -2.593808 -1.481388 -0.937418  \n",
      "2 -2.075738 -1.606733 -0.505559  \n",
      "3 -2.367572 -0.629514  0.558260  \n",
      "4 -2.222975 -1.419191 -0.123572  \n",
      "\n",
      "[5 rows x 263 columns]\n",
      "训练XGBoost模型，使用32000个样本...\n",
      "[0]\ttrain-logloss:0.47326\tval-logloss:0.47291\n",
      "[10]\ttrain-logloss:0.14718\tval-logloss:0.14881\n",
      "[20]\ttrain-logloss:0.06463\tval-logloss:0.06693\n",
      "[30]\ttrain-logloss:0.02606\tval-logloss:0.02804\n",
      "[40]\ttrain-logloss:0.01145\tval-logloss:0.01335\n",
      "[50]\ttrain-logloss:0.00528\tval-logloss:0.00705\n",
      "[60]\ttrain-logloss:0.00231\tval-logloss:0.00397\n",
      "[70]\ttrain-logloss:0.00103\tval-logloss:0.00241\n",
      "[80]\ttrain-logloss:0.00055\tval-logloss:0.00189\n",
      "[90]\ttrain-logloss:0.00035\tval-logloss:0.00160\n",
      "[99]\ttrain-logloss:0.00026\tval-logloss:0.00143\n",
      "验证集性能: 精确率=1.0000, 召回率=0.9980, F1分数=0.9990\n",
      "模型已保存到: ./bert_xgb_room_matcher.joblib\n",
      "Top 10 特征重要性:\n",
      "  text_sim: 577.0482177734375\n",
      "  room_type_match: 464.2611083984375\n",
      "  Embedding feature 243: 203.9359130859375\n",
      "  bed_type_match: 175.8218536376953\n",
      "  Embedding feature 158: 141.30487060546875\n",
      "  Embedding feature 96: 87.51258850097656\n",
      "  Embedding feature 223: 76.88619232177734\n",
      "  Embedding feature 115: 58.21603775024414\n",
      "  Embedding feature 6: 53.957584381103516\n",
      "  Embedding feature 68: 52.173099517822266\n",
      "训练完成! 耗时: 647.54秒\n"
     ]
    },
    {
     "data": {
      "text/plain": [
       "<bert_xgb.BertXGBoostRoomMatcher at 0x12eba20d0>"
      ]
     },
     "execution_count": 7,
     "metadata": {},
     "output_type": "execute_result"
    }
   ],
   "source": [
    "\n",
    "\n",
    "ref_s = reference_rooms.iloc[0:10000]\n",
    "supplier_s = supplier_rooms.iloc[0:20000]\n",
    "matcher = BertXGBoostRoomMatcher(bert_model_name='prajjwal1/bert-tiny', batch_size=32) \n",
    "matcher.train(ref_s, supplier_s)\n",
    "    \n"
   ]
  },
  {
   "cell_type": "code",
   "execution_count": 6,
   "metadata": {},
   "outputs": [
    {
     "name": "stdout",
     "output_type": "stream",
     "text": [
      "加载BERT模型: prajjwal1/bert-tiny\n",
      "使用设备: cpu\n"
     ]
    },
    {
     "data": {
      "text/plain": [
       "True"
      ]
     },
     "execution_count": 6,
     "metadata": {},
     "output_type": "execute_result"
    }
   ],
   "source": [
    "matcher = BertXGBoostRoomMatcher(bert_model_name='prajjwal1/bert-tiny', batch_size=32) \n",
    "matcher.load_model()    "
   ]
  },
  {
   "cell_type": "code",
   "execution_count": 10,
   "metadata": {},
   "outputs": [
    {
     "name": "stdout",
     "output_type": "stream",
     "text": [
      "预测房间匹配...\n",
      "获取BERT嵌入...\n"
     ]
    },
    {
     "name": "stderr",
     "output_type": "stream",
     "text": [
      "BERT编码: 100%|██████████| 32/32 [00:00<00:00, 52.88it/s]\n",
      "BERT编码: 100%|██████████| 32/32 [00:00<00:00, 46.31it/s]\n"
     ]
    },
    {
     "name": "stdout",
     "output_type": "stream",
     "text": [
      "提取结构化特征...\n",
      "预测匹配...\n"
     ]
    },
    {
     "name": "stderr",
     "output_type": "stream",
     "text": [
      "预测匹配: 100%|██████████| 1000/1000 [00:16<00:00, 62.20it/s]"
     ]
    },
    {
     "name": "stdout",
     "output_type": "stream",
     "text": [
      "匹配完成! 耗时: 17.39秒\n",
      "找到613个匹配\n",
      "     reference_hotel_id  reference_room_id  \\\n",
      "0              13484077         1142730702   \n",
      "1              13462809         1142722063   \n",
      "2              13530116         1141968275   \n",
      "3              13530071         1142513784   \n",
      "4              13530384         1141970198   \n",
      "..                  ...                ...   \n",
      "608            13572897         1142832820   \n",
      "609            13572897         1142832823   \n",
      "610            13575457         1142836637   \n",
      "611            13575457         1142836648   \n",
      "612            13575457         1142836654   \n",
      "\n",
      "                        reference_room_name  supplier_room_id  \\\n",
      "0                       Double or Twin Room         201371774   \n",
      "1                                      Room         230705562   \n",
      "2                               Triple Room         201688876   \n",
      "3                                 Apartment         201891119   \n",
      "4                                      Room         230705562   \n",
      "..                                      ...               ...   \n",
      "608  Double Room, 1 Double Bed, Non Smoking         200043299   \n",
      "609     Twin Room, 2 Twin Beds, Non Smoking         314079153   \n",
      "610                      Family Triple Room         201119522   \n",
      "611                     Classic Double Room         201371774   \n",
      "612         Standard Single Room, 1 Bedroom         201311023   \n",
      "\n",
      "                  supplier_room_name  match_probability  \n",
      "0                        Double Room           0.999849  \n",
      "1                               Room           0.999430  \n",
      "2                        Triple Room           0.999818  \n",
      "3                          Apartment           0.999849  \n",
      "4                               Room           0.999430  \n",
      "..                               ...                ...  \n",
      "608  Room, 1 Double Bed, Non Smoking           0.999786  \n",
      "609   Room, 2 Twin Beds, Non Smoking           0.999765  \n",
      "610                      Family Room           0.999769  \n",
      "611                      Double Room           0.999849  \n",
      "612  Standard Single Room, 1 Bedroom           0.999839  \n",
      "\n",
      "[613 rows x 6 columns]\n"
     ]
    },
    {
     "name": "stderr",
     "output_type": "stream",
     "text": [
      "\n"
     ]
    }
   ],
   "source": [
    "    # 预测匹配\n",
    "ref_s = reference_rooms.iloc[0:1000]\n",
    "supplier_sp = supplier_rooms.iloc[20000:21000]\n",
    "matches = matcher.predict(ref_s, supplier_sp, threshold=0.9)\n",
    "print(matches)"
   ]
  },
  {
   "cell_type": "code",
   "execution_count": 15,
   "metadata": {},
   "outputs": [],
   "source": [
    "label_data = pd.read_csv('matches.csv')\n",
    "label_data['label'] = label_data['text_similarity'].apply(lambda x: 1 if x >0.9 else 0)"
   ]
  },
  {
   "cell_type": "code",
   "execution_count": 16,
   "metadata": {},
   "outputs": [
    {
     "data": {
      "text/html": [
       "<div>\n",
       "<style scoped>\n",
       "    .dataframe tbody tr th:only-of-type {\n",
       "        vertical-align: middle;\n",
       "    }\n",
       "\n",
       "    .dataframe tbody tr th {\n",
       "        vertical-align: top;\n",
       "    }\n",
       "\n",
       "    .dataframe thead th {\n",
       "        text-align: right;\n",
       "    }\n",
       "</style>\n",
       "<table border=\"1\" class=\"dataframe\">\n",
       "  <thead>\n",
       "    <tr style=\"text-align: right;\">\n",
       "      <th></th>\n",
       "      <th>reference_hotel_id</th>\n",
       "      <th>reference_room_id</th>\n",
       "      <th>reference_room_name</th>\n",
       "      <th>reference_processed_name</th>\n",
       "      <th>supplier_room_id</th>\n",
       "      <th>supplier_room_name</th>\n",
       "      <th>supplier_processed_name</th>\n",
       "      <th>text_similarity</th>\n",
       "      <th>label</th>\n",
       "    </tr>\n",
       "  </thead>\n",
       "  <tbody>\n",
       "    <tr>\n",
       "      <th>0</th>\n",
       "      <td>13431761</td>\n",
       "      <td>1142150973</td>\n",
       "      <td>Superior Room, Mountain View</td>\n",
       "      <td>superior room mountain view</td>\n",
       "      <td>201006793</td>\n",
       "      <td>Superior Room, Mountain View</td>\n",
       "      <td>superior room mountain view</td>\n",
       "      <td>1.0</td>\n",
       "      <td>1</td>\n",
       "    </tr>\n",
       "    <tr>\n",
       "      <th>1</th>\n",
       "      <td>13619916</td>\n",
       "      <td>1142062343</td>\n",
       "      <td>Grand Deluxe Room</td>\n",
       "      <td>grand deluxe room</td>\n",
       "      <td>230760088</td>\n",
       "      <td>Grand Deluxe Room</td>\n",
       "      <td>grand deluxe room</td>\n",
       "      <td>1.0</td>\n",
       "      <td>1</td>\n",
       "    </tr>\n",
       "    <tr>\n",
       "      <th>2</th>\n",
       "      <td>13645586</td>\n",
       "      <td>1142629660</td>\n",
       "      <td>Room, 2 Queen Beds, Accessible, Bathtub</td>\n",
       "      <td>room 2 queen bed accessible bathtub</td>\n",
       "      <td>201030617</td>\n",
       "      <td>Room, 2 Queen Beds, Accessible, Bathtub</td>\n",
       "      <td>room 2 queen bed accessible bathtub</td>\n",
       "      <td>1.0</td>\n",
       "      <td>1</td>\n",
       "    </tr>\n",
       "    <tr>\n",
       "      <th>3</th>\n",
       "      <td>13522822</td>\n",
       "      <td>1141957257</td>\n",
       "      <td>Honeymoon Suite</td>\n",
       "      <td>honeymoon suite</td>\n",
       "      <td>201155941</td>\n",
       "      <td>Honeymoon Suite</td>\n",
       "      <td>honeymoon suite</td>\n",
       "      <td>1.0</td>\n",
       "      <td>1</td>\n",
       "    </tr>\n",
       "    <tr>\n",
       "      <th>4</th>\n",
       "      <td>13485910</td>\n",
       "      <td>1142197380</td>\n",
       "      <td>Comfort Room</td>\n",
       "      <td>comfort room</td>\n",
       "      <td>218444778</td>\n",
       "      <td>Comfort Room</td>\n",
       "      <td>comfort room</td>\n",
       "      <td>1.0</td>\n",
       "      <td>1</td>\n",
       "    </tr>\n",
       "  </tbody>\n",
       "</table>\n",
       "</div>"
      ],
      "text/plain": [
       "   reference_hotel_id  reference_room_id  \\\n",
       "0            13431761         1142150973   \n",
       "1            13619916         1142062343   \n",
       "2            13645586         1142629660   \n",
       "3            13522822         1141957257   \n",
       "4            13485910         1142197380   \n",
       "\n",
       "                       reference_room_name  \\\n",
       "0             Superior Room, Mountain View   \n",
       "1                        Grand Deluxe Room   \n",
       "2  Room, 2 Queen Beds, Accessible, Bathtub   \n",
       "3                          Honeymoon Suite   \n",
       "4                             Comfort Room   \n",
       "\n",
       "              reference_processed_name  supplier_room_id  \\\n",
       "0          superior room mountain view         201006793   \n",
       "1                    grand deluxe room         230760088   \n",
       "2  room 2 queen bed accessible bathtub         201030617   \n",
       "3                      honeymoon suite         201155941   \n",
       "4                         comfort room         218444778   \n",
       "\n",
       "                        supplier_room_name  \\\n",
       "0             Superior Room, Mountain View   \n",
       "1                        Grand Deluxe Room   \n",
       "2  Room, 2 Queen Beds, Accessible, Bathtub   \n",
       "3                          Honeymoon Suite   \n",
       "4                             Comfort Room   \n",
       "\n",
       "               supplier_processed_name  text_similarity  label  \n",
       "0          superior room mountain view              1.0      1  \n",
       "1                    grand deluxe room              1.0      1  \n",
       "2  room 2 queen bed accessible bathtub              1.0      1  \n",
       "3                      honeymoon suite              1.0      1  \n",
       "4                         comfort room              1.0      1  "
      ]
     },
     "execution_count": 16,
     "metadata": {},
     "output_type": "execute_result"
    }
   ],
   "source": [
    "label_data.head()"
   ]
  },
  {
   "cell_type": "code",
   "execution_count": 17,
   "metadata": {},
   "outputs": [],
   "source": [
    "def evaluate_model(matcher, labeled_data, threshold=0.5):\n",
    "    \"\"\"使用标记数据评估模型性能\"\"\"\n",
    "    print(\"开始模型评估...\")\n",
    "    \n",
    "    # 准备评估数据\n",
    "    eval_data = []\n",
    "    \n",
    "    # 对每个标记样本进行预测\n",
    "    for i, row in labeled_data.iterrows():\n",
    "        ref_id = row['reference_room_id']\n",
    "        sup_id = row['supplier_room_id']\n",
    "        true_label = row['label']\n",
    "        \n",
    "        # 直接从标记数据获取房间名称\n",
    "        ref_name = row['reference_processed_name']\n",
    "        sup_name = row['supplier_processed_name']\n",
    "        \n",
    "        # 使用模型预测匹配概率\n",
    "        # 获取BERT嵌入\n",
    "        ref_embedding = matcher.get_bert_embeddings([ref_name])[0]\n",
    "        sup_embedding = matcher.get_bert_embeddings([sup_name])[0]\n",
    "        \n",
    "        # 提取结构化特征\n",
    "        ref_feature = matcher.extract_features(ref_name)\n",
    "        sup_feature = matcher.extract_features(sup_name)\n",
    "        \n",
    "        # 创建特征对\n",
    "        features = matcher.create_pair_features(\n",
    "            ref_embedding, sup_embedding,\n",
    "            ref_feature, sup_feature,\n",
    "            ref_name, sup_name\n",
    "        )\n",
    "        \n",
    "        # 应用特征掩码（如果有）\n",
    "        if hasattr(matcher, 'feature_mask') and matcher.feature_mask is not None:\n",
    "            features = features[matcher.feature_mask]\n",
    "        \n",
    "        # 预测\n",
    "        import xgboost as xgb\n",
    "        import numpy as np\n",
    "        dmatrix = xgb.DMatrix(np.array([features]))\n",
    "        prob = float(matcher.xgb_model.predict(dmatrix)[0])\n",
    "        \n",
    "        # 确定预测标签\n",
    "        pred_label = 1 if prob >= threshold else 0\n",
    "        \n",
    "        # 添加到评估数据\n",
    "        eval_data.append({\n",
    "            'reference_id': ref_id,\n",
    "            'reference_name': row['reference_room_name'],\n",
    "            'supplier_id': sup_id,\n",
    "            'supplier_name': row['supplier_room_name'],\n",
    "            'true_label': true_label,\n",
    "            'pred_prob': prob,\n",
    "            'pred_label': pred_label,\n",
    "            'correct': true_label == pred_label\n",
    "        })\n",
    "    \n",
    "    # 转换为DataFrame\n",
    "    eval_df = pd.DataFrame(eval_data)\n",
    "    \n",
    "    # 计算评估指标\n",
    "    total = len(eval_df)\n",
    "    correct = eval_df['correct'].sum()\n",
    "    accuracy = correct / total\n",
    "    \n",
    "    # 计算精确率、召回率和F1分数\n",
    "    from sklearn.metrics import precision_recall_fscore_support\n",
    "    precision, recall, f1, _ = precision_recall_fscore_support(\n",
    "        eval_df['true_label'], \n",
    "        eval_df['pred_label'], \n",
    "        average='binary'\n",
    "    )\n",
    "    \n",
    "    # 打印评估结果\n",
    "    print(\"\\n模型评估结果:\")\n",
    "    print(f\"总样本数: {total}\")\n",
    "    print(f\"正确预测: {correct} ({accuracy*100:.2f}%)\")\n",
    "    print(f\"精确率: {precision:.4f}\")\n",
    "    print(f\"召回率: {recall:.4f}\")\n",
    "    print(f\"F1分数: {f1:.4f}\")\n",
    "    \n",
    "    # 分析错误预测\n",
    "    errors = eval_df[eval_df['correct'] == False]\n",
    "    false_positives = errors[errors['pred_label'] == 1]\n",
    "    false_negatives = errors[errors['pred_label'] == 0]\n",
    "    \n",
    "    print(f\"\\n假阳性 (预测匹配但实际不匹配): {len(false_positives)}\")\n",
    "    print(f\"假阴性 (预测不匹配但实际匹配): {len(false_negatives)}\")\n",
    "    \n",
    "    # 显示一些错误示例\n",
    "    if len(false_positives) > 0:\n",
    "        print(\"\\n假阳性示例:\")\n",
    "        for i, row in false_positives.head(3).iterrows():\n",
    "            print(f\"参考房间: {row['reference_name']}\")\n",
    "            print(f\"供应商房间: {row['supplier_name']}\")\n",
    "            print(f\"预测概率: {row['pred_prob']:.4f}\")\n",
    "            print(\"---\")\n",
    "    \n",
    "    if len(false_negatives) > 0:\n",
    "        print(\"\\n假阴性示例:\")\n",
    "        for i, row in false_negatives.head(3).iterrows():\n",
    "            print(f\"参考房间: {row['reference_name']}\")\n",
    "            print(f\"供应商房间: {row['supplier_name']}\")\n",
    "            print(f\"预测概率: {row['pred_prob']:.4f}\")\n",
    "            print(\"---\")\n",
    "    \n",
    "    # 绘制ROC曲线和PR曲线\n",
    "    try:\n",
    "        import matplotlib.pyplot as plt\n",
    "        from sklearn.metrics import roc_curve, precision_recall_curve, auc\n",
    "        \n",
    "        # ROC曲线\n",
    "        fpr, tpr, _ = roc_curve(eval_df['true_label'], eval_df['pred_prob'])\n",
    "        roc_auc = auc(fpr, tpr)\n",
    "        \n",
    "        plt.figure(figsize=(10, 5))\n",
    "        plt.subplot(1, 2, 1)\n",
    "        plt.plot(fpr, tpr, color='darkorange', lw=2, label=f'ROC曲线 (AUC = {roc_auc:.2f})')\n",
    "        plt.plot([0, 1], [0, 1], color='navy', lw=2, linestyle='--')\n",
    "        plt.xlim([0.0, 1.0])\n",
    "        plt.ylim([0.0, 1.05])\n",
    "        plt.xlabel('假阳性率')\n",
    "        plt.ylabel('真阳性率')\n",
    "        plt.title('ROC曲线')\n",
    "        plt.legend(loc=\"lower right\")\n",
    "        \n",
    "        # PR曲线\n",
    "        precision_curve, recall_curve, _ = precision_recall_curve(eval_df['true_label'], eval_df['pred_prob'])\n",
    "        pr_auc = auc(recall_curve, precision_curve)\n",
    "        \n",
    "        plt.subplot(1, 2, 2)\n",
    "        plt.plot(recall_curve, precision_curve, color='blue', lw=2, label=f'PR曲线 (AUC = {pr_auc:.2f})')\n",
    "        plt.xlim([0.0, 1.0])\n",
    "        plt.ylim([0.0, 1.05])\n",
    "        plt.xlabel('召回率')\n",
    "        plt.ylabel('精确率')\n",
    "        plt.title('精确率-召回率曲线')\n",
    "        plt.legend(loc=\"lower left\")\n",
    "        \n",
    "        plt.tight_layout()\n",
    "        plt.savefig('model_evaluation.png')\n",
    "        print(\"\\n评估曲线已保存为 'model_evaluation.png'\")\n",
    "    except Exception as e:\n",
    "        print(f\"无法绘制评估曲线: {e}\")\n",
    "    \n",
    "    # 返回评估指标\n",
    "    metrics = {\n",
    "        'accuracy': accuracy,\n",
    "        'precision': precision,\n",
    "        'recall': recall,\n",
    "        'f1': f1,\n",
    "        'roc_auc': roc_auc if 'roc_auc' in locals() else None,\n",
    "        'pr_auc': pr_auc if 'pr_auc' in locals() else None\n",
    "    }\n",
    "    \n",
    "    return metrics, eval_df"
   ]
  },
  {
   "cell_type": "code",
   "execution_count": 18,
   "metadata": {},
   "outputs": [
    {
     "name": "stdout",
     "output_type": "stream",
     "text": [
      "开始模型评估...\n"
     ]
    },
    {
     "name": "stderr",
     "output_type": "stream",
     "text": [
      "BERT编码: 100%|██████████| 1/1 [00:00<00:00,  5.07it/s]\n"
     ]
    },
    {
     "name": "stdout",
     "output_type": "stream",
     "text": [
      "从缓存加载BERT嵌入...\n"
     ]
    },
    {
     "name": "stderr",
     "output_type": "stream",
     "text": [
      "BERT编码: 100%|██████████| 1/1 [00:00<00:00, 85.98it/s]\n"
     ]
    },
    {
     "name": "stdout",
     "output_type": "stream",
     "text": [
      "从缓存加载BERT嵌入...\n"
     ]
    },
    {
     "name": "stderr",
     "output_type": "stream",
     "text": [
      "BERT编码: 100%|██████████| 1/1 [00:00<00:00, 110.79it/s]\n"
     ]
    },
    {
     "name": "stdout",
     "output_type": "stream",
     "text": [
      "从缓存加载BERT嵌入...\n"
     ]
    },
    {
     "name": "stderr",
     "output_type": "stream",
     "text": [
      "BERT编码: 100%|██████████| 1/1 [00:00<00:00, 96.23it/s]\n"
     ]
    },
    {
     "name": "stdout",
     "output_type": "stream",
     "text": [
      "从缓存加载BERT嵌入...\n"
     ]
    },
    {
     "name": "stderr",
     "output_type": "stream",
     "text": [
      "BERT编码: 100%|██████████| 1/1 [00:00<00:00, 118.88it/s]\n"
     ]
    },
    {
     "name": "stdout",
     "output_type": "stream",
     "text": [
      "从缓存加载BERT嵌入...\n"
     ]
    },
    {
     "name": "stderr",
     "output_type": "stream",
     "text": [
      "BERT编码: 100%|██████████| 1/1 [00:00<00:00, 55.13it/s]\n"
     ]
    },
    {
     "name": "stdout",
     "output_type": "stream",
     "text": [
      "从缓存加载BERT嵌入...\n"
     ]
    },
    {
     "name": "stderr",
     "output_type": "stream",
     "text": [
      "BERT编码: 100%|██████████| 1/1 [00:00<00:00, 91.30it/s]\n"
     ]
    },
    {
     "name": "stdout",
     "output_type": "stream",
     "text": [
      "从缓存加载BERT嵌入...\n"
     ]
    },
    {
     "name": "stderr",
     "output_type": "stream",
     "text": [
      "BERT编码: 100%|██████████| 1/1 [00:00<00:00, 115.81it/s]\n"
     ]
    },
    {
     "name": "stdout",
     "output_type": "stream",
     "text": [
      "从缓存加载BERT嵌入...\n"
     ]
    },
    {
     "name": "stderr",
     "output_type": "stream",
     "text": [
      "BERT编码: 100%|██████████| 1/1 [00:00<00:00, 94.84it/s]\n"
     ]
    },
    {
     "name": "stdout",
     "output_type": "stream",
     "text": [
      "从缓存加载BERT嵌入...\n"
     ]
    },
    {
     "name": "stderr",
     "output_type": "stream",
     "text": [
      "BERT编码: 100%|██████████| 1/1 [00:00<00:00, 59.84it/s]\n"
     ]
    },
    {
     "name": "stdout",
     "output_type": "stream",
     "text": [
      "从缓存加载BERT嵌入...\n"
     ]
    },
    {
     "name": "stderr",
     "output_type": "stream",
     "text": [
      "BERT编码: 100%|██████████| 1/1 [00:00<00:00, 89.76it/s]\n"
     ]
    },
    {
     "name": "stdout",
     "output_type": "stream",
     "text": [
      "从缓存加载BERT嵌入...\n"
     ]
    },
    {
     "name": "stderr",
     "output_type": "stream",
     "text": [
      "BERT编码: 100%|██████████| 1/1 [00:00<00:00, 100.04it/s]\n"
     ]
    },
    {
     "name": "stdout",
     "output_type": "stream",
     "text": [
      "从缓存加载BERT嵌入...\n"
     ]
    },
    {
     "name": "stderr",
     "output_type": "stream",
     "text": [
      "BERT编码: 100%|██████████| 1/1 [00:00<00:00, 100.18it/s]\n"
     ]
    },
    {
     "name": "stdout",
     "output_type": "stream",
     "text": [
      "从缓存加载BERT嵌入...\n"
     ]
    },
    {
     "name": "stderr",
     "output_type": "stream",
     "text": [
      "BERT编码: 100%|██████████| 1/1 [00:00<00:00, 80.46it/s]\n"
     ]
    },
    {
     "name": "stdout",
     "output_type": "stream",
     "text": [
      "从缓存加载BERT嵌入...\n"
     ]
    },
    {
     "name": "stderr",
     "output_type": "stream",
     "text": [
      "BERT编码: 100%|██████████| 1/1 [00:00<00:00, 101.47it/s]\n"
     ]
    },
    {
     "name": "stdout",
     "output_type": "stream",
     "text": [
      "从缓存加载BERT嵌入...\n"
     ]
    },
    {
     "name": "stderr",
     "output_type": "stream",
     "text": [
      "BERT编码: 100%|██████████| 1/1 [00:00<00:00, 89.37it/s]\n"
     ]
    },
    {
     "name": "stdout",
     "output_type": "stream",
     "text": [
      "从缓存加载BERT嵌入...\n"
     ]
    },
    {
     "name": "stderr",
     "output_type": "stream",
     "text": [
      "BERT编码: 100%|██████████| 1/1 [00:00<00:00, 76.79it/s]\n"
     ]
    },
    {
     "name": "stdout",
     "output_type": "stream",
     "text": [
      "从缓存加载BERT嵌入...\n"
     ]
    },
    {
     "name": "stderr",
     "output_type": "stream",
     "text": [
      "BERT编码: 100%|██████████| 1/1 [00:00<00:00, 95.04it/s]\n"
     ]
    },
    {
     "name": "stdout",
     "output_type": "stream",
     "text": [
      "从缓存加载BERT嵌入...\n"
     ]
    },
    {
     "name": "stderr",
     "output_type": "stream",
     "text": [
      "BERT编码: 100%|██████████| 1/1 [00:00<00:00, 94.67it/s]\n"
     ]
    },
    {
     "name": "stdout",
     "output_type": "stream",
     "text": [
      "从缓存加载BERT嵌入...\n"
     ]
    },
    {
     "name": "stderr",
     "output_type": "stream",
     "text": [
      "BERT编码: 100%|██████████| 1/1 [00:00<00:00, 113.21it/s]\n"
     ]
    },
    {
     "name": "stdout",
     "output_type": "stream",
     "text": [
      "从缓存加载BERT嵌入...\n"
     ]
    },
    {
     "name": "stderr",
     "output_type": "stream",
     "text": [
      "BERT编码: 100%|██████████| 1/1 [00:00<00:00, 94.87it/s]\n"
     ]
    },
    {
     "name": "stdout",
     "output_type": "stream",
     "text": [
      "从缓存加载BERT嵌入...\n"
     ]
    },
    {
     "name": "stderr",
     "output_type": "stream",
     "text": [
      "BERT编码: 100%|██████████| 1/1 [00:00<00:00, 108.92it/s]\n"
     ]
    },
    {
     "name": "stdout",
     "output_type": "stream",
     "text": [
      "从缓存加载BERT嵌入...\n"
     ]
    },
    {
     "name": "stderr",
     "output_type": "stream",
     "text": [
      "BERT编码: 100%|██████████| 1/1 [00:00<00:00, 85.93it/s]\n"
     ]
    },
    {
     "name": "stdout",
     "output_type": "stream",
     "text": [
      "从缓存加载BERT嵌入...\n"
     ]
    },
    {
     "name": "stderr",
     "output_type": "stream",
     "text": [
      "BERT编码: 100%|██████████| 1/1 [00:00<00:00, 118.25it/s]\n"
     ]
    },
    {
     "name": "stdout",
     "output_type": "stream",
     "text": [
      "从缓存加载BERT嵌入...\n"
     ]
    },
    {
     "name": "stderr",
     "output_type": "stream",
     "text": [
      "BERT编码: 100%|██████████| 1/1 [00:00<00:00, 95.66it/s]\n"
     ]
    },
    {
     "name": "stdout",
     "output_type": "stream",
     "text": [
      "从缓存加载BERT嵌入...\n"
     ]
    },
    {
     "name": "stderr",
     "output_type": "stream",
     "text": [
      "BERT编码: 100%|██████████| 1/1 [00:00<00:00, 62.32it/s]\n"
     ]
    },
    {
     "name": "stdout",
     "output_type": "stream",
     "text": [
      "从缓存加载BERT嵌入...\n"
     ]
    },
    {
     "name": "stderr",
     "output_type": "stream",
     "text": [
      "BERT编码: 100%|██████████| 1/1 [00:00<00:00, 102.74it/s]\n"
     ]
    },
    {
     "name": "stdout",
     "output_type": "stream",
     "text": [
      "从缓存加载BERT嵌入...\n"
     ]
    },
    {
     "name": "stderr",
     "output_type": "stream",
     "text": [
      "BERT编码: 100%|██████████| 1/1 [00:00<00:00,  7.54it/s]\n"
     ]
    },
    {
     "name": "stdout",
     "output_type": "stream",
     "text": [
      "从缓存加载BERT嵌入...\n"
     ]
    },
    {
     "name": "stderr",
     "output_type": "stream",
     "text": [
      "BERT编码: 100%|██████████| 1/1 [00:00<00:00, 29.83it/s]\n"
     ]
    },
    {
     "name": "stdout",
     "output_type": "stream",
     "text": [
      "从缓存加载BERT嵌入...\n"
     ]
    },
    {
     "name": "stderr",
     "output_type": "stream",
     "text": [
      "BERT编码: 100%|██████████| 1/1 [00:00<00:00, 50.63it/s]\n"
     ]
    },
    {
     "name": "stdout",
     "output_type": "stream",
     "text": [
      "从缓存加载BERT嵌入...\n"
     ]
    },
    {
     "name": "stderr",
     "output_type": "stream",
     "text": [
      "BERT编码: 100%|██████████| 1/1 [00:00<00:00, 89.65it/s]\n"
     ]
    },
    {
     "name": "stdout",
     "output_type": "stream",
     "text": [
      "从缓存加载BERT嵌入...\n"
     ]
    },
    {
     "name": "stderr",
     "output_type": "stream",
     "text": [
      "BERT编码: 100%|██████████| 1/1 [00:00<00:00, 87.74it/s]\n"
     ]
    },
    {
     "name": "stdout",
     "output_type": "stream",
     "text": [
      "从缓存加载BERT嵌入...\n"
     ]
    },
    {
     "name": "stderr",
     "output_type": "stream",
     "text": [
      "BERT编码: 100%|██████████| 1/1 [00:00<00:00, 101.29it/s]\n"
     ]
    },
    {
     "name": "stdout",
     "output_type": "stream",
     "text": [
      "从缓存加载BERT嵌入...\n"
     ]
    },
    {
     "name": "stderr",
     "output_type": "stream",
     "text": [
      "BERT编码: 100%|██████████| 1/1 [00:00<00:00, 90.71it/s]\n"
     ]
    },
    {
     "name": "stdout",
     "output_type": "stream",
     "text": [
      "从缓存加载BERT嵌入...\n"
     ]
    },
    {
     "name": "stderr",
     "output_type": "stream",
     "text": [
      "BERT编码: 100%|██████████| 1/1 [00:00<00:00, 120.15it/s]\n"
     ]
    },
    {
     "name": "stdout",
     "output_type": "stream",
     "text": [
      "从缓存加载BERT嵌入...\n"
     ]
    },
    {
     "name": "stderr",
     "output_type": "stream",
     "text": [
      "BERT编码: 100%|██████████| 1/1 [00:00<00:00, 100.38it/s]\n"
     ]
    },
    {
     "name": "stdout",
     "output_type": "stream",
     "text": [
      "从缓存加载BERT嵌入...\n"
     ]
    },
    {
     "name": "stderr",
     "output_type": "stream",
     "text": [
      "BERT编码: 100%|██████████| 1/1 [00:00<00:00, 68.31it/s]\n"
     ]
    },
    {
     "name": "stdout",
     "output_type": "stream",
     "text": [
      "从缓存加载BERT嵌入...\n"
     ]
    },
    {
     "name": "stderr",
     "output_type": "stream",
     "text": [
      "BERT编码: 100%|██████████| 1/1 [00:00<00:00, 78.61it/s]\n"
     ]
    },
    {
     "name": "stdout",
     "output_type": "stream",
     "text": [
      "从缓存加载BERT嵌入...\n"
     ]
    },
    {
     "name": "stderr",
     "output_type": "stream",
     "text": [
      "BERT编码: 100%|██████████| 1/1 [00:00<00:00, 54.98it/s]\n"
     ]
    },
    {
     "name": "stdout",
     "output_type": "stream",
     "text": [
      "从缓存加载BERT嵌入...\n"
     ]
    },
    {
     "name": "stderr",
     "output_type": "stream",
     "text": [
      "BERT编码: 100%|██████████| 1/1 [00:00<00:00, 92.17it/s]\n"
     ]
    },
    {
     "name": "stdout",
     "output_type": "stream",
     "text": [
      "从缓存加载BERT嵌入...\n"
     ]
    },
    {
     "name": "stderr",
     "output_type": "stream",
     "text": [
      "BERT编码: 100%|██████████| 1/1 [00:00<00:00, 89.28it/s]\n"
     ]
    },
    {
     "name": "stdout",
     "output_type": "stream",
     "text": [
      "从缓存加载BERT嵌入...\n"
     ]
    },
    {
     "name": "stderr",
     "output_type": "stream",
     "text": [
      "BERT编码: 100%|██████████| 1/1 [00:00<00:00, 96.33it/s]\n"
     ]
    },
    {
     "name": "stdout",
     "output_type": "stream",
     "text": [
      "从缓存加载BERT嵌入...\n"
     ]
    },
    {
     "name": "stderr",
     "output_type": "stream",
     "text": [
      "BERT编码: 100%|██████████| 1/1 [00:00<00:00, 93.00it/s]\n"
     ]
    },
    {
     "name": "stdout",
     "output_type": "stream",
     "text": [
      "从缓存加载BERT嵌入...\n"
     ]
    },
    {
     "name": "stderr",
     "output_type": "stream",
     "text": [
      "BERT编码: 100%|██████████| 1/1 [00:00<00:00, 87.38it/s]\n"
     ]
    },
    {
     "name": "stdout",
     "output_type": "stream",
     "text": [
      "从缓存加载BERT嵌入...\n"
     ]
    },
    {
     "name": "stderr",
     "output_type": "stream",
     "text": [
      "BERT编码: 100%|██████████| 1/1 [00:00<00:00, 93.34it/s]\n"
     ]
    },
    {
     "name": "stdout",
     "output_type": "stream",
     "text": [
      "从缓存加载BERT嵌入...\n"
     ]
    },
    {
     "name": "stderr",
     "output_type": "stream",
     "text": [
      "BERT编码: 100%|██████████| 1/1 [00:00<00:00, 117.36it/s]\n"
     ]
    },
    {
     "name": "stdout",
     "output_type": "stream",
     "text": [
      "从缓存加载BERT嵌入...\n"
     ]
    },
    {
     "name": "stderr",
     "output_type": "stream",
     "text": [
      "BERT编码: 100%|██████████| 1/1 [00:00<00:00, 62.68it/s]\n"
     ]
    },
    {
     "name": "stdout",
     "output_type": "stream",
     "text": [
      "从缓存加载BERT嵌入...\n"
     ]
    },
    {
     "name": "stderr",
     "output_type": "stream",
     "text": [
      "BERT编码: 100%|██████████| 1/1 [00:00<00:00, 118.87it/s]\n"
     ]
    },
    {
     "name": "stdout",
     "output_type": "stream",
     "text": [
      "从缓存加载BERT嵌入...\n"
     ]
    },
    {
     "name": "stderr",
     "output_type": "stream",
     "text": [
      "BERT编码: 100%|██████████| 1/1 [00:00<00:00, 94.75it/s]\n"
     ]
    },
    {
     "name": "stdout",
     "output_type": "stream",
     "text": [
      "从缓存加载BERT嵌入...\n"
     ]
    },
    {
     "name": "stderr",
     "output_type": "stream",
     "text": [
      "BERT编码: 100%|██████████| 1/1 [00:00<00:00, 98.42it/s]\n"
     ]
    },
    {
     "name": "stdout",
     "output_type": "stream",
     "text": [
      "从缓存加载BERT嵌入...\n"
     ]
    },
    {
     "name": "stderr",
     "output_type": "stream",
     "text": [
      "BERT编码: 100%|██████████| 1/1 [00:00<00:00, 50.99it/s]\n"
     ]
    },
    {
     "name": "stdout",
     "output_type": "stream",
     "text": [
      "从缓存加载BERT嵌入...\n"
     ]
    },
    {
     "name": "stderr",
     "output_type": "stream",
     "text": [
      "BERT编码: 100%|██████████| 1/1 [00:00<00:00, 91.14it/s]\n"
     ]
    },
    {
     "name": "stdout",
     "output_type": "stream",
     "text": [
      "从缓存加载BERT嵌入...\n"
     ]
    },
    {
     "name": "stderr",
     "output_type": "stream",
     "text": [
      "BERT编码: 100%|██████████| 1/1 [00:00<00:00, 92.43it/s]\n"
     ]
    },
    {
     "name": "stdout",
     "output_type": "stream",
     "text": [
      "从缓存加载BERT嵌入...\n"
     ]
    },
    {
     "name": "stderr",
     "output_type": "stream",
     "text": [
      "BERT编码: 100%|██████████| 1/1 [00:00<00:00, 83.66it/s]\n"
     ]
    },
    {
     "name": "stdout",
     "output_type": "stream",
     "text": [
      "从缓存加载BERT嵌入...\n"
     ]
    },
    {
     "name": "stderr",
     "output_type": "stream",
     "text": [
      "BERT编码: 100%|██████████| 1/1 [00:00<00:00, 82.02it/s]\n"
     ]
    },
    {
     "name": "stdout",
     "output_type": "stream",
     "text": [
      "从缓存加载BERT嵌入...\n"
     ]
    },
    {
     "name": "stderr",
     "output_type": "stream",
     "text": [
      "BERT编码: 100%|██████████| 1/1 [00:00<00:00, 97.09it/s]\n"
     ]
    },
    {
     "name": "stdout",
     "output_type": "stream",
     "text": [
      "从缓存加载BERT嵌入...\n"
     ]
    },
    {
     "name": "stderr",
     "output_type": "stream",
     "text": [
      "BERT编码: 100%|██████████| 1/1 [00:00<00:00, 55.75it/s]\n"
     ]
    },
    {
     "name": "stdout",
     "output_type": "stream",
     "text": [
      "从缓存加载BERT嵌入...\n"
     ]
    },
    {
     "name": "stderr",
     "output_type": "stream",
     "text": [
      "BERT编码: 100%|██████████| 1/1 [00:00<00:00, 110.58it/s]\n"
     ]
    },
    {
     "name": "stdout",
     "output_type": "stream",
     "text": [
      "从缓存加载BERT嵌入...\n"
     ]
    },
    {
     "name": "stderr",
     "output_type": "stream",
     "text": [
      "BERT编码: 100%|██████████| 1/1 [00:00<00:00, 109.77it/s]\n"
     ]
    },
    {
     "name": "stdout",
     "output_type": "stream",
     "text": [
      "从缓存加载BERT嵌入...\n"
     ]
    },
    {
     "name": "stderr",
     "output_type": "stream",
     "text": [
      "BERT编码: 100%|██████████| 1/1 [00:00<00:00, 80.70it/s]\n"
     ]
    },
    {
     "name": "stdout",
     "output_type": "stream",
     "text": [
      "从缓存加载BERT嵌入...\n"
     ]
    },
    {
     "name": "stderr",
     "output_type": "stream",
     "text": [
      "BERT编码: 100%|██████████| 1/1 [00:00<00:00, 116.28it/s]\n"
     ]
    },
    {
     "name": "stdout",
     "output_type": "stream",
     "text": [
      "从缓存加载BERT嵌入...\n"
     ]
    },
    {
     "name": "stderr",
     "output_type": "stream",
     "text": [
      "BERT编码: 100%|██████████| 1/1 [00:00<00:00, 94.35it/s]\n"
     ]
    },
    {
     "name": "stdout",
     "output_type": "stream",
     "text": [
      "从缓存加载BERT嵌入...\n"
     ]
    },
    {
     "name": "stderr",
     "output_type": "stream",
     "text": [
      "BERT编码: 100%|██████████| 1/1 [00:00<00:00, 92.92it/s]\n"
     ]
    },
    {
     "name": "stdout",
     "output_type": "stream",
     "text": [
      "从缓存加载BERT嵌入...\n"
     ]
    },
    {
     "name": "stderr",
     "output_type": "stream",
     "text": [
      "BERT编码: 100%|██████████| 1/1 [00:00<00:00, 97.86it/s]\n"
     ]
    },
    {
     "name": "stdout",
     "output_type": "stream",
     "text": [
      "从缓存加载BERT嵌入...\n"
     ]
    },
    {
     "name": "stderr",
     "output_type": "stream",
     "text": [
      "BERT编码: 100%|██████████| 1/1 [00:00<00:00, 104.31it/s]\n"
     ]
    },
    {
     "name": "stdout",
     "output_type": "stream",
     "text": [
      "从缓存加载BERT嵌入...\n"
     ]
    },
    {
     "name": "stderr",
     "output_type": "stream",
     "text": [
      "BERT编码: 100%|██████████| 1/1 [00:00<00:00, 91.86it/s]\n"
     ]
    },
    {
     "name": "stdout",
     "output_type": "stream",
     "text": [
      "从缓存加载BERT嵌入...\n"
     ]
    },
    {
     "name": "stderr",
     "output_type": "stream",
     "text": [
      "BERT编码: 100%|██████████| 1/1 [00:00<00:00, 87.97it/s]\n"
     ]
    },
    {
     "name": "stdout",
     "output_type": "stream",
     "text": [
      "从缓存加载BERT嵌入...\n"
     ]
    },
    {
     "name": "stderr",
     "output_type": "stream",
     "text": [
      "BERT编码: 100%|██████████| 1/1 [00:00<00:00, 104.10it/s]\n"
     ]
    },
    {
     "name": "stdout",
     "output_type": "stream",
     "text": [
      "从缓存加载BERT嵌入...\n",
      "从缓存加载BERT嵌入...\n",
      "从缓存加载BERT嵌入...\n"
     ]
    },
    {
     "name": "stderr",
     "output_type": "stream",
     "text": [
      "BERT编码: 100%|██████████| 1/1 [00:00<00:00, 77.33it/s]\n"
     ]
    },
    {
     "name": "stdout",
     "output_type": "stream",
     "text": [
      "从缓存加载BERT嵌入...\n"
     ]
    },
    {
     "name": "stderr",
     "output_type": "stream",
     "text": [
      "BERT编码: 100%|██████████| 1/1 [00:00<00:00, 101.66it/s]\n"
     ]
    },
    {
     "name": "stdout",
     "output_type": "stream",
     "text": [
      "从缓存加载BERT嵌入...\n"
     ]
    },
    {
     "name": "stderr",
     "output_type": "stream",
     "text": [
      "BERT编码: 100%|██████████| 1/1 [00:00<00:00, 115.86it/s]\n"
     ]
    },
    {
     "name": "stdout",
     "output_type": "stream",
     "text": [
      "从缓存加载BERT嵌入...\n"
     ]
    },
    {
     "name": "stderr",
     "output_type": "stream",
     "text": [
      "BERT编码: 100%|██████████| 1/1 [00:00<00:00, 102.93it/s]\n"
     ]
    },
    {
     "name": "stdout",
     "output_type": "stream",
     "text": [
      "从缓存加载BERT嵌入...\n"
     ]
    },
    {
     "name": "stderr",
     "output_type": "stream",
     "text": [
      "BERT编码: 100%|██████████| 1/1 [00:00<00:00, 123.61it/s]\n"
     ]
    },
    {
     "name": "stdout",
     "output_type": "stream",
     "text": [
      "从缓存加载BERT嵌入...\n"
     ]
    },
    {
     "name": "stderr",
     "output_type": "stream",
     "text": [
      "BERT编码: 100%|██████████| 1/1 [00:00<00:00, 95.99it/s]\n"
     ]
    },
    {
     "name": "stdout",
     "output_type": "stream",
     "text": [
      "从缓存加载BERT嵌入...\n"
     ]
    },
    {
     "name": "stderr",
     "output_type": "stream",
     "text": [
      "BERT编码: 100%|██████████| 1/1 [00:00<00:00, 85.29it/s]\n"
     ]
    },
    {
     "name": "stdout",
     "output_type": "stream",
     "text": [
      "从缓存加载BERT嵌入...\n"
     ]
    },
    {
     "name": "stderr",
     "output_type": "stream",
     "text": [
      "BERT编码: 100%|██████████| 1/1 [00:00<00:00, 107.43it/s]\n"
     ]
    },
    {
     "name": "stdout",
     "output_type": "stream",
     "text": [
      "从缓存加载BERT嵌入...\n"
     ]
    },
    {
     "name": "stderr",
     "output_type": "stream",
     "text": [
      "BERT编码: 100%|██████████| 1/1 [00:00<00:00, 103.68it/s]\n"
     ]
    },
    {
     "name": "stdout",
     "output_type": "stream",
     "text": [
      "从缓存加载BERT嵌入...\n"
     ]
    },
    {
     "name": "stderr",
     "output_type": "stream",
     "text": [
      "BERT编码: 100%|██████████| 1/1 [00:00<00:00, 111.91it/s]\n"
     ]
    },
    {
     "name": "stdout",
     "output_type": "stream",
     "text": [
      "从缓存加载BERT嵌入...\n"
     ]
    },
    {
     "name": "stderr",
     "output_type": "stream",
     "text": [
      "BERT编码: 100%|██████████| 1/1 [00:00<00:00, 102.78it/s]\n"
     ]
    },
    {
     "name": "stdout",
     "output_type": "stream",
     "text": [
      "从缓存加载BERT嵌入...\n"
     ]
    },
    {
     "name": "stderr",
     "output_type": "stream",
     "text": [
      "BERT编码: 100%|██████████| 1/1 [00:00<00:00, 85.42it/s]\n"
     ]
    },
    {
     "name": "stdout",
     "output_type": "stream",
     "text": [
      "从缓存加载BERT嵌入...\n"
     ]
    },
    {
     "name": "stderr",
     "output_type": "stream",
     "text": [
      "BERT编码: 100%|██████████| 1/1 [00:00<00:00, 90.10it/s]\n"
     ]
    },
    {
     "name": "stdout",
     "output_type": "stream",
     "text": [
      "从缓存加载BERT嵌入...\n"
     ]
    },
    {
     "name": "stderr",
     "output_type": "stream",
     "text": [
      "BERT编码: 100%|██████████| 1/1 [00:00<00:00, 64.31it/s]\n"
     ]
    },
    {
     "name": "stdout",
     "output_type": "stream",
     "text": [
      "从缓存加载BERT嵌入...\n"
     ]
    },
    {
     "name": "stderr",
     "output_type": "stream",
     "text": [
      "BERT编码: 100%|██████████| 1/1 [00:00<00:00, 84.90it/s]\n"
     ]
    },
    {
     "name": "stdout",
     "output_type": "stream",
     "text": [
      "从缓存加载BERT嵌入...\n"
     ]
    },
    {
     "name": "stderr",
     "output_type": "stream",
     "text": [
      "BERT编码: 100%|██████████| 1/1 [00:00<00:00, 104.50it/s]\n"
     ]
    },
    {
     "name": "stdout",
     "output_type": "stream",
     "text": [
      "从缓存加载BERT嵌入...\n"
     ]
    },
    {
     "name": "stderr",
     "output_type": "stream",
     "text": [
      "BERT编码: 100%|██████████| 1/1 [00:00<00:00, 101.77it/s]\n"
     ]
    },
    {
     "name": "stdout",
     "output_type": "stream",
     "text": [
      "从缓存加载BERT嵌入...\n"
     ]
    },
    {
     "name": "stderr",
     "output_type": "stream",
     "text": [
      "BERT编码: 100%|██████████| 1/1 [00:00<00:00, 94.81it/s]\n"
     ]
    },
    {
     "name": "stdout",
     "output_type": "stream",
     "text": [
      "从缓存加载BERT嵌入...\n"
     ]
    },
    {
     "name": "stderr",
     "output_type": "stream",
     "text": [
      "BERT编码: 100%|██████████| 1/1 [00:00<00:00,  7.88it/s]\n"
     ]
    },
    {
     "name": "stdout",
     "output_type": "stream",
     "text": [
      "从缓存加载BERT嵌入...\n"
     ]
    },
    {
     "name": "stderr",
     "output_type": "stream",
     "text": [
      "BERT编码: 100%|██████████| 1/1 [00:00<00:00, 31.82it/s]\n"
     ]
    },
    {
     "name": "stdout",
     "output_type": "stream",
     "text": [
      "从缓存加载BERT嵌入...\n"
     ]
    },
    {
     "name": "stderr",
     "output_type": "stream",
     "text": [
      "BERT编码: 100%|██████████| 1/1 [00:00<00:00, 115.18it/s]\n"
     ]
    },
    {
     "name": "stdout",
     "output_type": "stream",
     "text": [
      "从缓存加载BERT嵌入...\n"
     ]
    },
    {
     "name": "stderr",
     "output_type": "stream",
     "text": [
      "BERT编码: 100%|██████████| 1/1 [00:00<00:00, 111.22it/s]\n"
     ]
    },
    {
     "name": "stdout",
     "output_type": "stream",
     "text": [
      "从缓存加载BERT嵌入...\n"
     ]
    },
    {
     "name": "stderr",
     "output_type": "stream",
     "text": [
      "BERT编码: 100%|██████████| 1/1 [00:00<00:00, 49.48it/s]\n"
     ]
    },
    {
     "name": "stdout",
     "output_type": "stream",
     "text": [
      "从缓存加载BERT嵌入...\n"
     ]
    },
    {
     "name": "stderr",
     "output_type": "stream",
     "text": [
      "BERT编码: 100%|██████████| 1/1 [00:00<00:00, 103.11it/s]\n"
     ]
    },
    {
     "name": "stdout",
     "output_type": "stream",
     "text": [
      "从缓存加载BERT嵌入...\n"
     ]
    },
    {
     "name": "stderr",
     "output_type": "stream",
     "text": [
      "BERT编码: 100%|██████████| 1/1 [00:00<00:00, 89.05it/s]\n"
     ]
    },
    {
     "name": "stdout",
     "output_type": "stream",
     "text": [
      "从缓存加载BERT嵌入...\n"
     ]
    },
    {
     "name": "stderr",
     "output_type": "stream",
     "text": [
      "BERT编码: 100%|██████████| 1/1 [00:00<00:00, 97.76it/s]\n"
     ]
    },
    {
     "name": "stdout",
     "output_type": "stream",
     "text": [
      "从缓存加载BERT嵌入...\n"
     ]
    },
    {
     "name": "stderr",
     "output_type": "stream",
     "text": [
      "BERT编码: 100%|██████████| 1/1 [00:00<00:00, 107.68it/s]\n"
     ]
    },
    {
     "name": "stdout",
     "output_type": "stream",
     "text": [
      "从缓存加载BERT嵌入...\n"
     ]
    },
    {
     "name": "stderr",
     "output_type": "stream",
     "text": [
      "BERT编码: 100%|██████████| 1/1 [00:00<00:00, 93.71it/s]\n"
     ]
    },
    {
     "name": "stdout",
     "output_type": "stream",
     "text": [
      "从缓存加载BERT嵌入...\n"
     ]
    },
    {
     "name": "stderr",
     "output_type": "stream",
     "text": [
      "BERT编码: 100%|██████████| 1/1 [00:00<00:00, 115.08it/s]\n"
     ]
    },
    {
     "name": "stdout",
     "output_type": "stream",
     "text": [
      "从缓存加载BERT嵌入...\n"
     ]
    },
    {
     "name": "stderr",
     "output_type": "stream",
     "text": [
      "BERT编码: 100%|██████████| 1/1 [00:00<00:00, 86.31it/s]\n"
     ]
    },
    {
     "name": "stdout",
     "output_type": "stream",
     "text": [
      "从缓存加载BERT嵌入...\n"
     ]
    },
    {
     "name": "stderr",
     "output_type": "stream",
     "text": [
      "BERT编码: 100%|██████████| 1/1 [00:00<00:00, 96.01it/s]\n"
     ]
    },
    {
     "name": "stdout",
     "output_type": "stream",
     "text": [
      "从缓存加载BERT嵌入...\n"
     ]
    },
    {
     "name": "stderr",
     "output_type": "stream",
     "text": [
      "BERT编码: 100%|██████████| 1/1 [00:00<00:00, 108.37it/s]\n"
     ]
    },
    {
     "name": "stdout",
     "output_type": "stream",
     "text": [
      "从缓存加载BERT嵌入...\n"
     ]
    },
    {
     "name": "stderr",
     "output_type": "stream",
     "text": [
      "BERT编码: 100%|██████████| 1/1 [00:00<00:00, 102.63it/s]\n"
     ]
    },
    {
     "name": "stdout",
     "output_type": "stream",
     "text": [
      "从缓存加载BERT嵌入...\n"
     ]
    },
    {
     "name": "stderr",
     "output_type": "stream",
     "text": [
      "BERT编码: 100%|██████████| 1/1 [00:00<00:00, 117.11it/s]\n"
     ]
    },
    {
     "name": "stdout",
     "output_type": "stream",
     "text": [
      "从缓存加载BERT嵌入...\n"
     ]
    },
    {
     "name": "stderr",
     "output_type": "stream",
     "text": [
      "BERT编码: 100%|██████████| 1/1 [00:00<00:00, 92.22it/s]\n"
     ]
    },
    {
     "name": "stdout",
     "output_type": "stream",
     "text": [
      "从缓存加载BERT嵌入...\n"
     ]
    },
    {
     "name": "stderr",
     "output_type": "stream",
     "text": [
      "BERT编码: 100%|██████████| 1/1 [00:00<00:00, 87.26it/s]\n"
     ]
    },
    {
     "name": "stdout",
     "output_type": "stream",
     "text": [
      "从缓存加载BERT嵌入...\n"
     ]
    },
    {
     "name": "stderr",
     "output_type": "stream",
     "text": [
      "BERT编码: 100%|██████████| 1/1 [00:00<00:00, 100.21it/s]\n"
     ]
    },
    {
     "name": "stdout",
     "output_type": "stream",
     "text": [
      "从缓存加载BERT嵌入...\n"
     ]
    },
    {
     "name": "stderr",
     "output_type": "stream",
     "text": [
      "BERT编码: 100%|██████████| 1/1 [00:00<00:00, 124.28it/s]\n"
     ]
    },
    {
     "name": "stdout",
     "output_type": "stream",
     "text": [
      "从缓存加载BERT嵌入...\n"
     ]
    },
    {
     "name": "stderr",
     "output_type": "stream",
     "text": [
      "BERT编码: 100%|██████████| 1/1 [00:00<00:00, 98.39it/s]\n"
     ]
    },
    {
     "name": "stdout",
     "output_type": "stream",
     "text": [
      "从缓存加载BERT嵌入...\n"
     ]
    },
    {
     "name": "stderr",
     "output_type": "stream",
     "text": [
      "BERT编码: 100%|██████████| 1/1 [00:00<00:00, 77.33it/s]\n"
     ]
    },
    {
     "name": "stdout",
     "output_type": "stream",
     "text": [
      "从缓存加载BERT嵌入...\n"
     ]
    },
    {
     "name": "stderr",
     "output_type": "stream",
     "text": [
      "BERT编码: 100%|██████████| 1/1 [00:00<00:00, 90.34it/s]\n"
     ]
    },
    {
     "name": "stdout",
     "output_type": "stream",
     "text": [
      "从缓存加载BERT嵌入...\n"
     ]
    },
    {
     "name": "stderr",
     "output_type": "stream",
     "text": [
      "BERT编码: 100%|██████████| 1/1 [00:00<00:00, 112.62it/s]\n"
     ]
    },
    {
     "name": "stdout",
     "output_type": "stream",
     "text": [
      "从缓存加载BERT嵌入...\n"
     ]
    },
    {
     "name": "stderr",
     "output_type": "stream",
     "text": [
      "BERT编码: 100%|██████████| 1/1 [00:00<00:00, 99.22it/s]\n"
     ]
    },
    {
     "name": "stdout",
     "output_type": "stream",
     "text": [
      "从缓存加载BERT嵌入...\n"
     ]
    },
    {
     "name": "stderr",
     "output_type": "stream",
     "text": [
      "BERT编码: 100%|██████████| 1/1 [00:00<00:00, 106.61it/s]\n"
     ]
    },
    {
     "name": "stdout",
     "output_type": "stream",
     "text": [
      "从缓存加载BERT嵌入...\n"
     ]
    },
    {
     "name": "stderr",
     "output_type": "stream",
     "text": [
      "BERT编码: 100%|██████████| 1/1 [00:00<00:00, 101.90it/s]\n"
     ]
    },
    {
     "name": "stdout",
     "output_type": "stream",
     "text": [
      "从缓存加载BERT嵌入...\n"
     ]
    },
    {
     "name": "stderr",
     "output_type": "stream",
     "text": [
      "BERT编码: 100%|██████████| 1/1 [00:00<00:00, 91.60it/s]\n"
     ]
    },
    {
     "name": "stdout",
     "output_type": "stream",
     "text": [
      "从缓存加载BERT嵌入...\n"
     ]
    },
    {
     "name": "stderr",
     "output_type": "stream",
     "text": [
      "BERT编码: 100%|██████████| 1/1 [00:00<00:00, 115.13it/s]\n"
     ]
    },
    {
     "name": "stdout",
     "output_type": "stream",
     "text": [
      "从缓存加载BERT嵌入...\n"
     ]
    },
    {
     "name": "stderr",
     "output_type": "stream",
     "text": [
      "BERT编码: 100%|██████████| 1/1 [00:00<00:00, 126.01it/s]\n"
     ]
    },
    {
     "name": "stdout",
     "output_type": "stream",
     "text": [
      "从缓存加载BERT嵌入...\n"
     ]
    },
    {
     "name": "stderr",
     "output_type": "stream",
     "text": [
      "BERT编码: 100%|██████████| 1/1 [00:00<00:00, 96.73it/s]\n"
     ]
    },
    {
     "name": "stdout",
     "output_type": "stream",
     "text": [
      "从缓存加载BERT嵌入...\n"
     ]
    },
    {
     "name": "stderr",
     "output_type": "stream",
     "text": [
      "BERT编码: 100%|██████████| 1/1 [00:00<00:00, 83.31it/s]\n"
     ]
    },
    {
     "name": "stdout",
     "output_type": "stream",
     "text": [
      "从缓存加载BERT嵌入...\n"
     ]
    },
    {
     "name": "stderr",
     "output_type": "stream",
     "text": [
      "BERT编码: 100%|██████████| 1/1 [00:00<00:00, 94.03it/s]\n"
     ]
    },
    {
     "name": "stdout",
     "output_type": "stream",
     "text": [
      "从缓存加载BERT嵌入...\n"
     ]
    },
    {
     "name": "stderr",
     "output_type": "stream",
     "text": [
      "BERT编码: 100%|██████████| 1/1 [00:00<00:00, 92.09it/s]\n"
     ]
    },
    {
     "name": "stdout",
     "output_type": "stream",
     "text": [
      "从缓存加载BERT嵌入...\n"
     ]
    },
    {
     "name": "stderr",
     "output_type": "stream",
     "text": [
      "BERT编码: 100%|██████████| 1/1 [00:00<00:00, 97.98it/s]\n"
     ]
    },
    {
     "name": "stdout",
     "output_type": "stream",
     "text": [
      "从缓存加载BERT嵌入...\n"
     ]
    },
    {
     "name": "stderr",
     "output_type": "stream",
     "text": [
      "BERT编码: 100%|██████████| 1/1 [00:00<00:00, 75.52it/s]\n"
     ]
    },
    {
     "name": "stdout",
     "output_type": "stream",
     "text": [
      "从缓存加载BERT嵌入...\n"
     ]
    },
    {
     "name": "stderr",
     "output_type": "stream",
     "text": [
      "BERT编码: 100%|██████████| 1/1 [00:00<00:00, 98.47it/s]\n"
     ]
    },
    {
     "name": "stdout",
     "output_type": "stream",
     "text": [
      "从缓存加载BERT嵌入...\n"
     ]
    },
    {
     "name": "stderr",
     "output_type": "stream",
     "text": [
      "BERT编码: 100%|██████████| 1/1 [00:00<00:00, 109.29it/s]\n"
     ]
    },
    {
     "name": "stdout",
     "output_type": "stream",
     "text": [
      "从缓存加载BERT嵌入...\n"
     ]
    },
    {
     "name": "stderr",
     "output_type": "stream",
     "text": [
      "BERT编码: 100%|██████████| 1/1 [00:00<00:00, 105.47it/s]\n"
     ]
    },
    {
     "name": "stdout",
     "output_type": "stream",
     "text": [
      "从缓存加载BERT嵌入...\n"
     ]
    },
    {
     "name": "stderr",
     "output_type": "stream",
     "text": [
      "BERT编码: 100%|██████████| 1/1 [00:00<00:00, 89.86it/s]\n"
     ]
    },
    {
     "name": "stdout",
     "output_type": "stream",
     "text": [
      "从缓存加载BERT嵌入...\n"
     ]
    },
    {
     "name": "stderr",
     "output_type": "stream",
     "text": [
      "BERT编码: 100%|██████████| 1/1 [00:00<00:00, 91.14it/s]\n"
     ]
    },
    {
     "name": "stdout",
     "output_type": "stream",
     "text": [
      "从缓存加载BERT嵌入...\n"
     ]
    },
    {
     "name": "stderr",
     "output_type": "stream",
     "text": [
      "BERT编码: 100%|██████████| 1/1 [00:00<00:00, 78.95it/s]\n"
     ]
    },
    {
     "name": "stdout",
     "output_type": "stream",
     "text": [
      "从缓存加载BERT嵌入...\n"
     ]
    },
    {
     "name": "stderr",
     "output_type": "stream",
     "text": [
      "BERT编码: 100%|██████████| 1/1 [00:00<00:00, 93.39it/s]\n"
     ]
    },
    {
     "name": "stdout",
     "output_type": "stream",
     "text": [
      "从缓存加载BERT嵌入...\n"
     ]
    },
    {
     "name": "stderr",
     "output_type": "stream",
     "text": [
      "BERT编码: 100%|██████████| 1/1 [00:00<00:00, 85.40it/s]\n"
     ]
    },
    {
     "name": "stdout",
     "output_type": "stream",
     "text": [
      "从缓存加载BERT嵌入...\n"
     ]
    },
    {
     "name": "stderr",
     "output_type": "stream",
     "text": [
      "BERT编码: 100%|██████████| 1/1 [00:00<00:00, 65.67it/s]\n"
     ]
    },
    {
     "name": "stdout",
     "output_type": "stream",
     "text": [
      "从缓存加载BERT嵌入...\n"
     ]
    },
    {
     "name": "stderr",
     "output_type": "stream",
     "text": [
      "BERT编码: 100%|██████████| 1/1 [00:00<00:00, 93.24it/s]\n"
     ]
    },
    {
     "name": "stdout",
     "output_type": "stream",
     "text": [
      "从缓存加载BERT嵌入...\n"
     ]
    },
    {
     "name": "stderr",
     "output_type": "stream",
     "text": [
      "BERT编码: 100%|██████████| 1/1 [00:00<00:00, 120.53it/s]\n"
     ]
    },
    {
     "name": "stdout",
     "output_type": "stream",
     "text": [
      "从缓存加载BERT嵌入...\n"
     ]
    },
    {
     "name": "stderr",
     "output_type": "stream",
     "text": [
      "BERT编码: 100%|██████████| 1/1 [00:00<00:00, 90.51it/s]\n"
     ]
    },
    {
     "name": "stdout",
     "output_type": "stream",
     "text": [
      "从缓存加载BERT嵌入...\n"
     ]
    },
    {
     "name": "stderr",
     "output_type": "stream",
     "text": [
      "BERT编码: 100%|██████████| 1/1 [00:00<00:00, 113.33it/s]\n"
     ]
    },
    {
     "name": "stdout",
     "output_type": "stream",
     "text": [
      "从缓存加载BERT嵌入...\n"
     ]
    },
    {
     "name": "stderr",
     "output_type": "stream",
     "text": [
      "BERT编码: 100%|██████████| 1/1 [00:00<00:00, 109.94it/s]\n"
     ]
    },
    {
     "name": "stdout",
     "output_type": "stream",
     "text": [
      "从缓存加载BERT嵌入...\n"
     ]
    },
    {
     "name": "stderr",
     "output_type": "stream",
     "text": [
      "BERT编码: 100%|██████████| 1/1 [00:00<00:00, 114.72it/s]\n"
     ]
    },
    {
     "name": "stdout",
     "output_type": "stream",
     "text": [
      "从缓存加载BERT嵌入...\n",
      "从缓存加载BERT嵌入...\n",
      "从缓存加载BERT嵌入...\n"
     ]
    },
    {
     "name": "stderr",
     "output_type": "stream",
     "text": [
      "BERT编码: 100%|██████████| 1/1 [00:00<00:00, 91.76it/s]\n"
     ]
    },
    {
     "name": "stdout",
     "output_type": "stream",
     "text": [
      "从缓存加载BERT嵌入...\n"
     ]
    },
    {
     "name": "stderr",
     "output_type": "stream",
     "text": [
      "BERT编码: 100%|██████████| 1/1 [00:00<00:00, 138.77it/s]\n"
     ]
    },
    {
     "name": "stdout",
     "output_type": "stream",
     "text": [
      "从缓存加载BERT嵌入...\n"
     ]
    },
    {
     "name": "stderr",
     "output_type": "stream",
     "text": [
      "BERT编码: 100%|██████████| 1/1 [00:00<00:00, 89.06it/s]\n"
     ]
    },
    {
     "name": "stdout",
     "output_type": "stream",
     "text": [
      "从缓存加载BERT嵌入...\n"
     ]
    },
    {
     "name": "stderr",
     "output_type": "stream",
     "text": [
      "BERT编码: 100%|██████████| 1/1 [00:00<00:00, 98.48it/s]\n"
     ]
    },
    {
     "name": "stdout",
     "output_type": "stream",
     "text": [
      "从缓存加载BERT嵌入...\n"
     ]
    },
    {
     "name": "stderr",
     "output_type": "stream",
     "text": [
      "BERT编码: 100%|██████████| 1/1 [00:00<00:00, 86.84it/s]\n"
     ]
    },
    {
     "name": "stdout",
     "output_type": "stream",
     "text": [
      "从缓存加载BERT嵌入...\n"
     ]
    },
    {
     "name": "stderr",
     "output_type": "stream",
     "text": [
      "BERT编码: 100%|██████████| 1/1 [00:00<00:00, 87.84it/s]\n"
     ]
    },
    {
     "name": "stdout",
     "output_type": "stream",
     "text": [
      "从缓存加载BERT嵌入...\n"
     ]
    },
    {
     "name": "stderr",
     "output_type": "stream",
     "text": [
      "BERT编码: 100%|██████████| 1/1 [00:00<00:00, 101.38it/s]\n"
     ]
    },
    {
     "name": "stdout",
     "output_type": "stream",
     "text": [
      "从缓存加载BERT嵌入...\n"
     ]
    },
    {
     "name": "stderr",
     "output_type": "stream",
     "text": [
      "BERT编码: 100%|██████████| 1/1 [00:00<00:00, 112.32it/s]\n"
     ]
    },
    {
     "name": "stdout",
     "output_type": "stream",
     "text": [
      "从缓存加载BERT嵌入...\n"
     ]
    },
    {
     "name": "stderr",
     "output_type": "stream",
     "text": [
      "BERT编码: 100%|██████████| 1/1 [00:00<00:00, 89.98it/s]\n"
     ]
    },
    {
     "name": "stdout",
     "output_type": "stream",
     "text": [
      "从缓存加载BERT嵌入...\n"
     ]
    },
    {
     "name": "stderr",
     "output_type": "stream",
     "text": [
      "BERT编码: 100%|██████████| 1/1 [00:00<00:00, 58.62it/s]\n"
     ]
    },
    {
     "name": "stdout",
     "output_type": "stream",
     "text": [
      "从缓存加载BERT嵌入...\n"
     ]
    },
    {
     "name": "stderr",
     "output_type": "stream",
     "text": [
      "BERT编码: 100%|██████████| 1/1 [00:00<00:00, 114.34it/s]\n"
     ]
    },
    {
     "name": "stdout",
     "output_type": "stream",
     "text": [
      "从缓存加载BERT嵌入...\n"
     ]
    },
    {
     "name": "stderr",
     "output_type": "stream",
     "text": [
      "BERT编码: 100%|██████████| 1/1 [00:00<00:00, 50.37it/s]\n"
     ]
    },
    {
     "name": "stdout",
     "output_type": "stream",
     "text": [
      "从缓存加载BERT嵌入...\n"
     ]
    },
    {
     "name": "stderr",
     "output_type": "stream",
     "text": [
      "BERT编码: 100%|██████████| 1/1 [00:00<00:00, 20.42it/s]\n"
     ]
    },
    {
     "name": "stdout",
     "output_type": "stream",
     "text": [
      "从缓存加载BERT嵌入...\n"
     ]
    },
    {
     "name": "stderr",
     "output_type": "stream",
     "text": [
      "BERT编码: 100%|██████████| 1/1 [00:00<00:00, 85.19it/s]\n"
     ]
    },
    {
     "name": "stdout",
     "output_type": "stream",
     "text": [
      "从缓存加载BERT嵌入...\n"
     ]
    },
    {
     "name": "stderr",
     "output_type": "stream",
     "text": [
      "BERT编码: 100%|██████████| 1/1 [00:00<00:00, 92.57it/s]\n"
     ]
    },
    {
     "name": "stdout",
     "output_type": "stream",
     "text": [
      "从缓存加载BERT嵌入...\n"
     ]
    },
    {
     "name": "stderr",
     "output_type": "stream",
     "text": [
      "BERT编码: 100%|██████████| 1/1 [00:00<00:00, 44.56it/s]\n"
     ]
    },
    {
     "name": "stdout",
     "output_type": "stream",
     "text": [
      "从缓存加载BERT嵌入...\n"
     ]
    },
    {
     "name": "stderr",
     "output_type": "stream",
     "text": [
      "BERT编码: 100%|██████████| 1/1 [00:00<00:00, 129.74it/s]\n"
     ]
    },
    {
     "name": "stdout",
     "output_type": "stream",
     "text": [
      "从缓存加载BERT嵌入...\n"
     ]
    },
    {
     "name": "stderr",
     "output_type": "stream",
     "text": [
      "BERT编码: 100%|██████████| 1/1 [00:00<00:00, 103.07it/s]\n"
     ]
    },
    {
     "name": "stdout",
     "output_type": "stream",
     "text": [
      "从缓存加载BERT嵌入...\n"
     ]
    },
    {
     "name": "stderr",
     "output_type": "stream",
     "text": [
      "BERT编码: 100%|██████████| 1/1 [00:00<00:00, 58.59it/s]\n"
     ]
    },
    {
     "name": "stdout",
     "output_type": "stream",
     "text": [
      "从缓存加载BERT嵌入...\n"
     ]
    },
    {
     "name": "stderr",
     "output_type": "stream",
     "text": [
      "BERT编码: 100%|██████████| 1/1 [00:00<00:00, 107.10it/s]\n"
     ]
    },
    {
     "name": "stdout",
     "output_type": "stream",
     "text": [
      "从缓存加载BERT嵌入...\n"
     ]
    },
    {
     "name": "stderr",
     "output_type": "stream",
     "text": [
      "BERT编码: 100%|██████████| 1/1 [00:00<00:00, 89.12it/s]\n"
     ]
    },
    {
     "name": "stdout",
     "output_type": "stream",
     "text": [
      "从缓存加载BERT嵌入...\n"
     ]
    },
    {
     "name": "stderr",
     "output_type": "stream",
     "text": [
      "BERT编码: 100%|██████████| 1/1 [00:00<00:00, 115.77it/s]\n"
     ]
    },
    {
     "name": "stdout",
     "output_type": "stream",
     "text": [
      "从缓存加载BERT嵌入...\n"
     ]
    },
    {
     "name": "stderr",
     "output_type": "stream",
     "text": [
      "BERT编码: 100%|██████████| 1/1 [00:00<00:00, 110.51it/s]\n"
     ]
    },
    {
     "name": "stdout",
     "output_type": "stream",
     "text": [
      "从缓存加载BERT嵌入...\n"
     ]
    },
    {
     "name": "stderr",
     "output_type": "stream",
     "text": [
      "BERT编码: 100%|██████████| 1/1 [00:00<00:00, 82.39it/s]\n"
     ]
    },
    {
     "name": "stdout",
     "output_type": "stream",
     "text": [
      "从缓存加载BERT嵌入...\n"
     ]
    },
    {
     "name": "stderr",
     "output_type": "stream",
     "text": [
      "BERT编码: 100%|██████████| 1/1 [00:00<00:00, 99.45it/s]\n"
     ]
    },
    {
     "name": "stdout",
     "output_type": "stream",
     "text": [
      "从缓存加载BERT嵌入...\n"
     ]
    },
    {
     "name": "stderr",
     "output_type": "stream",
     "text": [
      "BERT编码: 100%|██████████| 1/1 [00:00<00:00, 90.84it/s]\n"
     ]
    },
    {
     "name": "stdout",
     "output_type": "stream",
     "text": [
      "从缓存加载BERT嵌入...\n"
     ]
    },
    {
     "name": "stderr",
     "output_type": "stream",
     "text": [
      "BERT编码: 100%|██████████| 1/1 [00:00<00:00, 109.34it/s]\n"
     ]
    },
    {
     "name": "stdout",
     "output_type": "stream",
     "text": [
      "从缓存加载BERT嵌入...\n"
     ]
    },
    {
     "name": "stderr",
     "output_type": "stream",
     "text": [
      "BERT编码: 100%|██████████| 1/1 [00:00<00:00, 90.38it/s]\n"
     ]
    },
    {
     "name": "stdout",
     "output_type": "stream",
     "text": [
      "从缓存加载BERT嵌入...\n"
     ]
    },
    {
     "name": "stderr",
     "output_type": "stream",
     "text": [
      "BERT编码: 100%|██████████| 1/1 [00:00<00:00, 102.41it/s]\n"
     ]
    },
    {
     "name": "stdout",
     "output_type": "stream",
     "text": [
      "从缓存加载BERT嵌入...\n"
     ]
    },
    {
     "name": "stderr",
     "output_type": "stream",
     "text": [
      "BERT编码: 100%|██████████| 1/1 [00:00<00:00, 99.68it/s]\n"
     ]
    },
    {
     "name": "stdout",
     "output_type": "stream",
     "text": [
      "从缓存加载BERT嵌入...\n"
     ]
    },
    {
     "name": "stderr",
     "output_type": "stream",
     "text": [
      "BERT编码: 100%|██████████| 1/1 [00:00<00:00, 64.97it/s]\n"
     ]
    },
    {
     "name": "stdout",
     "output_type": "stream",
     "text": [
      "从缓存加载BERT嵌入...\n"
     ]
    },
    {
     "name": "stderr",
     "output_type": "stream",
     "text": [
      "BERT编码: 100%|██████████| 1/1 [00:00<00:00, 118.59it/s]\n"
     ]
    },
    {
     "name": "stdout",
     "output_type": "stream",
     "text": [
      "从缓存加载BERT嵌入...\n"
     ]
    },
    {
     "name": "stderr",
     "output_type": "stream",
     "text": [
      "BERT编码: 100%|██████████| 1/1 [00:00<00:00, 96.70it/s]\n"
     ]
    },
    {
     "name": "stdout",
     "output_type": "stream",
     "text": [
      "从缓存加载BERT嵌入...\n"
     ]
    },
    {
     "name": "stderr",
     "output_type": "stream",
     "text": [
      "BERT编码: 100%|██████████| 1/1 [00:00<00:00, 95.79it/s]\n"
     ]
    },
    {
     "name": "stdout",
     "output_type": "stream",
     "text": [
      "从缓存加载BERT嵌入...\n"
     ]
    },
    {
     "name": "stderr",
     "output_type": "stream",
     "text": [
      "BERT编码: 100%|██████████| 1/1 [00:00<00:00, 106.07it/s]\n"
     ]
    },
    {
     "name": "stdout",
     "output_type": "stream",
     "text": [
      "从缓存加载BERT嵌入...\n"
     ]
    },
    {
     "name": "stderr",
     "output_type": "stream",
     "text": [
      "BERT编码: 100%|██████████| 1/1 [00:00<00:00, 87.27it/s]\n"
     ]
    },
    {
     "name": "stdout",
     "output_type": "stream",
     "text": [
      "从缓存加载BERT嵌入...\n"
     ]
    },
    {
     "name": "stderr",
     "output_type": "stream",
     "text": [
      "BERT编码: 100%|██████████| 1/1 [00:00<00:00, 45.52it/s]\n"
     ]
    },
    {
     "name": "stdout",
     "output_type": "stream",
     "text": [
      "从缓存加载BERT嵌入...\n"
     ]
    },
    {
     "name": "stderr",
     "output_type": "stream",
     "text": [
      "BERT编码: 100%|██████████| 1/1 [00:00<00:00, 96.88it/s]\n"
     ]
    },
    {
     "name": "stdout",
     "output_type": "stream",
     "text": [
      "从缓存加载BERT嵌入...\n"
     ]
    },
    {
     "name": "stderr",
     "output_type": "stream",
     "text": [
      "BERT编码: 100%|██████████| 1/1 [00:00<00:00, 116.12it/s]\n"
     ]
    },
    {
     "name": "stdout",
     "output_type": "stream",
     "text": [
      "从缓存加载BERT嵌入...\n"
     ]
    },
    {
     "name": "stderr",
     "output_type": "stream",
     "text": [
      "BERT编码: 100%|██████████| 1/1 [00:00<00:00, 80.66it/s]\n"
     ]
    },
    {
     "name": "stdout",
     "output_type": "stream",
     "text": [
      "从缓存加载BERT嵌入...\n"
     ]
    },
    {
     "name": "stderr",
     "output_type": "stream",
     "text": [
      "BERT编码: 100%|██████████| 1/1 [00:00<00:00, 61.79it/s]\n"
     ]
    },
    {
     "name": "stdout",
     "output_type": "stream",
     "text": [
      "从缓存加载BERT嵌入...\n"
     ]
    },
    {
     "name": "stderr",
     "output_type": "stream",
     "text": [
      "BERT编码: 100%|██████████| 1/1 [00:00<00:00, 104.77it/s]\n"
     ]
    },
    {
     "name": "stdout",
     "output_type": "stream",
     "text": [
      "从缓存加载BERT嵌入...\n"
     ]
    },
    {
     "name": "stderr",
     "output_type": "stream",
     "text": [
      "BERT编码: 100%|██████████| 1/1 [00:00<00:00, 98.73it/s]\n"
     ]
    },
    {
     "name": "stdout",
     "output_type": "stream",
     "text": [
      "从缓存加载BERT嵌入...\n"
     ]
    },
    {
     "name": "stderr",
     "output_type": "stream",
     "text": [
      "BERT编码: 100%|██████████| 1/1 [00:00<00:00, 80.55it/s]\n"
     ]
    },
    {
     "name": "stdout",
     "output_type": "stream",
     "text": [
      "从缓存加载BERT嵌入...\n"
     ]
    },
    {
     "name": "stderr",
     "output_type": "stream",
     "text": [
      "BERT编码: 100%|██████████| 1/1 [00:00<00:00, 70.60it/s]\n"
     ]
    },
    {
     "name": "stdout",
     "output_type": "stream",
     "text": [
      "从缓存加载BERT嵌入...\n"
     ]
    },
    {
     "name": "stderr",
     "output_type": "stream",
     "text": [
      "BERT编码: 100%|██████████| 1/1 [00:00<00:00, 89.53it/s]\n"
     ]
    },
    {
     "name": "stdout",
     "output_type": "stream",
     "text": [
      "从缓存加载BERT嵌入...\n"
     ]
    },
    {
     "name": "stderr",
     "output_type": "stream",
     "text": [
      "BERT编码: 100%|██████████| 1/1 [00:00<00:00, 79.23it/s]\n"
     ]
    },
    {
     "name": "stdout",
     "output_type": "stream",
     "text": [
      "从缓存加载BERT嵌入...\n"
     ]
    },
    {
     "name": "stderr",
     "output_type": "stream",
     "text": [
      "BERT编码: 100%|██████████| 1/1 [00:00<00:00, 75.89it/s]\n"
     ]
    },
    {
     "name": "stdout",
     "output_type": "stream",
     "text": [
      "从缓存加载BERT嵌入...\n"
     ]
    },
    {
     "name": "stderr",
     "output_type": "stream",
     "text": [
      "BERT编码: 100%|██████████| 1/1 [00:00<00:00, 73.39it/s]\n"
     ]
    },
    {
     "name": "stdout",
     "output_type": "stream",
     "text": [
      "从缓存加载BERT嵌入...\n"
     ]
    },
    {
     "name": "stderr",
     "output_type": "stream",
     "text": [
      "BERT编码: 100%|██████████| 1/1 [00:00<00:00, 74.06it/s]\n"
     ]
    },
    {
     "name": "stdout",
     "output_type": "stream",
     "text": [
      "从缓存加载BERT嵌入...\n"
     ]
    },
    {
     "name": "stderr",
     "output_type": "stream",
     "text": [
      "BERT编码: 100%|██████████| 1/1 [00:00<00:00, 103.29it/s]\n"
     ]
    },
    {
     "name": "stdout",
     "output_type": "stream",
     "text": [
      "从缓存加载BERT嵌入...\n",
      "从缓存加载BERT嵌入...\n",
      "从缓存加载BERT嵌入...\n"
     ]
    },
    {
     "name": "stderr",
     "output_type": "stream",
     "text": [
      "BERT编码: 100%|██████████| 1/1 [00:00<00:00, 69.44it/s]\n"
     ]
    },
    {
     "name": "stdout",
     "output_type": "stream",
     "text": [
      "从缓存加载BERT嵌入...\n"
     ]
    },
    {
     "name": "stderr",
     "output_type": "stream",
     "text": [
      "BERT编码: 100%|██████████| 1/1 [00:00<00:00, 88.23it/s]\n"
     ]
    },
    {
     "name": "stdout",
     "output_type": "stream",
     "text": [
      "从缓存加载BERT嵌入...\n"
     ]
    },
    {
     "name": "stderr",
     "output_type": "stream",
     "text": [
      "BERT编码: 100%|██████████| 1/1 [00:00<00:00, 128.90it/s]\n"
     ]
    },
    {
     "name": "stdout",
     "output_type": "stream",
     "text": [
      "从缓存加载BERT嵌入...\n"
     ]
    },
    {
     "name": "stderr",
     "output_type": "stream",
     "text": [
      "BERT编码: 100%|██████████| 1/1 [00:00<00:00, 91.79it/s]\n"
     ]
    },
    {
     "name": "stdout",
     "output_type": "stream",
     "text": [
      "从缓存加载BERT嵌入...\n"
     ]
    },
    {
     "name": "stderr",
     "output_type": "stream",
     "text": [
      "BERT编码: 100%|██████████| 1/1 [00:00<00:00, 82.48it/s]\n"
     ]
    },
    {
     "name": "stdout",
     "output_type": "stream",
     "text": [
      "从缓存加载BERT嵌入...\n"
     ]
    },
    {
     "name": "stderr",
     "output_type": "stream",
     "text": [
      "BERT编码: 100%|██████████| 1/1 [00:00<00:00, 80.72it/s]\n"
     ]
    },
    {
     "name": "stdout",
     "output_type": "stream",
     "text": [
      "从缓存加载BERT嵌入...\n"
     ]
    },
    {
     "name": "stderr",
     "output_type": "stream",
     "text": [
      "BERT编码: 100%|██████████| 1/1 [00:00<00:00, 94.99it/s]\n"
     ]
    },
    {
     "name": "stdout",
     "output_type": "stream",
     "text": [
      "从缓存加载BERT嵌入...\n"
     ]
    },
    {
     "name": "stderr",
     "output_type": "stream",
     "text": [
      "BERT编码: 100%|██████████| 1/1 [00:00<00:00, 51.19it/s]\n"
     ]
    },
    {
     "name": "stdout",
     "output_type": "stream",
     "text": [
      "从缓存加载BERT嵌入...\n"
     ]
    },
    {
     "name": "stderr",
     "output_type": "stream",
     "text": [
      "BERT编码: 100%|██████████| 1/1 [00:00<00:00, 108.19it/s]\n"
     ]
    },
    {
     "name": "stdout",
     "output_type": "stream",
     "text": [
      "从缓存加载BERT嵌入...\n"
     ]
    },
    {
     "name": "stderr",
     "output_type": "stream",
     "text": [
      "BERT编码: 100%|██████████| 1/1 [00:00<00:00, 102.37it/s]\n"
     ]
    },
    {
     "name": "stdout",
     "output_type": "stream",
     "text": [
      "从缓存加载BERT嵌入...\n"
     ]
    },
    {
     "name": "stderr",
     "output_type": "stream",
     "text": [
      "BERT编码: 100%|██████████| 1/1 [00:00<00:00, 105.00it/s]\n"
     ]
    },
    {
     "name": "stdout",
     "output_type": "stream",
     "text": [
      "从缓存加载BERT嵌入...\n"
     ]
    },
    {
     "name": "stderr",
     "output_type": "stream",
     "text": [
      "BERT编码: 100%|██████████| 1/1 [00:00<00:00, 89.73it/s]\n"
     ]
    },
    {
     "name": "stdout",
     "output_type": "stream",
     "text": [
      "从缓存加载BERT嵌入...\n"
     ]
    },
    {
     "name": "stderr",
     "output_type": "stream",
     "text": [
      "BERT编码: 100%|██████████| 1/1 [00:00<00:00, 79.58it/s]\n"
     ]
    },
    {
     "name": "stdout",
     "output_type": "stream",
     "text": [
      "从缓存加载BERT嵌入...\n"
     ]
    },
    {
     "name": "stderr",
     "output_type": "stream",
     "text": [
      "BERT编码: 100%|██████████| 1/1 [00:00<00:00, 75.06it/s]\n"
     ]
    },
    {
     "name": "stdout",
     "output_type": "stream",
     "text": [
      "从缓存加载BERT嵌入...\n"
     ]
    },
    {
     "name": "stderr",
     "output_type": "stream",
     "text": [
      "BERT编码: 100%|██████████| 1/1 [00:00<00:00, 103.41it/s]\n"
     ]
    },
    {
     "name": "stdout",
     "output_type": "stream",
     "text": [
      "从缓存加载BERT嵌入...\n"
     ]
    },
    {
     "name": "stderr",
     "output_type": "stream",
     "text": [
      "BERT编码: 100%|██████████| 1/1 [00:00<00:00, 78.56it/s]\n"
     ]
    },
    {
     "name": "stdout",
     "output_type": "stream",
     "text": [
      "从缓存加载BERT嵌入...\n"
     ]
    },
    {
     "name": "stderr",
     "output_type": "stream",
     "text": [
      "BERT编码: 100%|██████████| 1/1 [00:00<00:00, 119.98it/s]\n"
     ]
    },
    {
     "name": "stdout",
     "output_type": "stream",
     "text": [
      "从缓存加载BERT嵌入...\n"
     ]
    },
    {
     "name": "stderr",
     "output_type": "stream",
     "text": [
      "BERT编码: 100%|██████████| 1/1 [00:00<00:00, 102.25it/s]\n"
     ]
    },
    {
     "name": "stdout",
     "output_type": "stream",
     "text": [
      "从缓存加载BERT嵌入...\n"
     ]
    },
    {
     "name": "stderr",
     "output_type": "stream",
     "text": [
      "BERT编码: 100%|██████████| 1/1 [00:00<00:00, 97.36it/s]\n"
     ]
    },
    {
     "name": "stdout",
     "output_type": "stream",
     "text": [
      "从缓存加载BERT嵌入...\n"
     ]
    },
    {
     "name": "stderr",
     "output_type": "stream",
     "text": [
      "BERT编码: 100%|██████████| 1/1 [00:00<00:00, 95.00it/s]\n"
     ]
    },
    {
     "name": "stdout",
     "output_type": "stream",
     "text": [
      "从缓存加载BERT嵌入...\n"
     ]
    },
    {
     "name": "stderr",
     "output_type": "stream",
     "text": [
      "BERT编码: 100%|██████████| 1/1 [00:00<00:00, 100.98it/s]\n"
     ]
    },
    {
     "name": "stdout",
     "output_type": "stream",
     "text": [
      "从缓存加载BERT嵌入...\n"
     ]
    },
    {
     "name": "stderr",
     "output_type": "stream",
     "text": [
      "BERT编码: 100%|██████████| 1/1 [00:00<00:00, 101.90it/s]\n"
     ]
    },
    {
     "name": "stdout",
     "output_type": "stream",
     "text": [
      "从缓存加载BERT嵌入...\n"
     ]
    },
    {
     "name": "stderr",
     "output_type": "stream",
     "text": [
      "BERT编码: 100%|██████████| 1/1 [00:00<00:00, 98.24it/s]\n"
     ]
    },
    {
     "name": "stdout",
     "output_type": "stream",
     "text": [
      "从缓存加载BERT嵌入...\n"
     ]
    },
    {
     "name": "stderr",
     "output_type": "stream",
     "text": [
      "BERT编码: 100%|██████████| 1/1 [00:00<00:00, 88.01it/s]"
     ]
    },
    {
     "name": "stdout",
     "output_type": "stream",
     "text": [
      "从缓存加载BERT嵌入...\n"
     ]
    },
    {
     "name": "stderr",
     "output_type": "stream",
     "text": [
      "\n",
      "BERT编码: 100%|██████████| 1/1 [00:00<00:00, 100.78it/s]\n"
     ]
    },
    {
     "name": "stdout",
     "output_type": "stream",
     "text": [
      "从缓存加载BERT嵌入...\n"
     ]
    },
    {
     "name": "stderr",
     "output_type": "stream",
     "text": [
      "BERT编码: 100%|██████████| 1/1 [00:00<00:00, 72.52it/s]\n"
     ]
    },
    {
     "name": "stdout",
     "output_type": "stream",
     "text": [
      "从缓存加载BERT嵌入...\n"
     ]
    },
    {
     "name": "stderr",
     "output_type": "stream",
     "text": [
      "BERT编码: 100%|██████████| 1/1 [00:00<00:00, 84.12it/s]\n"
     ]
    },
    {
     "name": "stdout",
     "output_type": "stream",
     "text": [
      "从缓存加载BERT嵌入...\n"
     ]
    },
    {
     "name": "stderr",
     "output_type": "stream",
     "text": [
      "BERT编码: 100%|██████████| 1/1 [00:00<00:00, 57.29it/s]\n"
     ]
    },
    {
     "name": "stdout",
     "output_type": "stream",
     "text": [
      "从缓存加载BERT嵌入...\n"
     ]
    },
    {
     "name": "stderr",
     "output_type": "stream",
     "text": [
      "BERT编码: 100%|██████████| 1/1 [00:00<00:00, 103.58it/s]\n"
     ]
    },
    {
     "name": "stdout",
     "output_type": "stream",
     "text": [
      "从缓存加载BERT嵌入...\n"
     ]
    },
    {
     "name": "stderr",
     "output_type": "stream",
     "text": [
      "BERT编码: 100%|██████████| 1/1 [00:00<00:00,  7.41it/s]\n"
     ]
    },
    {
     "name": "stdout",
     "output_type": "stream",
     "text": [
      "从缓存加载BERT嵌入...\n",
      "从缓存加载BERT嵌入...\n",
      "从缓存加载BERT嵌入...\n"
     ]
    },
    {
     "name": "stderr",
     "output_type": "stream",
     "text": [
      "BERT编码: 100%|██████████| 1/1 [00:00<00:00, 30.85it/s]\n"
     ]
    },
    {
     "name": "stdout",
     "output_type": "stream",
     "text": [
      "从缓存加载BERT嵌入...\n"
     ]
    },
    {
     "name": "stderr",
     "output_type": "stream",
     "text": [
      "BERT编码: 100%|██████████| 1/1 [00:00<00:00, 135.70it/s]\n"
     ]
    },
    {
     "name": "stdout",
     "output_type": "stream",
     "text": [
      "从缓存加载BERT嵌入...\n"
     ]
    },
    {
     "name": "stderr",
     "output_type": "stream",
     "text": [
      "BERT编码: 100%|██████████| 1/1 [00:00<00:00, 105.38it/s]\n"
     ]
    },
    {
     "name": "stdout",
     "output_type": "stream",
     "text": [
      "从缓存加载BERT嵌入...\n"
     ]
    },
    {
     "name": "stderr",
     "output_type": "stream",
     "text": [
      "BERT编码: 100%|██████████| 1/1 [00:00<00:00, 94.15it/s]\n"
     ]
    },
    {
     "name": "stdout",
     "output_type": "stream",
     "text": [
      "从缓存加载BERT嵌入...\n"
     ]
    },
    {
     "name": "stderr",
     "output_type": "stream",
     "text": [
      "BERT编码: 100%|██████████| 1/1 [00:00<00:00, 78.74it/s]\n"
     ]
    },
    {
     "name": "stdout",
     "output_type": "stream",
     "text": [
      "从缓存加载BERT嵌入...\n"
     ]
    },
    {
     "name": "stderr",
     "output_type": "stream",
     "text": [
      "BERT编码: 100%|██████████| 1/1 [00:00<00:00, 69.18it/s]\n"
     ]
    },
    {
     "name": "stdout",
     "output_type": "stream",
     "text": [
      "从缓存加载BERT嵌入...\n"
     ]
    },
    {
     "name": "stderr",
     "output_type": "stream",
     "text": [
      "BERT编码: 100%|██████████| 1/1 [00:00<00:00, 87.20it/s]\n"
     ]
    },
    {
     "name": "stdout",
     "output_type": "stream",
     "text": [
      "从缓存加载BERT嵌入...\n"
     ]
    },
    {
     "name": "stderr",
     "output_type": "stream",
     "text": [
      "BERT编码: 100%|██████████| 1/1 [00:00<00:00, 70.66it/s]\n"
     ]
    },
    {
     "name": "stdout",
     "output_type": "stream",
     "text": [
      "从缓存加载BERT嵌入...\n"
     ]
    },
    {
     "name": "stderr",
     "output_type": "stream",
     "text": [
      "BERT编码: 100%|██████████| 1/1 [00:00<00:00, 100.73it/s]\n"
     ]
    },
    {
     "name": "stdout",
     "output_type": "stream",
     "text": [
      "从缓存加载BERT嵌入...\n"
     ]
    },
    {
     "name": "stderr",
     "output_type": "stream",
     "text": [
      "BERT编码: 100%|██████████| 1/1 [00:00<00:00, 108.51it/s]\n"
     ]
    },
    {
     "name": "stdout",
     "output_type": "stream",
     "text": [
      "从缓存加载BERT嵌入...\n"
     ]
    },
    {
     "name": "stderr",
     "output_type": "stream",
     "text": [
      "BERT编码: 100%|██████████| 1/1 [00:00<00:00, 110.40it/s]\n"
     ]
    },
    {
     "name": "stdout",
     "output_type": "stream",
     "text": [
      "从缓存加载BERT嵌入...\n"
     ]
    },
    {
     "name": "stderr",
     "output_type": "stream",
     "text": [
      "BERT编码: 100%|██████████| 1/1 [00:00<00:00, 94.46it/s]\n"
     ]
    },
    {
     "name": "stdout",
     "output_type": "stream",
     "text": [
      "从缓存加载BERT嵌入...\n"
     ]
    },
    {
     "name": "stderr",
     "output_type": "stream",
     "text": [
      "BERT编码: 100%|██████████| 1/1 [00:00<00:00, 83.82it/s]\n"
     ]
    },
    {
     "name": "stdout",
     "output_type": "stream",
     "text": [
      "从缓存加载BERT嵌入...\n"
     ]
    },
    {
     "name": "stderr",
     "output_type": "stream",
     "text": [
      "BERT编码: 100%|██████████| 1/1 [00:00<00:00, 98.74it/s]\n"
     ]
    },
    {
     "name": "stdout",
     "output_type": "stream",
     "text": [
      "从缓存加载BERT嵌入...\n"
     ]
    },
    {
     "name": "stderr",
     "output_type": "stream",
     "text": [
      "BERT编码: 100%|██████████| 1/1 [00:00<00:00, 51.17it/s]\n"
     ]
    },
    {
     "name": "stdout",
     "output_type": "stream",
     "text": [
      "从缓存加载BERT嵌入...\n"
     ]
    },
    {
     "name": "stderr",
     "output_type": "stream",
     "text": [
      "BERT编码: 100%|██████████| 1/1 [00:00<00:00, 105.67it/s]\n"
     ]
    },
    {
     "name": "stdout",
     "output_type": "stream",
     "text": [
      "从缓存加载BERT嵌入...\n"
     ]
    },
    {
     "name": "stderr",
     "output_type": "stream",
     "text": [
      "BERT编码: 100%|██████████| 1/1 [00:00<00:00, 89.50it/s]\n"
     ]
    },
    {
     "name": "stdout",
     "output_type": "stream",
     "text": [
      "从缓存加载BERT嵌入...\n"
     ]
    },
    {
     "name": "stderr",
     "output_type": "stream",
     "text": [
      "BERT编码: 100%|██████████| 1/1 [00:00<00:00, 86.92it/s]\n"
     ]
    },
    {
     "name": "stdout",
     "output_type": "stream",
     "text": [
      "从缓存加载BERT嵌入...\n"
     ]
    },
    {
     "name": "stderr",
     "output_type": "stream",
     "text": [
      "BERT编码: 100%|██████████| 1/1 [00:00<00:00, 84.41it/s]\n"
     ]
    },
    {
     "name": "stdout",
     "output_type": "stream",
     "text": [
      "从缓存加载BERT嵌入...\n"
     ]
    },
    {
     "name": "stderr",
     "output_type": "stream",
     "text": [
      "BERT编码: 100%|██████████| 1/1 [00:00<00:00, 101.71it/s]\n"
     ]
    },
    {
     "name": "stdout",
     "output_type": "stream",
     "text": [
      "从缓存加载BERT嵌入...\n"
     ]
    },
    {
     "name": "stderr",
     "output_type": "stream",
     "text": [
      "BERT编码: 100%|██████████| 1/1 [00:00<00:00, 80.94it/s]\n"
     ]
    },
    {
     "name": "stdout",
     "output_type": "stream",
     "text": [
      "从缓存加载BERT嵌入...\n"
     ]
    },
    {
     "name": "stderr",
     "output_type": "stream",
     "text": [
      "BERT编码: 100%|██████████| 1/1 [00:00<00:00, 93.04it/s]\n"
     ]
    },
    {
     "name": "stdout",
     "output_type": "stream",
     "text": [
      "从缓存加载BERT嵌入...\n"
     ]
    },
    {
     "name": "stderr",
     "output_type": "stream",
     "text": [
      "BERT编码: 100%|██████████| 1/1 [00:00<00:00, 87.46it/s]\n"
     ]
    },
    {
     "name": "stdout",
     "output_type": "stream",
     "text": [
      "从缓存加载BERT嵌入...\n"
     ]
    },
    {
     "name": "stderr",
     "output_type": "stream",
     "text": [
      "BERT编码: 100%|██████████| 1/1 [00:00<00:00, 84.80it/s]\n"
     ]
    },
    {
     "name": "stdout",
     "output_type": "stream",
     "text": [
      "从缓存加载BERT嵌入...\n",
      "从缓存加载BERT嵌入...\n",
      "从缓存加载BERT嵌入...\n"
     ]
    },
    {
     "name": "stderr",
     "output_type": "stream",
     "text": [
      "BERT编码: 100%|██████████| 1/1 [00:00<00:00, 88.24it/s]\n"
     ]
    },
    {
     "name": "stdout",
     "output_type": "stream",
     "text": [
      "从缓存加载BERT嵌入...\n"
     ]
    },
    {
     "name": "stderr",
     "output_type": "stream",
     "text": [
      "BERT编码: 100%|██████████| 1/1 [00:00<00:00, 77.98it/s]\n"
     ]
    },
    {
     "name": "stdout",
     "output_type": "stream",
     "text": [
      "从缓存加载BERT嵌入...\n"
     ]
    },
    {
     "name": "stderr",
     "output_type": "stream",
     "text": [
      "BERT编码: 100%|██████████| 1/1 [00:00<00:00, 113.62it/s]\n"
     ]
    },
    {
     "name": "stdout",
     "output_type": "stream",
     "text": [
      "从缓存加载BERT嵌入...\n"
     ]
    },
    {
     "name": "stderr",
     "output_type": "stream",
     "text": [
      "BERT编码: 100%|██████████| 1/1 [00:00<00:00, 90.06it/s]\n",
      "BERT编码: 100%|██████████| 1/1 [00:00<00:00, 116.48it/s]\n",
      "BERT编码: 100%|██████████| 1/1 [00:00<00:00, 94.09it/s]\n",
      "BERT编码: 100%|██████████| 1/1 [00:00<00:00, 91.16it/s]\n",
      "BERT编码: 100%|██████████| 1/1 [00:00<00:00, 99.75it/s]\n",
      "BERT编码: 100%|██████████| 1/1 [00:00<00:00, 98.29it/s]\n",
      "BERT编码: 100%|██████████| 1/1 [00:00<00:00, 117.52it/s]\n",
      "BERT编码: 100%|██████████| 1/1 [00:00<00:00, 95.01it/s]\n",
      "BERT编码: 100%|██████████| 1/1 [00:00<00:00, 105.44it/s]\n",
      "BERT编码: 100%|██████████| 1/1 [00:00<00:00, 85.77it/s]\n",
      "BERT编码: 100%|██████████| 1/1 [00:00<00:00, 132.07it/s]\n",
      "BERT编码: 100%|██████████| 1/1 [00:00<00:00, 77.70it/s]\n",
      "BERT编码: 100%|██████████| 1/1 [00:00<00:00, 109.80it/s]\n",
      "BERT编码: 100%|██████████| 1/1 [00:00<00:00, 102.08it/s]\n",
      "BERT编码: 100%|██████████| 1/1 [00:00<00:00, 91.09it/s]\n",
      "BERT编码: 100%|██████████| 1/1 [00:00<00:00, 109.29it/s]\n",
      "BERT编码: 100%|██████████| 1/1 [00:00<00:00, 113.02it/s]\n",
      "BERT编码: 100%|██████████| 1/1 [00:00<00:00, 100.73it/s]\n",
      "BERT编码: 100%|██████████| 1/1 [00:00<00:00, 101.03it/s]\n",
      "BERT编码: 100%|██████████| 1/1 [00:00<00:00, 103.19it/s]\n",
      "BERT编码: 100%|██████████| 1/1 [00:00<00:00, 99.49it/s]\n",
      "BERT编码: 100%|██████████| 1/1 [00:00<00:00, 122.40it/s]\n",
      "BERT编码: 100%|██████████| 1/1 [00:00<00:00, 96.90it/s]\n"
     ]
    },
    {
     "name": "stdout",
     "output_type": "stream",
     "text": [
      "从缓存加载BERT嵌入...\n"
     ]
    },
    {
     "name": "stderr",
     "output_type": "stream",
     "text": [
      "BERT编码: 100%|██████████| 1/1 [00:00<00:00, 107.43it/s]\n",
      "BERT编码: 100%|██████████| 1/1 [00:00<00:00, 99.01it/s]\n",
      "BERT编码: 100%|██████████| 1/1 [00:00<00:00, 94.99it/s]\n",
      "BERT编码: 100%|██████████| 1/1 [00:00<00:00, 95.49it/s]\n",
      "BERT编码: 100%|██████████| 1/1 [00:00<00:00, 98.32it/s]\n",
      "BERT编码: 100%|██████████| 1/1 [00:00<00:00, 57.11it/s]\n",
      "BERT编码: 100%|██████████| 1/1 [00:00<00:00, 109.76it/s]\n",
      "BERT编码: 100%|██████████| 1/1 [00:00<00:00, 106.27it/s]\n",
      "BERT编码: 100%|██████████| 1/1 [00:00<00:00, 104.76it/s]\n",
      "BERT编码: 100%|██████████| 1/1 [00:00<00:00, 109.12it/s]\n",
      "BERT编码: 100%|██████████| 1/1 [00:00<00:00, 128.50it/s]\n",
      "BERT编码: 100%|██████████| 1/1 [00:00<00:00, 86.96it/s]\n",
      "BERT编码: 100%|██████████| 1/1 [00:00<00:00, 137.59it/s]\n",
      "BERT编码: 100%|██████████| 1/1 [00:00<00:00, 96.04it/s]\n",
      "BERT编码: 100%|██████████| 1/1 [00:00<00:00, 120.01it/s]\n",
      "BERT编码: 100%|██████████| 1/1 [00:00<00:00, 106.35it/s]\n",
      "BERT编码: 100%|██████████| 1/1 [00:00<00:00, 91.87it/s]\n",
      "BERT编码: 100%|██████████| 1/1 [00:00<00:00, 99.10it/s]\n",
      "BERT编码: 100%|██████████| 1/1 [00:00<00:00, 102.14it/s]\n",
      "BERT编码: 100%|██████████| 1/1 [00:00<00:00, 80.01it/s]\n",
      "BERT编码: 100%|██████████| 1/1 [00:00<00:00, 109.48it/s]\n",
      "BERT编码: 100%|██████████| 1/1 [00:00<00:00, 105.24it/s]\n",
      "BERT编码: 100%|██████████| 1/1 [00:00<00:00, 95.20it/s]\n",
      "BERT编码: 100%|██████████| 1/1 [00:00<00:00, 95.64it/s]\n",
      "BERT编码: 100%|██████████| 1/1 [00:00<00:00, 110.95it/s]\n",
      "BERT编码: 100%|██████████| 1/1 [00:00<00:00, 122.47it/s]\n",
      "BERT编码: 100%|██████████| 1/1 [00:00<00:00, 132.17it/s]\n",
      "BERT编码: 100%|██████████| 1/1 [00:00<00:00, 101.57it/s]\n",
      "BERT编码: 100%|██████████| 1/1 [00:00<00:00, 58.19it/s]\n",
      "BERT编码: 100%|██████████| 1/1 [00:00<00:00, 103.17it/s]\n",
      "BERT编码: 100%|██████████| 1/1 [00:00<00:00, 89.82it/s]\n",
      "BERT编码: 100%|██████████| 1/1 [00:00<00:00, 109.50it/s]\n",
      "BERT编码: 100%|██████████| 1/1 [00:00<00:00, 107.03it/s]\n",
      "BERT编码: 100%|██████████| 1/1 [00:00<00:00, 101.08it/s]\n",
      "BERT编码: 100%|██████████| 1/1 [00:00<00:00, 111.60it/s]\n",
      "BERT编码: 100%|██████████| 1/1 [00:00<00:00, 105.66it/s]\n",
      "BERT编码: 100%|██████████| 1/1 [00:00<00:00, 113.90it/s]\n",
      "BERT编码: 100%|██████████| 1/1 [00:00<00:00, 105.11it/s]\n",
      "BERT编码: 100%|██████████| 1/1 [00:00<00:00, 113.83it/s]\n",
      "BERT编码: 100%|██████████| 1/1 [00:00<00:00, 93.98it/s]\n",
      "BERT编码: 100%|██████████| 1/1 [00:00<00:00, 128.14it/s]\n",
      "BERT编码: 100%|██████████| 1/1 [00:00<00:00, 86.30it/s]\n",
      "BERT编码: 100%|██████████| 1/1 [00:00<00:00, 137.93it/s]\n",
      "BERT编码: 100%|██████████| 1/1 [00:00<00:00, 76.40it/s]\n",
      "BERT编码: 100%|██████████| 1/1 [00:00<00:00, 111.52it/s]\n",
      "BERT编码: 100%|██████████| 1/1 [00:00<00:00, 90.08it/s]\n",
      "BERT编码: 100%|██████████| 1/1 [00:00<00:00, 73.66it/s]\n",
      "BERT编码: 100%|██████████| 1/1 [00:00<00:00, 133.17it/s]\n",
      "BERT编码: 100%|██████████| 1/1 [00:00<00:00, 84.74it/s]\n",
      "BERT编码: 100%|██████████| 1/1 [00:00<00:00, 111.12it/s]\n",
      "BERT编码: 100%|██████████| 1/1 [00:00<00:00, 111.28it/s]\n",
      "BERT编码: 100%|██████████| 1/1 [00:00<00:00, 109.70it/s]\n",
      "BERT编码: 100%|██████████| 1/1 [00:00<00:00, 102.16it/s]\n",
      "BERT编码: 100%|██████████| 1/1 [00:00<00:00, 92.14it/s]\n",
      "BERT编码: 100%|██████████| 1/1 [00:00<00:00, 86.28it/s]\n",
      "BERT编码: 100%|██████████| 1/1 [00:00<00:00, 147.84it/s]\n",
      "BERT编码: 100%|██████████| 1/1 [00:00<00:00, 75.13it/s]\n",
      "BERT编码: 100%|██████████| 1/1 [00:00<00:00, 78.97it/s]\n",
      "BERT编码: 100%|██████████| 1/1 [00:00<00:00, 84.48it/s]\n",
      "BERT编码: 100%|██████████| 1/1 [00:00<00:00, 87.16it/s]\n",
      "BERT编码: 100%|██████████| 1/1 [00:00<00:00, 76.30it/s]\n",
      "BERT编码: 100%|██████████| 1/1 [00:00<00:00, 119.22it/s]\n",
      "BERT编码: 100%|██████████| 1/1 [00:00<00:00, 124.89it/s]\n",
      "BERT编码: 100%|██████████| 1/1 [00:00<00:00, 118.93it/s]\n",
      "BERT编码: 100%|██████████| 1/1 [00:00<00:00, 123.25it/s]\n",
      "BERT编码: 100%|██████████| 1/1 [00:00<00:00, 139.73it/s]\n",
      "BERT编码: 100%|██████████| 1/1 [00:00<00:00, 74.21it/s]\n",
      "BERT编码: 100%|██████████| 1/1 [00:00<00:00, 108.14it/s]\n",
      "BERT编码: 100%|██████████| 1/1 [00:00<00:00, 46.13it/s]\n",
      "BERT编码: 100%|██████████| 1/1 [00:00<00:00, 95.81it/s]\n",
      "BERT编码: 100%|██████████| 1/1 [00:00<00:00, 97.99it/s]\n",
      "BERT编码: 100%|██████████| 1/1 [00:00<00:00, 125.50it/s]\n",
      "BERT编码: 100%|██████████| 1/1 [00:00<00:00, 147.80it/s]\n",
      "BERT编码: 100%|██████████| 1/1 [00:00<00:00, 104.91it/s]\n",
      "BERT编码: 100%|██████████| 1/1 [00:00<00:00, 103.68it/s]\n",
      "BERT编码: 100%|██████████| 1/1 [00:00<00:00, 133.44it/s]\n",
      "BERT编码: 100%|██████████| 1/1 [00:00<00:00, 92.54it/s]\n",
      "BERT编码: 100%|██████████| 1/1 [00:00<00:00, 125.47it/s]\n",
      "BERT编码: 100%|██████████| 1/1 [00:00<00:00, 104.44it/s]\n",
      "BERT编码: 100%|██████████| 1/1 [00:00<00:00, 114.90it/s]\n",
      "BERT编码: 100%|██████████| 1/1 [00:00<00:00, 94.63it/s]\n",
      "BERT编码: 100%|██████████| 1/1 [00:00<00:00, 103.48it/s]\n",
      "BERT编码: 100%|██████████| 1/1 [00:00<00:00, 120.42it/s]\n",
      "BERT编码: 100%|██████████| 1/1 [00:00<00:00, 99.58it/s]\n",
      "BERT编码: 100%|██████████| 1/1 [00:00<00:00, 103.39it/s]\n"
     ]
    },
    {
     "name": "stdout",
     "output_type": "stream",
     "text": [
      "从缓存加载BERT嵌入...\n"
     ]
    },
    {
     "name": "stderr",
     "output_type": "stream",
     "text": [
      "BERT编码: 100%|██████████| 1/1 [00:00<00:00, 144.68it/s]\n",
      "BERT编码: 100%|██████████| 1/1 [00:00<00:00, 83.46it/s]\n",
      "BERT编码: 100%|██████████| 1/1 [00:00<00:00, 100.31it/s]\n",
      "BERT编码: 100%|██████████| 1/1 [00:00<00:00, 113.61it/s]\n",
      "BERT编码: 100%|██████████| 1/1 [00:00<00:00, 101.66it/s]\n",
      "BERT编码: 100%|██████████| 1/1 [00:00<00:00, 98.68it/s]\n",
      "BERT编码: 100%|██████████| 1/1 [00:00<00:00, 85.78it/s]\n"
     ]
    },
    {
     "name": "stdout",
     "output_type": "stream",
     "text": [
      "从缓存加载BERT嵌入...\n"
     ]
    },
    {
     "name": "stderr",
     "output_type": "stream",
     "text": [
      "BERT编码: 100%|██████████| 1/1 [00:00<00:00, 99.65it/s]\n",
      "BERT编码: 100%|██████████| 1/1 [00:00<00:00, 88.04it/s]\n",
      "BERT编码: 100%|██████████| 1/1 [00:00<00:00, 104.73it/s]\n"
     ]
    },
    {
     "name": "stdout",
     "output_type": "stream",
     "text": [
      "从缓存加载BERT嵌入...\n"
     ]
    },
    {
     "name": "stderr",
     "output_type": "stream",
     "text": [
      "BERT编码: 100%|██████████| 1/1 [00:00<00:00, 94.84it/s]\n",
      "BERT编码: 100%|██████████| 1/1 [00:00<00:00, 72.94it/s]\n",
      "BERT编码: 100%|██████████| 1/1 [00:00<00:00, 77.31it/s]\n",
      "BERT编码: 100%|██████████| 1/1 [00:00<00:00, 93.73it/s]\n",
      "BERT编码: 100%|██████████| 1/1 [00:00<00:00, 88.90it/s]\n",
      "BERT编码: 100%|██████████| 1/1 [00:00<00:00, 104.56it/s]\n",
      "BERT编码: 100%|██████████| 1/1 [00:00<00:00, 101.77it/s]\n",
      "BERT编码: 100%|██████████| 1/1 [00:00<00:00, 103.96it/s]\n",
      "BERT编码: 100%|██████████| 1/1 [00:00<00:00, 113.01it/s]\n",
      "BERT编码: 100%|██████████| 1/1 [00:00<00:00, 92.91it/s]\n",
      "BERT编码: 100%|██████████| 1/1 [00:00<00:00, 82.58it/s]\n",
      "BERT编码: 100%|██████████| 1/1 [00:00<00:00, 108.68it/s]\n",
      "BERT编码: 100%|██████████| 1/1 [00:00<00:00, 77.42it/s]\n",
      "BERT编码: 100%|██████████| 1/1 [00:00<00:00, 92.50it/s]\n",
      "BERT编码: 100%|██████████| 1/1 [00:00<00:00, 92.58it/s]\n",
      "BERT编码: 100%|██████████| 1/1 [00:00<00:00, 106.27it/s]\n",
      "BERT编码: 100%|██████████| 1/1 [00:00<00:00, 101.91it/s]\n",
      "BERT编码: 100%|██████████| 1/1 [00:00<00:00, 106.04it/s]\n",
      "BERT编码: 100%|██████████| 1/1 [00:00<00:00, 111.51it/s]\n"
     ]
    },
    {
     "name": "stdout",
     "output_type": "stream",
     "text": [
      "从缓存加载BERT嵌入...\n"
     ]
    },
    {
     "name": "stderr",
     "output_type": "stream",
     "text": [
      "BERT编码: 100%|██████████| 1/1 [00:00<00:00, 103.60it/s]\n",
      "BERT编码: 100%|██████████| 1/1 [00:00<00:00, 106.72it/s]\n",
      "BERT编码: 100%|██████████| 1/1 [00:00<00:00, 100.72it/s]\n",
      "BERT编码: 100%|██████████| 1/1 [00:00<00:00, 72.70it/s]\n",
      "BERT编码: 100%|██████████| 1/1 [00:00<00:00, 123.78it/s]\n",
      "BERT编码: 100%|██████████| 1/1 [00:00<00:00, 147.41it/s]\n",
      "BERT编码: 100%|██████████| 1/1 [00:00<00:00, 82.56it/s]\n",
      "BERT编码: 100%|██████████| 1/1 [00:00<00:00, 111.92it/s]\n",
      "BERT编码: 100%|██████████| 1/1 [00:00<00:00, 97.27it/s]\n",
      "BERT编码: 100%|██████████| 1/1 [00:00<00:00, 116.32it/s]\n",
      "BERT编码: 100%|██████████| 1/1 [00:00<00:00, 107.92it/s]\n",
      "BERT编码: 100%|██████████| 1/1 [00:00<00:00, 90.38it/s]\n",
      "BERT编码: 100%|██████████| 1/1 [00:00<00:00, 119.19it/s]\n",
      "BERT编码: 100%|██████████| 1/1 [00:00<00:00, 105.84it/s]\n",
      "BERT编码: 100%|██████████| 1/1 [00:00<00:00, 103.42it/s]\n",
      "BERT编码: 100%|██████████| 1/1 [00:00<00:00, 123.85it/s]\n",
      "BERT编码: 100%|██████████| 1/1 [00:00<00:00, 72.72it/s]\n",
      "BERT编码: 100%|██████████| 1/1 [00:00<00:00, 125.48it/s]\n",
      "BERT编码: 100%|██████████| 1/1 [00:00<00:00, 122.37it/s]\n",
      "BERT编码: 100%|██████████| 1/1 [00:00<00:00, 120.43it/s]\n",
      "BERT编码: 100%|██████████| 1/1 [00:00<00:00, 150.97it/s]\n",
      "BERT编码: 100%|██████████| 1/1 [00:00<00:00, 129.62it/s]\n",
      "BERT编码: 100%|██████████| 1/1 [00:00<00:00, 98.93it/s]\n",
      "BERT编码: 100%|██████████| 1/1 [00:00<00:00, 116.67it/s]\n",
      "BERT编码: 100%|██████████| 1/1 [00:00<00:00, 158.40it/s]\n",
      "BERT编码: 100%|██████████| 1/1 [00:00<00:00, 100.86it/s]\n",
      "BERT编码: 100%|██████████| 1/1 [00:00<00:00, 167.50it/s]\n",
      "BERT编码: 100%|██████████| 1/1 [00:00<00:00, 99.77it/s]\n",
      "BERT编码: 100%|██████████| 1/1 [00:00<00:00, 150.51it/s]\n",
      "BERT编码: 100%|██████████| 1/1 [00:00<00:00, 116.28it/s]\n",
      "BERT编码: 100%|██████████| 1/1 [00:00<00:00, 139.42it/s]\n",
      "BERT编码: 100%|██████████| 1/1 [00:00<00:00, 85.13it/s]\n",
      "BERT编码: 100%|██████████| 1/1 [00:00<00:00, 168.04it/s]\n",
      "BERT编码: 100%|██████████| 1/1 [00:00<00:00, 108.07it/s]\n",
      "BERT编码: 100%|██████████| 1/1 [00:00<00:00, 112.86it/s]\n",
      "BERT编码: 100%|██████████| 1/1 [00:00<00:00, 116.13it/s]\n",
      "BERT编码: 100%|██████████| 1/1 [00:00<00:00, 129.40it/s]\n",
      "BERT编码: 100%|██████████| 1/1 [00:00<00:00, 134.57it/s]\n",
      "BERT编码: 100%|██████████| 1/1 [00:00<00:00, 83.56it/s]\n",
      "BERT编码: 100%|██████████| 1/1 [00:00<00:00, 116.01it/s]\n",
      "BERT编码: 100%|██████████| 1/1 [00:00<00:00, 109.53it/s]\n",
      "BERT编码: 100%|██████████| 1/1 [00:00<00:00, 105.63it/s]\n",
      "BERT编码: 100%|██████████| 1/1 [00:00<00:00, 133.42it/s]\n",
      "BERT编码: 100%|██████████| 1/1 [00:00<00:00, 112.60it/s]\n",
      "BERT编码: 100%|██████████| 1/1 [00:00<00:00, 105.60it/s]\n"
     ]
    },
    {
     "name": "stdout",
     "output_type": "stream",
     "text": [
      "从缓存加载BERT嵌入...\n"
     ]
    },
    {
     "name": "stderr",
     "output_type": "stream",
     "text": [
      "BERT编码: 100%|██████████| 1/1 [00:00<00:00, 124.33it/s]\n",
      "BERT编码: 100%|██████████| 1/1 [00:00<00:00, 105.09it/s]\n",
      "BERT编码: 100%|██████████| 1/1 [00:00<00:00, 135.59it/s]\n",
      "BERT编码: 100%|██████████| 1/1 [00:00<00:00, 106.69it/s]\n",
      "BERT编码: 100%|██████████| 1/1 [00:00<00:00, 133.73it/s]\n",
      "BERT编码: 100%|██████████| 1/1 [00:00<00:00, 107.03it/s]\n",
      "BERT编码: 100%|██████████| 1/1 [00:00<00:00, 162.45it/s]\n",
      "BERT编码: 100%|██████████| 1/1 [00:00<00:00, 90.41it/s]\n",
      "BERT编码: 100%|██████████| 1/1 [00:00<00:00, 127.76it/s]\n",
      "BERT编码: 100%|██████████| 1/1 [00:00<00:00, 82.09it/s]\n",
      "BERT编码: 100%|██████████| 1/1 [00:00<00:00, 161.50it/s]\n",
      "BERT编码: 100%|██████████| 1/1 [00:00<00:00, 108.95it/s]\n",
      "BERT编码: 100%|██████████| 1/1 [00:00<00:00, 142.81it/s]\n"
     ]
    },
    {
     "name": "stdout",
     "output_type": "stream",
     "text": [
      "从缓存加载BERT嵌入...\n"
     ]
    },
    {
     "name": "stderr",
     "output_type": "stream",
     "text": [
      "BERT编码: 100%|██████████| 1/1 [00:00<00:00, 99.84it/s]\n",
      "BERT编码: 100%|██████████| 1/1 [00:00<00:00, 112.09it/s]\n",
      "BERT编码: 100%|██████████| 1/1 [00:00<00:00, 111.32it/s]\n",
      "BERT编码: 100%|██████████| 1/1 [00:00<00:00, 89.63it/s]\n",
      "BERT编码: 100%|██████████| 1/1 [00:00<00:00, 141.72it/s]\n",
      "BERT编码: 100%|██████████| 1/1 [00:00<00:00, 95.46it/s]\n",
      "BERT编码: 100%|██████████| 1/1 [00:00<00:00, 137.38it/s]\n",
      "BERT编码: 100%|██████████| 1/1 [00:00<00:00, 92.93it/s]\n",
      "BERT编码: 100%|██████████| 1/1 [00:00<00:00, 164.91it/s]\n",
      "BERT编码: 100%|██████████| 1/1 [00:00<00:00, 101.44it/s]\n",
      "BERT编码: 100%|██████████| 1/1 [00:00<00:00, 139.80it/s]\n",
      "BERT编码: 100%|██████████| 1/1 [00:00<00:00, 83.53it/s]\n",
      "BERT编码: 100%|██████████| 1/1 [00:00<00:00, 140.31it/s]\n",
      "BERT编码: 100%|██████████| 1/1 [00:00<00:00, 97.24it/s]\n",
      "BERT编码: 100%|██████████| 1/1 [00:00<00:00, 119.19it/s]\n",
      "BERT编码: 100%|██████████| 1/1 [00:00<00:00, 135.72it/s]\n",
      "BERT编码: 100%|██████████| 1/1 [00:00<00:00, 113.35it/s]\n",
      "BERT编码: 100%|██████████| 1/1 [00:00<00:00, 127.21it/s]\n",
      "BERT编码: 100%|██████████| 1/1 [00:00<00:00, 97.18it/s]\n",
      "BERT编码: 100%|██████████| 1/1 [00:00<00:00, 107.31it/s]\n",
      "BERT编码: 100%|██████████| 1/1 [00:00<00:00, 110.13it/s]\n",
      "BERT编码: 100%|██████████| 1/1 [00:00<00:00, 98.57it/s]\n",
      "BERT编码: 100%|██████████| 1/1 [00:00<00:00, 120.93it/s]\n",
      "BERT编码: 100%|██████████| 1/1 [00:00<00:00, 129.37it/s]\n",
      "BERT编码: 100%|██████████| 1/1 [00:00<00:00, 111.66it/s]\n",
      "BERT编码: 100%|██████████| 1/1 [00:00<00:00, 153.49it/s]\n",
      "BERT编码: 100%|██████████| 1/1 [00:00<00:00, 108.40it/s]\n",
      "BERT编码: 100%|██████████| 1/1 [00:00<00:00, 134.25it/s]\n",
      "BERT编码: 100%|██████████| 1/1 [00:00<00:00, 102.11it/s]\n",
      "BERT编码: 100%|██████████| 1/1 [00:00<00:00, 108.39it/s]\n",
      "BERT编码: 100%|██████████| 1/1 [00:00<00:00, 116.48it/s]\n",
      "BERT编码: 100%|██████████| 1/1 [00:00<00:00, 110.69it/s]\n",
      "BERT编码: 100%|██████████| 1/1 [00:00<00:00, 132.54it/s]\n"
     ]
    },
    {
     "name": "stdout",
     "output_type": "stream",
     "text": [
      "从缓存加载BERT嵌入...\n"
     ]
    },
    {
     "name": "stderr",
     "output_type": "stream",
     "text": [
      "BERT编码: 100%|██████████| 1/1 [00:00<00:00, 124.06it/s]\n",
      "BERT编码: 100%|██████████| 1/1 [00:00<00:00, 109.18it/s]\n",
      "BERT编码: 100%|██████████| 1/1 [00:00<00:00, 141.37it/s]\n",
      "BERT编码: 100%|██████████| 1/1 [00:00<00:00, 121.54it/s]\n",
      "BERT编码: 100%|██████████| 1/1 [00:00<00:00, 114.05it/s]\n",
      "BERT编码: 100%|██████████| 1/1 [00:00<00:00, 120.76it/s]\n",
      "BERT编码: 100%|██████████| 1/1 [00:00<00:00, 80.53it/s]\n"
     ]
    },
    {
     "name": "stdout",
     "output_type": "stream",
     "text": [
      "从缓存加载BERT嵌入...\n"
     ]
    },
    {
     "name": "stderr",
     "output_type": "stream",
     "text": [
      "BERT编码: 100%|██████████| 1/1 [00:00<00:00, 122.61it/s]\n",
      "BERT编码: 100%|██████████| 1/1 [00:00<00:00, 53.67it/s]\n",
      "BERT编码: 100%|██████████| 1/1 [00:00<00:00, 114.69it/s]\n",
      "BERT编码: 100%|██████████| 1/1 [00:00<00:00, 113.65it/s]\n",
      "BERT编码: 100%|██████████| 1/1 [00:00<00:00, 85.32it/s]\n",
      "BERT编码: 100%|██████████| 1/1 [00:00<00:00, 153.30it/s]\n",
      "BERT编码: 100%|██████████| 1/1 [00:00<00:00, 106.26it/s]\n",
      "BERT编码: 100%|██████████| 1/1 [00:00<00:00, 139.31it/s]\n",
      "BERT编码: 100%|██████████| 1/1 [00:00<00:00, 107.65it/s]\n",
      "BERT编码: 100%|██████████| 1/1 [00:00<00:00, 159.98it/s]\n",
      "BERT编码: 100%|██████████| 1/1 [00:00<00:00, 109.10it/s]\n",
      "BERT编码: 100%|██████████| 1/1 [00:00<00:00, 130.16it/s]\n",
      "BERT编码: 100%|██████████| 1/1 [00:00<00:00, 82.07it/s]\n",
      "BERT编码: 100%|██████████| 1/1 [00:00<00:00, 115.29it/s]\n",
      "BERT编码: 100%|██████████| 1/1 [00:00<00:00, 106.19it/s]\n",
      "BERT编码: 100%|██████████| 1/1 [00:00<00:00, 152.50it/s]\n",
      "BERT编码: 100%|██████████| 1/1 [00:00<00:00, 98.62it/s]\n",
      "BERT编码: 100%|██████████| 1/1 [00:00<00:00, 145.31it/s]\n",
      "BERT编码: 100%|██████████| 1/1 [00:00<00:00, 75.60it/s]\n",
      "BERT编码: 100%|██████████| 1/1 [00:00<00:00, 137.82it/s]\n",
      "BERT编码: 100%|██████████| 1/1 [00:00<00:00, 119.73it/s]\n",
      "BERT编码: 100%|██████████| 1/1 [00:00<00:00, 143.64it/s]\n",
      "BERT编码: 100%|██████████| 1/1 [00:00<00:00, 79.56it/s]\n",
      "BERT编码: 100%|██████████| 1/1 [00:00<00:00, 132.79it/s]\n",
      "BERT编码: 100%|██████████| 1/1 [00:00<00:00, 94.17it/s]\n"
     ]
    },
    {
     "name": "stdout",
     "output_type": "stream",
     "text": [
      "从缓存加载BERT嵌入...\n"
     ]
    },
    {
     "name": "stderr",
     "output_type": "stream",
     "text": [
      "BERT编码: 100%|██████████| 1/1 [00:00<00:00, 119.73it/s]\n",
      "BERT编码: 100%|██████████| 1/1 [00:00<00:00, 94.06it/s]\n",
      "BERT编码: 100%|██████████| 1/1 [00:00<00:00, 104.45it/s]\n",
      "BERT编码: 100%|██████████| 1/1 [00:00<00:00, 95.86it/s]\n",
      "BERT编码: 100%|██████████| 1/1 [00:00<00:00, 113.86it/s]\n",
      "BERT编码: 100%|██████████| 1/1 [00:00<00:00, 110.94it/s]\n",
      "BERT编码: 100%|██████████| 1/1 [00:00<00:00, 103.51it/s]\n",
      "BERT编码: 100%|██████████| 1/1 [00:00<00:00, 102.20it/s]\n",
      "BERT编码: 100%|██████████| 1/1 [00:00<00:00, 123.50it/s]\n",
      "BERT编码: 100%|██████████| 1/1 [00:00<00:00, 93.30it/s]\n",
      "BERT编码: 100%|██████████| 1/1 [00:00<00:00, 155.64it/s]\n",
      "BERT编码: 100%|██████████| 1/1 [00:00<00:00, 115.21it/s]\n",
      "BERT编码: 100%|██████████| 1/1 [00:00<00:00, 87.58it/s]\n",
      "BERT编码: 100%|██████████| 1/1 [00:00<00:00, 116.85it/s]\n",
      "BERT编码: 100%|██████████| 1/1 [00:00<00:00, 51.68it/s]\n"
     ]
    },
    {
     "name": "stdout",
     "output_type": "stream",
     "text": [
      "从缓存加载BERT嵌入...\n"
     ]
    },
    {
     "name": "stderr",
     "output_type": "stream",
     "text": [
      "BERT编码: 100%|██████████| 1/1 [00:00<00:00, 30.32it/s]\n",
      "BERT编码: 100%|██████████| 1/1 [00:00<00:00, 89.13it/s]\n",
      "BERT编码: 100%|██████████| 1/1 [00:00<00:00, 138.64it/s]\n",
      "BERT编码: 100%|██████████| 1/1 [00:00<00:00, 98.86it/s]\n",
      "BERT编码: 100%|██████████| 1/1 [00:00<00:00, 120.03it/s]\n",
      "BERT编码: 100%|██████████| 1/1 [00:00<00:00, 87.25it/s]\n",
      "BERT编码: 100%|██████████| 1/1 [00:00<00:00, 79.98it/s]\n",
      "BERT编码: 100%|██████████| 1/1 [00:00<00:00, 115.82it/s]\n",
      "BERT编码: 100%|██████████| 1/1 [00:00<00:00, 108.20it/s]\n"
     ]
    },
    {
     "name": "stdout",
     "output_type": "stream",
     "text": [
      "从缓存加载BERT嵌入...\n"
     ]
    },
    {
     "name": "stderr",
     "output_type": "stream",
     "text": [
      "BERT编码: 100%|██████████| 1/1 [00:00<00:00, 102.00it/s]\n"
     ]
    },
    {
     "name": "stdout",
     "output_type": "stream",
     "text": [
      "从缓存加载BERT嵌入...\n"
     ]
    },
    {
     "name": "stderr",
     "output_type": "stream",
     "text": [
      "BERT编码: 100%|██████████| 1/1 [00:00<00:00, 90.71it/s]\n",
      "BERT编码: 100%|██████████| 1/1 [00:00<00:00, 138.50it/s]\n",
      "BERT编码: 100%|██████████| 1/1 [00:00<00:00, 107.43it/s]\n",
      "BERT编码: 100%|██████████| 1/1 [00:00<00:00, 130.74it/s]\n",
      "BERT编码: 100%|██████████| 1/1 [00:00<00:00, 100.83it/s]\n",
      "BERT编码: 100%|██████████| 1/1 [00:00<00:00, 156.60it/s]\n",
      "BERT编码: 100%|██████████| 1/1 [00:00<00:00, 119.94it/s]\n",
      "BERT编码: 100%|██████████| 1/1 [00:00<00:00, 139.94it/s]\n",
      "BERT编码: 100%|██████████| 1/1 [00:00<00:00, 92.34it/s]\n",
      "BERT编码: 100%|██████████| 1/1 [00:00<00:00, 103.40it/s]\n",
      "BERT编码: 100%|██████████| 1/1 [00:00<00:00, 116.71it/s]\n",
      "BERT编码: 100%|██████████| 1/1 [00:00<00:00, 101.59it/s]\n",
      "BERT编码: 100%|██████████| 1/1 [00:00<00:00, 162.89it/s]\n"
     ]
    },
    {
     "name": "stdout",
     "output_type": "stream",
     "text": [
      "从缓存加载BERT嵌入...\n"
     ]
    },
    {
     "name": "stderr",
     "output_type": "stream",
     "text": [
      "BERT编码: 100%|██████████| 1/1 [00:00<00:00, 115.33it/s]\n",
      "BERT编码: 100%|██████████| 1/1 [00:00<00:00, 145.33it/s]\n",
      "BERT编码: 100%|██████████| 1/1 [00:00<00:00, 108.16it/s]\n",
      "BERT编码: 100%|██████████| 1/1 [00:00<00:00, 120.79it/s]\n",
      "BERT编码: 100%|██████████| 1/1 [00:00<00:00, 122.22it/s]\n",
      "BERT编码: 100%|██████████| 1/1 [00:00<00:00, 110.91it/s]\n",
      "BERT编码: 100%|██████████| 1/1 [00:00<00:00, 122.22it/s]\n",
      "BERT编码: 100%|██████████| 1/1 [00:00<00:00, 87.18it/s]\n",
      "BERT编码: 100%|██████████| 1/1 [00:00<00:00, 146.42it/s]\n",
      "BERT编码: 100%|██████████| 1/1 [00:00<00:00, 81.57it/s]\n",
      "BERT编码: 100%|██████████| 1/1 [00:00<00:00, 127.21it/s]\n"
     ]
    },
    {
     "name": "stdout",
     "output_type": "stream",
     "text": [
      "从缓存加载BERT嵌入...\n"
     ]
    },
    {
     "name": "stderr",
     "output_type": "stream",
     "text": [
      "BERT编码: 100%|██████████| 1/1 [00:00<00:00, 122.22it/s]\n",
      "BERT编码: 100%|██████████| 1/1 [00:00<00:00, 114.00it/s]\n",
      "BERT编码: 100%|██████████| 1/1 [00:00<00:00, 136.00it/s]\n",
      "BERT编码: 100%|██████████| 1/1 [00:00<00:00, 109.77it/s]\n",
      "BERT编码: 100%|██████████| 1/1 [00:00<00:00, 158.91it/s]\n",
      "BERT编码: 100%|██████████| 1/1 [00:00<00:00, 107.77it/s]\n",
      "BERT编码: 100%|██████████| 1/1 [00:00<00:00, 160.87it/s]\n",
      "BERT编码: 100%|██████████| 1/1 [00:00<00:00, 73.64it/s]\n",
      "BERT编码: 100%|██████████| 1/1 [00:00<00:00, 128.09it/s]\n",
      "BERT编码: 100%|██████████| 1/1 [00:00<00:00, 69.96it/s]\n",
      "BERT编码: 100%|██████████| 1/1 [00:00<00:00, 145.31it/s]\n",
      "BERT编码: 100%|██████████| 1/1 [00:00<00:00, 74.98it/s]\n",
      "BERT编码: 100%|██████████| 1/1 [00:00<00:00, 77.11it/s]\n",
      "BERT编码: 100%|██████████| 1/1 [00:00<00:00, 128.15it/s]\n",
      "BERT编码: 100%|██████████| 1/1 [00:00<00:00, 101.77it/s]\n",
      "BERT编码: 100%|██████████| 1/1 [00:00<00:00, 130.16it/s]\n",
      "BERT编码: 100%|██████████| 1/1 [00:00<00:00, 93.45it/s]\n",
      "BERT编码: 100%|██████████| 1/1 [00:00<00:00, 112.93it/s]\n",
      "BERT编码: 100%|██████████| 1/1 [00:00<00:00, 76.65it/s]\n",
      "BERT编码: 100%|██████████| 1/1 [00:00<00:00, 97.15it/s]\n",
      "BERT编码: 100%|██████████| 1/1 [00:00<00:00, 108.49it/s]\n",
      "BERT编码: 100%|██████████| 1/1 [00:00<00:00, 108.47it/s]\n",
      "BERT编码: 100%|██████████| 1/1 [00:00<00:00, 73.90it/s]\n",
      "BERT编码: 100%|██████████| 1/1 [00:00<00:00, 124.36it/s]\n",
      "BERT编码: 100%|██████████| 1/1 [00:00<00:00, 98.33it/s]\n",
      "BERT编码: 100%|██████████| 1/1 [00:00<00:00, 126.74it/s]\n",
      "BERT编码: 100%|██████████| 1/1 [00:00<00:00, 102.47it/s]\n",
      "BERT编码: 100%|██████████| 1/1 [00:00<00:00, 121.05it/s]\n",
      "BERT编码: 100%|██████████| 1/1 [00:00<00:00, 95.33it/s]\n",
      "BERT编码: 100%|██████████| 1/1 [00:00<00:00, 78.70it/s]\n",
      "BERT编码: 100%|██████████| 1/1 [00:00<00:00, 113.01it/s]\n",
      "BERT编码: 100%|██████████| 1/1 [00:00<00:00, 117.73it/s]\n",
      "BERT编码: 100%|██████████| 1/1 [00:00<00:00, 140.57it/s]\n",
      "BERT编码: 100%|██████████| 1/1 [00:00<00:00, 111.52it/s]\n",
      "BERT编码: 100%|██████████| 1/1 [00:00<00:00, 83.19it/s]\n",
      "BERT编码: 100%|██████████| 1/1 [00:00<00:00, 128.75it/s]\n",
      "BERT编码: 100%|██████████| 1/1 [00:00<00:00, 82.28it/s]\n"
     ]
    },
    {
     "name": "stdout",
     "output_type": "stream",
     "text": [
      "从缓存加载BERT嵌入...\n"
     ]
    },
    {
     "name": "stderr",
     "output_type": "stream",
     "text": [
      "BERT编码: 100%|██████████| 1/1 [00:00<00:00, 127.23it/s]\n",
      "BERT编码: 100%|██████████| 1/1 [00:00<00:00, 61.21it/s]\n",
      "BERT编码: 100%|██████████| 1/1 [00:00<00:00, 142.90it/s]\n",
      "BERT编码: 100%|██████████| 1/1 [00:00<00:00, 94.67it/s]\n",
      "BERT编码: 100%|██████████| 1/1 [00:00<00:00, 115.13it/s]\n",
      "BERT编码: 100%|██████████| 1/1 [00:00<00:00, 100.11it/s]\n",
      "BERT编码: 100%|██████████| 1/1 [00:00<00:00, 106.60it/s]\n",
      "BERT编码: 100%|██████████| 1/1 [00:00<00:00, 136.27it/s]\n",
      "BERT编码: 100%|██████████| 1/1 [00:00<00:00, 108.85it/s]\n",
      "BERT编码: 100%|██████████| 1/1 [00:00<00:00, 127.05it/s]\n",
      "BERT编码: 100%|██████████| 1/1 [00:00<00:00, 97.12it/s]\n",
      "BERT编码: 100%|██████████| 1/1 [00:00<00:00, 106.06it/s]\n",
      "BERT编码: 100%|██████████| 1/1 [00:00<00:00, 110.67it/s]\n",
      "BERT编码: 100%|██████████| 1/1 [00:00<00:00, 57.02it/s]\n",
      "BERT编码: 100%|██████████| 1/1 [00:00<00:00, 109.18it/s]\n",
      "BERT编码: 100%|██████████| 1/1 [00:00<00:00, 104.72it/s]\n",
      "BERT编码: 100%|██████████| 1/1 [00:00<00:00, 164.96it/s]\n",
      "BERT编码: 100%|██████████| 1/1 [00:00<00:00, 101.67it/s]\n",
      "BERT编码: 100%|██████████| 1/1 [00:00<00:00, 113.22it/s]\n",
      "BERT编码: 100%|██████████| 1/1 [00:00<00:00, 93.88it/s]\n",
      "BERT编码: 100%|██████████| 1/1 [00:00<00:00, 107.16it/s]\n",
      "BERT编码: 100%|██████████| 1/1 [00:00<00:00, 124.85it/s]\n",
      "BERT编码: 100%|██████████| 1/1 [00:00<00:00, 117.37it/s]\n"
     ]
    },
    {
     "name": "stdout",
     "output_type": "stream",
     "text": [
      "从缓存加载BERT嵌入...\n"
     ]
    },
    {
     "name": "stderr",
     "output_type": "stream",
     "text": [
      "BERT编码: 100%|██████████| 1/1 [00:00<00:00, 114.51it/s]\n"
     ]
    },
    {
     "name": "stdout",
     "output_type": "stream",
     "text": [
      "从缓存加载BERT嵌入...\n"
     ]
    },
    {
     "name": "stderr",
     "output_type": "stream",
     "text": [
      "BERT编码: 100%|██████████| 1/1 [00:00<00:00, 119.13it/s]\n",
      "BERT编码: 100%|██████████| 1/1 [00:00<00:00, 100.57it/s]\n",
      "BERT编码: 100%|██████████| 1/1 [00:00<00:00, 138.16it/s]\n"
     ]
    },
    {
     "name": "stdout",
     "output_type": "stream",
     "text": [
      "从缓存加载BERT嵌入...\n"
     ]
    },
    {
     "name": "stderr",
     "output_type": "stream",
     "text": [
      "BERT编码: 100%|██████████| 1/1 [00:00<00:00, 91.33it/s]\n",
      "BERT编码: 100%|██████████| 1/1 [00:00<00:00, 109.90it/s]\n",
      "BERT编码: 100%|██████████| 1/1 [00:00<00:00, 117.33it/s]\n",
      "BERT编码: 100%|██████████| 1/1 [00:00<00:00, 103.09it/s]\n",
      "BERT编码: 100%|██████████| 1/1 [00:00<00:00, 118.50it/s]\n",
      "BERT编码: 100%|██████████| 1/1 [00:00<00:00, 106.34it/s]\n",
      "BERT编码: 100%|██████████| 1/1 [00:00<00:00, 127.03it/s]\n",
      "BERT编码: 100%|██████████| 1/1 [00:00<00:00, 130.38it/s]\n",
      "BERT编码: 100%|██████████| 1/1 [00:00<00:00, 97.45it/s]\n"
     ]
    },
    {
     "name": "stdout",
     "output_type": "stream",
     "text": [
      "从缓存加载BERT嵌入...\n"
     ]
    },
    {
     "name": "stderr",
     "output_type": "stream",
     "text": [
      "BERT编码: 100%|██████████| 1/1 [00:00<00:00, 110.52it/s]\n",
      "BERT编码: 100%|██████████| 1/1 [00:00<00:00, 99.90it/s]\n"
     ]
    },
    {
     "name": "stdout",
     "output_type": "stream",
     "text": [
      "从缓存加载BERT嵌入...\n",
      "从缓存加载BERT嵌入...\n"
     ]
    },
    {
     "name": "stderr",
     "output_type": "stream",
     "text": [
      "BERT编码: 100%|██████████| 1/1 [00:00<00:00, 141.50it/s]\n",
      "BERT编码: 100%|██████████| 1/1 [00:00<00:00, 114.92it/s]\n",
      "BERT编码: 100%|██████████| 1/1 [00:00<00:00, 116.73it/s]\n"
     ]
    },
    {
     "name": "stdout",
     "output_type": "stream",
     "text": [
      "从缓存加载BERT嵌入...\n"
     ]
    },
    {
     "name": "stderr",
     "output_type": "stream",
     "text": [
      "BERT编码: 100%|██████████| 1/1 [00:00<00:00, 134.99it/s]\n",
      "BERT编码: 100%|██████████| 1/1 [00:00<00:00, 86.99it/s]\n",
      "BERT编码: 100%|██████████| 1/1 [00:00<00:00, 140.59it/s]\n",
      "BERT编码: 100%|██████████| 1/1 [00:00<00:00, 114.26it/s]\n",
      "BERT编码: 100%|██████████| 1/1 [00:00<00:00, 156.69it/s]\n",
      "BERT编码: 100%|██████████| 1/1 [00:00<00:00, 87.40it/s]\n",
      "BERT编码: 100%|██████████| 1/1 [00:00<00:00, 135.98it/s]\n"
     ]
    },
    {
     "name": "stdout",
     "output_type": "stream",
     "text": [
      "从缓存加载BERT嵌入...\n"
     ]
    },
    {
     "name": "stderr",
     "output_type": "stream",
     "text": [
      "BERT编码: 100%|██████████| 1/1 [00:00<00:00, 98.34it/s]\n",
      "BERT编码: 100%|██████████| 1/1 [00:00<00:00, 99.68it/s]\n",
      "BERT编码: 100%|██████████| 1/1 [00:00<00:00, 114.63it/s]\n",
      "BERT编码: 100%|██████████| 1/1 [00:00<00:00, 115.82it/s]\n",
      "BERT编码: 100%|██████████| 1/1 [00:00<00:00, 113.58it/s]\n",
      "BERT编码: 100%|██████████| 1/1 [00:00<00:00, 155.04it/s]\n",
      "BERT编码: 100%|██████████| 1/1 [00:00<00:00, 98.90it/s]\n",
      "BERT编码: 100%|██████████| 1/1 [00:00<00:00, 109.24it/s]\n",
      "BERT编码: 100%|██████████| 1/1 [00:00<00:00, 115.06it/s]\n",
      "BERT编码: 100%|██████████| 1/1 [00:00<00:00, 101.09it/s]\n",
      "BERT编码: 100%|██████████| 1/1 [00:00<00:00, 100.94it/s]\n",
      "BERT编码: 100%|██████████| 1/1 [00:00<00:00, 58.50it/s]\n",
      "BERT编码: 100%|██████████| 1/1 [00:00<00:00, 91.27it/s]\n"
     ]
    },
    {
     "name": "stdout",
     "output_type": "stream",
     "text": [
      "从缓存加载BERT嵌入...\n"
     ]
    },
    {
     "name": "stderr",
     "output_type": "stream",
     "text": [
      "BERT编码: 100%|██████████| 1/1 [00:00<00:00, 120.32it/s]\n",
      "BERT编码: 100%|██████████| 1/1 [00:00<00:00, 72.63it/s]\n",
      "BERT编码: 100%|██████████| 1/1 [00:00<00:00, 60.50it/s]\n",
      "BERT编码: 100%|██████████| 1/1 [00:00<00:00, 103.37it/s]\n",
      "BERT编码: 100%|██████████| 1/1 [00:00<00:00, 138.41it/s]\n",
      "BERT编码: 100%|██████████| 1/1 [00:00<00:00, 94.59it/s]\n",
      "BERT编码: 100%|██████████| 1/1 [00:00<00:00, 117.25it/s]\n",
      "BERT编码: 100%|██████████| 1/1 [00:00<00:00, 108.07it/s]\n",
      "BERT编码: 100%|██████████| 1/1 [00:00<00:00, 156.27it/s]\n",
      "BERT编码: 100%|██████████| 1/1 [00:00<00:00, 87.34it/s]\n",
      "BERT编码: 100%|██████████| 1/1 [00:00<00:00, 107.61it/s]\n",
      "BERT编码: 100%|██████████| 1/1 [00:00<00:00, 105.86it/s]\n",
      "BERT编码: 100%|██████████| 1/1 [00:00<00:00, 110.43it/s]\n",
      "BERT编码: 100%|██████████| 1/1 [00:00<00:00, 109.80it/s]\n",
      "BERT编码: 100%|██████████| 1/1 [00:00<00:00, 113.07it/s]\n",
      "BERT编码: 100%|██████████| 1/1 [00:00<00:00, 115.96it/s]\n",
      "BERT编码: 100%|██████████| 1/1 [00:00<00:00, 102.73it/s]\n",
      "BERT编码: 100%|██████████| 1/1 [00:00<00:00, 131.92it/s]\n",
      "BERT编码: 100%|██████████| 1/1 [00:00<00:00, 103.03it/s]\n",
      "BERT编码: 100%|██████████| 1/1 [00:00<00:00, 123.44it/s]\n",
      "BERT编码: 100%|██████████| 1/1 [00:00<00:00, 103.32it/s]\n",
      "BERT编码: 100%|██████████| 1/1 [00:00<00:00, 134.25it/s]\n",
      "BERT编码: 100%|██████████| 1/1 [00:00<00:00, 112.12it/s]\n",
      "BERT编码: 100%|██████████| 1/1 [00:00<00:00, 124.15it/s]\n",
      "BERT编码: 100%|██████████| 1/1 [00:00<00:00, 85.14it/s]\n",
      "BERT编码: 100%|██████████| 1/1 [00:00<00:00, 108.91it/s]\n"
     ]
    },
    {
     "name": "stdout",
     "output_type": "stream",
     "text": [
      "从缓存加载BERT嵌入...\n",
      "从缓存加载BERT嵌入...\n"
     ]
    },
    {
     "name": "stderr",
     "output_type": "stream",
     "text": [
      "BERT编码: 100%|██████████| 1/1 [00:00<00:00, 135.98it/s]\n",
      "BERT编码: 100%|██████████| 1/1 [00:00<00:00, 109.49it/s]\n",
      "BERT编码: 100%|██████████| 1/1 [00:00<00:00, 66.59it/s]\n",
      "BERT编码: 100%|██████████| 1/1 [00:00<00:00, 79.13it/s]\n"
     ]
    },
    {
     "name": "stdout",
     "output_type": "stream",
     "text": [
      "从缓存加载BERT嵌入...\n",
      "从缓存加载BERT嵌入...\n"
     ]
    },
    {
     "name": "stderr",
     "output_type": "stream",
     "text": [
      "BERT编码: 100%|██████████| 1/1 [00:00<00:00, 113.48it/s]\n",
      "BERT编码: 100%|██████████| 1/1 [00:00<00:00, 77.80it/s]\n",
      "BERT编码: 100%|██████████| 1/1 [00:00<00:00, 116.14it/s]\n",
      "BERT编码: 100%|██████████| 1/1 [00:00<00:00, 119.29it/s]\n",
      "BERT编码: 100%|██████████| 1/1 [00:00<00:00, 112.27it/s]\n",
      "BERT编码: 100%|██████████| 1/1 [00:00<00:00, 117.76it/s]\n",
      "BERT编码: 100%|██████████| 1/1 [00:00<00:00, 83.19it/s]\n",
      "BERT编码: 100%|██████████| 1/1 [00:00<00:00, 85.00it/s]\n",
      "BERT编码: 100%|██████████| 1/1 [00:00<00:00, 84.35it/s]\n",
      "BERT编码: 100%|██████████| 1/1 [00:00<00:00, 103.65it/s]\n",
      "BERT编码: 100%|██████████| 1/1 [00:00<00:00, 93.96it/s]\n"
     ]
    },
    {
     "name": "stdout",
     "output_type": "stream",
     "text": [
      "从缓存加载BERT嵌入...\n"
     ]
    },
    {
     "name": "stderr",
     "output_type": "stream",
     "text": [
      "BERT编码: 100%|██████████| 1/1 [00:00<00:00, 116.28it/s]\n",
      "BERT编码: 100%|██████████| 1/1 [00:00<00:00, 101.62it/s]\n",
      "BERT编码: 100%|██████████| 1/1 [00:00<00:00, 128.44it/s]\n"
     ]
    },
    {
     "name": "stdout",
     "output_type": "stream",
     "text": [
      "从缓存加载BERT嵌入...\n"
     ]
    },
    {
     "name": "stderr",
     "output_type": "stream",
     "text": [
      "BERT编码: 100%|██████████| 1/1 [00:00<00:00, 106.73it/s]\n",
      "BERT编码: 100%|██████████| 1/1 [00:00<00:00, 131.22it/s]\n",
      "BERT编码: 100%|██████████| 1/1 [00:00<00:00, 96.03it/s]\n",
      "BERT编码: 100%|██████████| 1/1 [00:00<00:00, 115.04it/s]\n",
      "BERT编码: 100%|██████████| 1/1 [00:00<00:00, 114.56it/s]\n"
     ]
    },
    {
     "name": "stdout",
     "output_type": "stream",
     "text": [
      "从缓存加载BERT嵌入...\n"
     ]
    },
    {
     "name": "stderr",
     "output_type": "stream",
     "text": [
      "BERT编码: 100%|██████████| 1/1 [00:00<00:00, 152.37it/s]\n",
      "BERT编码: 100%|██████████| 1/1 [00:00<00:00, 89.47it/s]\n",
      "BERT编码: 100%|██████████| 1/1 [00:00<00:00, 131.84it/s]\n",
      "BERT编码: 100%|██████████| 1/1 [00:00<00:00, 116.05it/s]\n",
      "BERT编码: 100%|██████████| 1/1 [00:00<00:00, 117.14it/s]\n",
      "BERT编码: 100%|██████████| 1/1 [00:00<00:00, 119.02it/s]\n",
      "BERT编码: 100%|██████████| 1/1 [00:00<00:00, 127.02it/s]\n",
      "BERT编码: 100%|██████████| 1/1 [00:00<00:00, 120.30it/s]\n",
      "BERT编码: 100%|██████████| 1/1 [00:00<00:00, 106.03it/s]\n",
      "BERT编码: 100%|██████████| 1/1 [00:00<00:00, 147.53it/s]\n",
      "BERT编码: 100%|██████████| 1/1 [00:00<00:00, 77.88it/s]\n",
      "BERT编码: 100%|██████████| 1/1 [00:00<00:00, 157.18it/s]\n",
      "BERT编码: 100%|██████████| 1/1 [00:00<00:00, 101.97it/s]\n",
      "BERT编码: 100%|██████████| 1/1 [00:00<00:00, 112.21it/s]\n",
      "BERT编码: 100%|██████████| 1/1 [00:00<00:00, 128.56it/s]\n",
      "BERT编码: 100%|██████████| 1/1 [00:00<00:00, 117.98it/s]\n",
      "BERT编码: 100%|██████████| 1/1 [00:00<00:00, 116.12it/s]\n",
      "BERT编码: 100%|██████████| 1/1 [00:00<00:00, 152.89it/s]\n",
      "BERT编码: 100%|██████████| 1/1 [00:00<00:00, 87.49it/s]\n",
      "BERT编码: 100%|██████████| 1/1 [00:00<00:00, 164.45it/s]\n",
      "BERT编码: 100%|██████████| 1/1 [00:00<00:00, 102.22it/s]\n",
      "BERT编码: 100%|██████████| 1/1 [00:00<00:00, 125.85it/s]\n",
      "BERT编码: 100%|██████████| 1/1 [00:00<00:00, 104.27it/s]\n",
      "BERT编码: 100%|██████████| 1/1 [00:00<00:00, 127.99it/s]\n",
      "BERT编码: 100%|██████████| 1/1 [00:00<00:00, 110.77it/s]\n",
      "BERT编码: 100%|██████████| 1/1 [00:00<00:00, 112.38it/s]\n",
      "BERT编码: 100%|██████████| 1/1 [00:00<00:00, 155.64it/s]\n",
      "BERT编码: 100%|██████████| 1/1 [00:00<00:00, 91.85it/s]\n",
      "BERT编码: 100%|██████████| 1/1 [00:00<00:00, 145.26it/s]\n",
      "BERT编码: 100%|██████████| 1/1 [00:00<00:00, 90.98it/s]\n",
      "BERT编码: 100%|██████████| 1/1 [00:00<00:00, 140.75it/s]\n",
      "BERT编码: 100%|██████████| 1/1 [00:00<00:00, 107.27it/s]\n",
      "BERT编码: 100%|██████████| 1/1 [00:00<00:00, 141.40it/s]\n",
      "BERT编码: 100%|██████████| 1/1 [00:00<00:00, 92.29it/s]\n",
      "BERT编码: 100%|██████████| 1/1 [00:00<00:00, 105.80it/s]\n",
      "BERT编码: 100%|██████████| 1/1 [00:00<00:00, 111.66it/s]\n",
      "BERT编码: 100%|██████████| 1/1 [00:00<00:00, 106.81it/s]\n",
      "BERT编码: 100%|██████████| 1/1 [00:00<00:00, 114.35it/s]\n",
      "BERT编码: 100%|██████████| 1/1 [00:00<00:00, 111.05it/s]\n",
      "BERT编码: 100%|██████████| 1/1 [00:00<00:00, 131.60it/s]\n",
      "BERT编码: 100%|██████████| 1/1 [00:00<00:00, 113.62it/s]\n",
      "BERT编码: 100%|██████████| 1/1 [00:00<00:00, 163.74it/s]\n",
      "BERT编码: 100%|██████████| 1/1 [00:00<00:00, 94.80it/s]\n"
     ]
    },
    {
     "name": "stdout",
     "output_type": "stream",
     "text": [
      "从缓存加载BERT嵌入...\n"
     ]
    },
    {
     "name": "stderr",
     "output_type": "stream",
     "text": [
      "BERT编码: 100%|██████████| 1/1 [00:00<00:00, 103.27it/s]\n",
      "BERT编码: 100%|██████████| 1/1 [00:00<00:00, 122.01it/s]\n",
      "BERT编码: 100%|██████████| 1/1 [00:00<00:00, 104.73it/s]\n",
      "BERT编码: 100%|██████████| 1/1 [00:00<00:00, 129.47it/s]\n",
      "BERT编码: 100%|██████████| 1/1 [00:00<00:00, 127.37it/s]\n",
      "BERT编码: 100%|██████████| 1/1 [00:00<00:00, 134.80it/s]\n",
      "BERT编码: 100%|██████████| 1/1 [00:00<00:00, 119.48it/s]\n",
      "BERT编码: 100%|██████████| 1/1 [00:00<00:00, 109.18it/s]\n",
      "BERT编码: 100%|██████████| 1/1 [00:00<00:00, 96.51it/s]\n",
      "BERT编码: 100%|██████████| 1/1 [00:00<00:00, 115.79it/s]\n",
      "BERT编码: 100%|██████████| 1/1 [00:00<00:00, 97.62it/s]\n",
      "BERT编码: 100%|██████████| 1/1 [00:00<00:00, 145.46it/s]\n",
      "BERT编码: 100%|██████████| 1/1 [00:00<00:00, 109.88it/s]\n",
      "BERT编码: 100%|██████████| 1/1 [00:00<00:00, 131.47it/s]\n",
      "BERT编码: 100%|██████████| 1/1 [00:00<00:00, 102.52it/s]\n",
      "BERT编码: 100%|██████████| 1/1 [00:00<00:00, 119.97it/s]\n",
      "BERT编码: 100%|██████████| 1/1 [00:00<00:00, 100.89it/s]\n",
      "BERT编码: 100%|██████████| 1/1 [00:00<00:00, 136.26it/s]\n",
      "BERT编码: 100%|██████████| 1/1 [00:00<00:00, 106.42it/s]\n",
      "BERT编码: 100%|██████████| 1/1 [00:00<00:00, 157.10it/s]\n",
      "BERT编码: 100%|██████████| 1/1 [00:00<00:00, 92.75it/s]\n",
      "BERT编码: 100%|██████████| 1/1 [00:00<00:00, 142.99it/s]\n",
      "BERT编码: 100%|██████████| 1/1 [00:00<00:00, 106.85it/s]\n",
      "BERT编码: 100%|██████████| 1/1 [00:00<00:00, 157.48it/s]\n",
      "BERT编码: 100%|██████████| 1/1 [00:00<00:00, 86.27it/s]\n"
     ]
    },
    {
     "name": "stdout",
     "output_type": "stream",
     "text": [
      "从缓存加载BERT嵌入...\n"
     ]
    },
    {
     "name": "stderr",
     "output_type": "stream",
     "text": [
      "BERT编码: 100%|██████████| 1/1 [00:00<00:00, 136.33it/s]\n",
      "BERT编码: 100%|██████████| 1/1 [00:00<00:00, 98.43it/s]\n",
      "BERT编码: 100%|██████████| 1/1 [00:00<00:00, 132.61it/s]\n",
      "BERT编码: 100%|██████████| 1/1 [00:00<00:00, 97.38it/s]\n",
      "BERT编码: 100%|██████████| 1/1 [00:00<00:00, 156.52it/s]\n",
      "BERT编码: 100%|██████████| 1/1 [00:00<00:00, 104.34it/s]\n",
      "BERT编码: 100%|██████████| 1/1 [00:00<00:00, 129.85it/s]\n",
      "BERT编码: 100%|██████████| 1/1 [00:00<00:00, 83.33it/s]\n",
      "BERT编码: 100%|██████████| 1/1 [00:00<00:00, 156.61it/s]\n"
     ]
    },
    {
     "name": "stdout",
     "output_type": "stream",
     "text": [
      "从缓存加载BERT嵌入...\n"
     ]
    },
    {
     "name": "stderr",
     "output_type": "stream",
     "text": [
      "BERT编码: 100%|██████████| 1/1 [00:00<00:00, 96.25it/s]\n",
      "BERT编码: 100%|██████████| 1/1 [00:00<00:00, 125.29it/s]\n",
      "BERT编码: 100%|██████████| 1/1 [00:00<00:00, 112.27it/s]\n"
     ]
    },
    {
     "name": "stdout",
     "output_type": "stream",
     "text": [
      "从缓存加载BERT嵌入...\n"
     ]
    },
    {
     "name": "stderr",
     "output_type": "stream",
     "text": [
      "BERT编码: 100%|██████████| 1/1 [00:00<00:00, 128.31it/s]\n",
      "BERT编码: 100%|██████████| 1/1 [00:00<00:00, 102.09it/s]\n",
      "BERT编码: 100%|██████████| 1/1 [00:00<00:00, 137.87it/s]\n"
     ]
    },
    {
     "name": "stdout",
     "output_type": "stream",
     "text": [
      "从缓存加载BERT嵌入...\n"
     ]
    },
    {
     "name": "stderr",
     "output_type": "stream",
     "text": [
      "BERT编码: 100%|██████████| 1/1 [00:00<00:00, 118.96it/s]\n"
     ]
    },
    {
     "name": "stdout",
     "output_type": "stream",
     "text": [
      "从缓存加载BERT嵌入...\n"
     ]
    },
    {
     "name": "stderr",
     "output_type": "stream",
     "text": [
      "BERT编码: 100%|██████████| 1/1 [00:00<00:00, 90.54it/s]\n"
     ]
    },
    {
     "name": "stdout",
     "output_type": "stream",
     "text": [
      "从缓存加载BERT嵌入...\n"
     ]
    },
    {
     "name": "stderr",
     "output_type": "stream",
     "text": [
      "BERT编码: 100%|██████████| 1/1 [00:00<00:00, 139.45it/s]\n",
      "BERT编码: 100%|██████████| 1/1 [00:00<00:00, 50.70it/s]\n",
      "BERT编码: 100%|██████████| 1/1 [00:00<00:00, 120.58it/s]\n",
      "BERT编码: 100%|██████████| 1/1 [00:00<00:00, 103.98it/s]\n",
      "BERT编码: 100%|██████████| 1/1 [00:00<00:00, 112.64it/s]\n",
      "BERT编码: 100%|██████████| 1/1 [00:00<00:00, 135.81it/s]\n",
      "BERT编码: 100%|██████████| 1/1 [00:00<00:00, 106.74it/s]\n",
      "BERT编码: 100%|██████████| 1/1 [00:00<00:00, 147.56it/s]\n",
      "BERT编码: 100%|██████████| 1/1 [00:00<00:00, 74.80it/s]\n",
      "BERT编码: 100%|██████████| 1/1 [00:00<00:00, 134.23it/s]\n",
      "BERT编码: 100%|██████████| 1/1 [00:00<00:00, 102.75it/s]\n",
      "BERT编码: 100%|██████████| 1/1 [00:00<00:00, 114.21it/s]\n",
      "BERT编码: 100%|██████████| 1/1 [00:00<00:00, 112.17it/s]\n",
      "BERT编码: 100%|██████████| 1/1 [00:00<00:00, 109.34it/s]\n",
      "BERT编码: 100%|██████████| 1/1 [00:00<00:00, 107.61it/s]\n",
      "BERT编码: 100%|██████████| 1/1 [00:00<00:00, 131.20it/s]\n",
      "BERT编码: 100%|██████████| 1/1 [00:00<00:00, 79.11it/s]\n",
      "BERT编码: 100%|██████████| 1/1 [00:00<00:00, 156.32it/s]\n",
      "BERT编码: 100%|██████████| 1/1 [00:00<00:00, 90.93it/s]\n",
      "BERT编码: 100%|██████████| 1/1 [00:00<00:00, 152.12it/s]\n",
      "BERT编码: 100%|██████████| 1/1 [00:00<00:00, 100.34it/s]\n"
     ]
    },
    {
     "name": "stdout",
     "output_type": "stream",
     "text": [
      "从缓存加载BERT嵌入...\n"
     ]
    },
    {
     "name": "stderr",
     "output_type": "stream",
     "text": [
      "BERT编码: 100%|██████████| 1/1 [00:00<00:00, 116.18it/s]\n",
      "BERT编码: 100%|██████████| 1/1 [00:00<00:00, 104.41it/s]\n",
      "BERT编码: 100%|██████████| 1/1 [00:00<00:00, 115.30it/s]\n"
     ]
    },
    {
     "name": "stdout",
     "output_type": "stream",
     "text": [
      "从缓存加载BERT嵌入...\n"
     ]
    },
    {
     "name": "stderr",
     "output_type": "stream",
     "text": [
      "BERT编码: 100%|██████████| 1/1 [00:00<00:00, 127.39it/s]\n",
      "BERT编码: 100%|██████████| 1/1 [00:00<00:00, 110.64it/s]\n",
      "BERT编码: 100%|██████████| 1/1 [00:00<00:00, 133.62it/s]\n",
      "BERT编码: 100%|██████████| 1/1 [00:00<00:00, 142.63it/s]\n",
      "BERT编码: 100%|██████████| 1/1 [00:00<00:00, 102.22it/s]\n",
      "BERT编码: 100%|██████████| 1/1 [00:00<00:00, 101.20it/s]\n",
      "BERT编码: 100%|██████████| 1/1 [00:00<00:00, 121.74it/s]\n",
      "BERT编码: 100%|██████████| 1/1 [00:00<00:00, 92.84it/s]\n",
      "BERT编码: 100%|██████████| 1/1 [00:00<00:00, 123.08it/s]\n",
      "BERT编码: 100%|██████████| 1/1 [00:00<00:00, 98.05it/s]\n"
     ]
    },
    {
     "name": "stdout",
     "output_type": "stream",
     "text": [
      "从缓存加载BERT嵌入...\n",
      "从缓存加载BERT嵌入...\n"
     ]
    },
    {
     "name": "stderr",
     "output_type": "stream",
     "text": [
      "BERT编码: 100%|██████████| 1/1 [00:00<00:00, 154.87it/s]\n",
      "BERT编码: 100%|██████████| 1/1 [00:00<00:00, 103.87it/s]\n",
      "BERT编码: 100%|██████████| 1/1 [00:00<00:00, 108.60it/s]\n",
      "BERT编码: 100%|██████████| 1/1 [00:00<00:00, 94.41it/s]\n",
      "BERT编码: 100%|██████████| 1/1 [00:00<00:00, 127.86it/s]\n",
      "BERT编码: 100%|██████████| 1/1 [00:00<00:00, 131.63it/s]\n",
      "BERT编码: 100%|██████████| 1/1 [00:00<00:00, 112.69it/s]\n"
     ]
    },
    {
     "name": "stdout",
     "output_type": "stream",
     "text": [
      "从缓存加载BERT嵌入...\n"
     ]
    },
    {
     "name": "stderr",
     "output_type": "stream",
     "text": [
      "BERT编码: 100%|██████████| 1/1 [00:00<00:00, 101.13it/s]\n",
      "BERT编码: 100%|██████████| 1/1 [00:00<00:00, 127.07it/s]\n",
      "BERT编码: 100%|██████████| 1/1 [00:00<00:00, 80.35it/s]\n",
      "BERT编码: 100%|██████████| 1/1 [00:00<00:00, 107.66it/s]\n",
      "BERT编码: 100%|██████████| 1/1 [00:00<00:00, 107.83it/s]\n"
     ]
    },
    {
     "name": "stdout",
     "output_type": "stream",
     "text": [
      "从缓存加载BERT嵌入...\n"
     ]
    },
    {
     "name": "stderr",
     "output_type": "stream",
     "text": [
      "BERT编码: 100%|██████████| 1/1 [00:00<00:00, 131.56it/s]\n",
      "BERT编码: 100%|██████████| 1/1 [00:00<00:00, 79.80it/s]\n",
      "BERT编码: 100%|██████████| 1/1 [00:00<00:00, 113.92it/s]\n",
      "BERT编码: 100%|██████████| 1/1 [00:00<00:00, 131.90it/s]\n",
      "BERT编码: 100%|██████████| 1/1 [00:00<00:00, 93.95it/s]\n",
      "BERT编码: 100%|██████████| 1/1 [00:00<00:00, 130.96it/s]\n",
      "BERT编码: 100%|██████████| 1/1 [00:00<00:00, 101.92it/s]\n",
      "BERT编码: 100%|██████████| 1/1 [00:00<00:00, 135.76it/s]\n",
      "BERT编码: 100%|██████████| 1/1 [00:00<00:00, 117.22it/s]\n",
      "BERT编码: 100%|██████████| 1/1 [00:00<00:00, 124.85it/s]\n",
      "BERT编码: 100%|██████████| 1/1 [00:00<00:00, 113.22it/s]\n",
      "BERT编码: 100%|██████████| 1/1 [00:00<00:00, 134.41it/s]\n",
      "BERT编码: 100%|██████████| 1/1 [00:00<00:00, 108.55it/s]\n",
      "BERT编码: 100%|██████████| 1/1 [00:00<00:00, 138.54it/s]\n",
      "BERT编码: 100%|██████████| 1/1 [00:00<00:00, 138.05it/s]\n",
      "BERT编码: 100%|██████████| 1/1 [00:00<00:00, 132.20it/s]\n",
      "BERT编码: 100%|██████████| 1/1 [00:00<00:00, 113.57it/s]\n"
     ]
    },
    {
     "name": "stdout",
     "output_type": "stream",
     "text": [
      "从缓存加载BERT嵌入...\n"
     ]
    },
    {
     "name": "stderr",
     "output_type": "stream",
     "text": [
      "BERT编码: 100%|██████████| 1/1 [00:00<00:00, 134.57it/s]\n",
      "BERT编码: 100%|██████████| 1/1 [00:00<00:00, 103.31it/s]\n",
      "BERT编码: 100%|██████████| 1/1 [00:00<00:00, 99.25it/s]\n",
      "BERT编码: 100%|██████████| 1/1 [00:00<00:00, 160.36it/s]\n",
      "BERT编码: 100%|██████████| 1/1 [00:00<00:00, 109.18it/s]\n",
      "BERT编码: 100%|██████████| 1/1 [00:00<00:00, 110.02it/s]\n",
      "BERT编码: 100%|██████████| 1/1 [00:00<00:00, 120.56it/s]\n",
      "BERT编码: 100%|██████████| 1/1 [00:00<00:00, 122.73it/s]\n",
      "BERT编码: 100%|██████████| 1/1 [00:00<00:00, 127.57it/s]\n",
      "BERT编码: 100%|██████████| 1/1 [00:00<00:00, 148.87it/s]\n",
      "BERT编码: 100%|██████████| 1/1 [00:00<00:00, 96.51it/s]\n",
      "BERT编码: 100%|██████████| 1/1 [00:00<00:00, 131.03it/s]\n",
      "BERT编码: 100%|██████████| 1/1 [00:00<00:00, 93.06it/s]\n",
      "BERT编码: 100%|██████████| 1/1 [00:00<00:00, 141.85it/s]\n",
      "BERT编码: 100%|██████████| 1/1 [00:00<00:00, 106.06it/s]\n",
      "BERT编码: 100%|██████████| 1/1 [00:00<00:00, 114.81it/s]\n",
      "BERT编码: 100%|██████████| 1/1 [00:00<00:00, 115.90it/s]\n",
      "BERT编码: 100%|██████████| 1/1 [00:00<00:00, 145.12it/s]\n",
      "BERT编码: 100%|██████████| 1/1 [00:00<00:00, 92.37it/s]\n"
     ]
    },
    {
     "name": "stdout",
     "output_type": "stream",
     "text": [
      "从缓存加载BERT嵌入...\n"
     ]
    },
    {
     "name": "stderr",
     "output_type": "stream",
     "text": [
      "BERT编码: 100%|██████████| 1/1 [00:00<00:00, 137.19it/s]\n",
      "BERT编码: 100%|██████████| 1/1 [00:00<00:00, 11.20it/s]\n",
      "BERT编码: 100%|██████████| 1/1 [00:00<00:00, 90.49it/s]\n",
      "BERT编码: 100%|██████████| 1/1 [00:00<00:00, 135.63it/s]\n",
      "BERT编码: 100%|██████████| 1/1 [00:00<00:00, 61.51it/s]\n",
      "BERT编码: 100%|██████████| 1/1 [00:00<00:00, 123.75it/s]\n",
      "BERT编码: 100%|██████████| 1/1 [00:00<00:00, 110.53it/s]\n",
      "BERT编码: 100%|██████████| 1/1 [00:00<00:00, 160.38it/s]\n",
      "BERT编码: 100%|██████████| 1/1 [00:00<00:00, 129.67it/s]\n",
      "BERT编码: 100%|██████████| 1/1 [00:00<00:00, 113.80it/s]\n"
     ]
    },
    {
     "name": "stdout",
     "output_type": "stream",
     "text": [
      "从缓存加载BERT嵌入...\n",
      "从缓存加载BERT嵌入...\n"
     ]
    },
    {
     "name": "stderr",
     "output_type": "stream",
     "text": [
      "BERT编码: 100%|██████████| 1/1 [00:00<00:00, 157.48it/s]\n",
      "BERT编码: 100%|██████████| 1/1 [00:00<00:00, 116.63it/s]\n",
      "BERT编码: 100%|██████████| 1/1 [00:00<00:00, 116.65it/s]\n"
     ]
    },
    {
     "name": "stdout",
     "output_type": "stream",
     "text": [
      "从缓存加载BERT嵌入...\n"
     ]
    },
    {
     "name": "stderr",
     "output_type": "stream",
     "text": [
      "BERT编码: 100%|██████████| 1/1 [00:00<00:00, 130.83it/s]\n",
      "BERT编码: 100%|██████████| 1/1 [00:00<00:00, 118.11it/s]\n",
      "BERT编码: 100%|██████████| 1/1 [00:00<00:00, 135.12it/s]\n",
      "BERT编码: 100%|██████████| 1/1 [00:00<00:00, 146.03it/s]\n",
      "BERT编码: 100%|██████████| 1/1 [00:00<00:00, 93.56it/s]\n",
      "BERT编码: 100%|██████████| 1/1 [00:00<00:00, 142.31it/s]\n",
      "BERT编码: 100%|██████████| 1/1 [00:00<00:00, 94.36it/s]\n",
      "BERT编码: 100%|██████████| 1/1 [00:00<00:00, 135.91it/s]\n",
      "BERT编码: 100%|██████████| 1/1 [00:00<00:00, 107.96it/s]\n",
      "BERT编码: 100%|██████████| 1/1 [00:00<00:00, 131.92it/s]\n",
      "BERT编码: 100%|██████████| 1/1 [00:00<00:00, 133.06it/s]\n",
      "BERT编码: 100%|██████████| 1/1 [00:00<00:00, 139.92it/s]\n",
      "BERT编码: 100%|██████████| 1/1 [00:00<00:00, 93.50it/s]\n",
      "BERT编码: 100%|██████████| 1/1 [00:00<00:00, 113.22it/s]\n",
      "BERT编码: 100%|██████████| 1/1 [00:00<00:00, 133.56it/s]\n",
      "BERT编码: 100%|██████████| 1/1 [00:00<00:00, 116.75it/s]\n",
      "BERT编码: 100%|██████████| 1/1 [00:00<00:00, 123.96it/s]\n",
      "BERT编码: 100%|██████████| 1/1 [00:00<00:00, 97.68it/s]\n",
      "BERT编码: 100%|██████████| 1/1 [00:00<00:00, 143.74it/s]\n",
      "BERT编码: 100%|██████████| 1/1 [00:00<00:00, 98.72it/s]\n"
     ]
    },
    {
     "name": "stdout",
     "output_type": "stream",
     "text": [
      "从缓存加载BERT嵌入...\n",
      "从缓存加载BERT嵌入...\n"
     ]
    },
    {
     "name": "stderr",
     "output_type": "stream",
     "text": [
      "BERT编码: 100%|██████████| 1/1 [00:00<00:00, 138.28it/s]\n",
      "BERT编码: 100%|██████████| 1/1 [00:00<00:00, 99.33it/s]\n",
      "BERT编码: 100%|██████████| 1/1 [00:00<00:00, 110.93it/s]\n",
      "BERT编码: 100%|██████████| 1/1 [00:00<00:00, 145.35it/s]\n",
      "BERT编码: 100%|██████████| 1/1 [00:00<00:00, 102.93it/s]\n",
      "BERT编码: 100%|██████████| 1/1 [00:00<00:00, 137.63it/s]\n",
      "BERT编码: 100%|██████████| 1/1 [00:00<00:00, 113.26it/s]\n"
     ]
    },
    {
     "name": "stdout",
     "output_type": "stream",
     "text": [
      "从缓存加载BERT嵌入...\n"
     ]
    },
    {
     "name": "stderr",
     "output_type": "stream",
     "text": [
      "BERT编码: 100%|██████████| 1/1 [00:00<00:00, 117.49it/s]\n",
      "BERT编码: 100%|██████████| 1/1 [00:00<00:00, 63.44it/s]\n",
      "BERT编码: 100%|██████████| 1/1 [00:00<00:00, 109.12it/s]\n",
      "BERT编码: 100%|██████████| 1/1 [00:00<00:00, 77.56it/s]\n",
      "BERT编码: 100%|██████████| 1/1 [00:00<00:00, 81.36it/s]\n",
      "BERT编码: 100%|██████████| 1/1 [00:00<00:00, 101.96it/s]\n",
      "BERT编码: 100%|██████████| 1/1 [00:00<00:00, 93.83it/s]\n",
      "BERT编码: 100%|██████████| 1/1 [00:00<00:00, 138.73it/s]\n",
      "BERT编码: 100%|██████████| 1/1 [00:00<00:00, 109.62it/s]\n",
      "BERT编码: 100%|██████████| 1/1 [00:00<00:00, 98.64it/s]\n",
      "BERT编码: 100%|██████████| 1/1 [00:00<00:00, 95.35it/s]\n",
      "BERT编码: 100%|██████████| 1/1 [00:00<00:00, 124.55it/s]\n",
      "BERT编码: 100%|██████████| 1/1 [00:00<00:00, 103.46it/s]\n"
     ]
    },
    {
     "name": "stdout",
     "output_type": "stream",
     "text": [
      "从缓存加载BERT嵌入...\n"
     ]
    },
    {
     "name": "stderr",
     "output_type": "stream",
     "text": [
      "BERT编码: 100%|██████████| 1/1 [00:00<00:00, 79.47it/s]\n",
      "BERT编码: 100%|██████████| 1/1 [00:00<00:00, 97.48it/s]\n",
      "BERT编码: 100%|██████████| 1/1 [00:00<00:00, 105.09it/s]\n",
      "BERT编码: 100%|██████████| 1/1 [00:00<00:00, 118.61it/s]\n",
      "BERT编码: 100%|██████████| 1/1 [00:00<00:00, 95.33it/s]\n",
      "BERT编码: 100%|██████████| 1/1 [00:00<00:00, 129.67it/s]\n",
      "BERT编码: 100%|██████████| 1/1 [00:00<00:00, 82.80it/s]\n",
      "BERT编码: 100%|██████████| 1/1 [00:00<00:00, 108.16it/s]\n",
      "BERT编码: 100%|██████████| 1/1 [00:00<00:00, 108.44it/s]\n",
      "BERT编码: 100%|██████████| 1/1 [00:00<00:00, 101.33it/s]\n",
      "BERT编码: 100%|██████████| 1/1 [00:00<00:00, 111.96it/s]\n",
      "BERT编码: 100%|██████████| 1/1 [00:00<00:00, 125.68it/s]\n",
      "BERT编码: 100%|██████████| 1/1 [00:00<00:00, 105.55it/s]\n",
      "BERT编码: 100%|██████████| 1/1 [00:00<00:00, 123.62it/s]\n",
      "BERT编码: 100%|██████████| 1/1 [00:00<00:00, 147.75it/s]\n",
      "BERT编码: 100%|██████████| 1/1 [00:00<00:00, 114.09it/s]\n",
      "BERT编码: 100%|██████████| 1/1 [00:00<00:00, 122.70it/s]\n",
      "BERT编码: 100%|██████████| 1/1 [00:00<00:00, 135.02it/s]\n",
      "BERT编码: 100%|██████████| 1/1 [00:00<00:00, 102.28it/s]\n",
      "BERT编码: 100%|██████████| 1/1 [00:00<00:00, 135.43it/s]\n",
      "BERT编码: 100%|██████████| 1/1 [00:00<00:00, 117.60it/s]\n",
      "BERT编码: 100%|██████████| 1/1 [00:00<00:00, 139.26it/s]\n",
      "BERT编码: 100%|██████████| 1/1 [00:00<00:00, 85.43it/s]\n",
      "BERT编码: 100%|██████████| 1/1 [00:00<00:00, 51.56it/s]\n",
      "BERT编码: 100%|██████████| 1/1 [00:00<00:00, 112.87it/s]\n",
      "BERT编码: 100%|██████████| 1/1 [00:00<00:00, 130.48it/s]\n",
      "BERT编码: 100%|██████████| 1/1 [00:00<00:00, 133.89it/s]\n"
     ]
    },
    {
     "name": "stdout",
     "output_type": "stream",
     "text": [
      "从缓存加载BERT嵌入...\n"
     ]
    },
    {
     "name": "stderr",
     "output_type": "stream",
     "text": [
      "BERT编码: 100%|██████████| 1/1 [00:00<00:00, 142.88it/s]\n",
      "BERT编码: 100%|██████████| 1/1 [00:00<00:00, 129.49it/s]\n",
      "BERT编码: 100%|██████████| 1/1 [00:00<00:00, 75.97it/s]\n",
      "BERT编码: 100%|██████████| 1/1 [00:00<00:00, 124.77it/s]\n",
      "BERT编码: 100%|██████████| 1/1 [00:00<00:00, 121.27it/s]\n",
      "BERT编码: 100%|██████████| 1/1 [00:00<00:00, 90.16it/s]\n",
      "BERT编码: 100%|██████████| 1/1 [00:00<00:00, 143.12it/s]\n",
      "BERT编码: 100%|██████████| 1/1 [00:00<00:00, 115.76it/s]\n",
      "BERT编码: 100%|██████████| 1/1 [00:00<00:00, 111.32it/s]\n",
      "BERT编码: 100%|██████████| 1/1 [00:00<00:00, 100.20it/s]\n",
      "BERT编码: 100%|██████████| 1/1 [00:00<00:00, 145.96it/s]\n",
      "BERT编码: 100%|██████████| 1/1 [00:00<00:00, 95.25it/s]\n",
      "BERT编码: 100%|██████████| 1/1 [00:00<00:00, 108.39it/s]\n",
      "BERT编码: 100%|██████████| 1/1 [00:00<00:00, 150.33it/s]\n",
      "BERT编码: 100%|██████████| 1/1 [00:00<00:00, 42.88it/s]\n",
      "BERT编码: 100%|██████████| 1/1 [00:00<00:00, 96.29it/s]\n",
      "BERT编码: 100%|██████████| 1/1 [00:00<00:00, 115.31it/s]\n",
      "BERT编码: 100%|██████████| 1/1 [00:00<00:00, 110.19it/s]\n",
      "BERT编码: 100%|██████████| 1/1 [00:00<00:00, 88.16it/s]\n",
      "BERT编码: 100%|██████████| 1/1 [00:00<00:00, 89.10it/s]\n",
      "BERT编码: 100%|██████████| 1/1 [00:00<00:00, 119.45it/s]\n"
     ]
    },
    {
     "name": "stdout",
     "output_type": "stream",
     "text": [
      "从缓存加载BERT嵌入...\n"
     ]
    },
    {
     "name": "stderr",
     "output_type": "stream",
     "text": [
      "BERT编码: 100%|██████████| 1/1 [00:00<00:00, 94.81it/s]\n",
      "BERT编码: 100%|██████████| 1/1 [00:00<00:00, 91.94it/s]\n",
      "BERT编码: 100%|██████████| 1/1 [00:00<00:00, 84.28it/s]\n",
      "BERT编码: 100%|██████████| 1/1 [00:00<00:00, 96.24it/s]\n",
      "BERT编码: 100%|██████████| 1/1 [00:00<00:00, 90.29it/s]\n"
     ]
    },
    {
     "name": "stdout",
     "output_type": "stream",
     "text": [
      "从缓存加载BERT嵌入...\n"
     ]
    },
    {
     "name": "stderr",
     "output_type": "stream",
     "text": [
      "BERT编码: 100%|██████████| 1/1 [00:00<00:00, 102.05it/s]\n",
      "BERT编码: 100%|██████████| 1/1 [00:00<00:00, 64.87it/s]\n",
      "BERT编码: 100%|██████████| 1/1 [00:00<00:00, 115.82it/s]\n",
      "BERT编码: 100%|██████████| 1/1 [00:00<00:00, 93.81it/s]\n",
      "BERT编码: 100%|██████████| 1/1 [00:00<00:00, 104.67it/s]\n",
      "BERT编码: 100%|██████████| 1/1 [00:00<00:00, 107.48it/s]\n",
      "BERT编码: 100%|██████████| 1/1 [00:00<00:00, 114.79it/s]\n",
      "BERT编码: 100%|██████████| 1/1 [00:00<00:00, 103.90it/s]\n",
      "BERT编码: 100%|██████████| 1/1 [00:00<00:00, 91.52it/s]\n",
      "BERT编码: 100%|██████████| 1/1 [00:00<00:00, 113.79it/s]\n",
      "BERT编码: 100%|██████████| 1/1 [00:00<00:00, 105.05it/s]\n"
     ]
    },
    {
     "name": "stdout",
     "output_type": "stream",
     "text": [
      "从缓存加载BERT嵌入...\n"
     ]
    },
    {
     "name": "stderr",
     "output_type": "stream",
     "text": [
      "BERT编码: 100%|██████████| 1/1 [00:00<00:00, 106.16it/s]\n"
     ]
    },
    {
     "name": "stdout",
     "output_type": "stream",
     "text": [
      "从缓存加载BERT嵌入...\n"
     ]
    },
    {
     "name": "stderr",
     "output_type": "stream",
     "text": [
      "BERT编码: 100%|██████████| 1/1 [00:00<00:00, 92.94it/s]\n",
      "BERT编码: 100%|██████████| 1/1 [00:00<00:00, 95.90it/s]\n",
      "BERT编码: 100%|██████████| 1/1 [00:00<00:00, 102.93it/s]\n",
      "BERT编码: 100%|██████████| 1/1 [00:00<00:00, 117.40it/s]\n",
      "BERT编码: 100%|██████████| 1/1 [00:00<00:00, 94.31it/s]\n",
      "BERT编码: 100%|██████████| 1/1 [00:00<00:00, 100.14it/s]\n",
      "BERT编码: 100%|██████████| 1/1 [00:00<00:00, 98.49it/s]\n"
     ]
    },
    {
     "name": "stdout",
     "output_type": "stream",
     "text": [
      "从缓存加载BERT嵌入...\n"
     ]
    },
    {
     "name": "stderr",
     "output_type": "stream",
     "text": [
      "BERT编码: 100%|██████████| 1/1 [00:00<00:00, 114.25it/s]\n",
      "BERT编码: 100%|██████████| 1/1 [00:00<00:00, 76.80it/s]\n",
      "BERT编码: 100%|██████████| 1/1 [00:00<00:00, 77.38it/s]\n",
      "BERT编码: 100%|██████████| 1/1 [00:00<00:00, 92.20it/s]\n",
      "BERT编码: 100%|██████████| 1/1 [00:00<00:00, 109.01it/s]\n",
      "BERT编码: 100%|██████████| 1/1 [00:00<00:00, 106.96it/s]\n",
      "BERT编码: 100%|██████████| 1/1 [00:00<00:00, 106.95it/s]\n",
      "BERT编码: 100%|██████████| 1/1 [00:00<00:00, 96.76it/s]\n",
      "BERT编码: 100%|██████████| 1/1 [00:00<00:00, 85.09it/s]\n",
      "BERT编码: 100%|██████████| 1/1 [00:00<00:00, 92.34it/s]\n",
      "BERT编码: 100%|██████████| 1/1 [00:00<00:00, 141.77it/s]\n",
      "BERT编码: 100%|██████████| 1/1 [00:00<00:00, 95.12it/s]\n",
      "BERT编码: 100%|██████████| 1/1 [00:00<00:00, 92.88it/s]\n"
     ]
    },
    {
     "name": "stdout",
     "output_type": "stream",
     "text": [
      "从缓存加载BERT嵌入...\n"
     ]
    },
    {
     "name": "stderr",
     "output_type": "stream",
     "text": [
      "BERT编码: 100%|██████████| 1/1 [00:00<00:00, 91.42it/s]\n"
     ]
    },
    {
     "name": "stdout",
     "output_type": "stream",
     "text": [
      "从缓存加载BERT嵌入...\n"
     ]
    },
    {
     "name": "stderr",
     "output_type": "stream",
     "text": [
      "BERT编码: 100%|██████████| 1/1 [00:00<00:00, 96.66it/s]\n",
      "BERT编码: 100%|██████████| 1/1 [00:00<00:00, 79.80it/s]\n",
      "BERT编码: 100%|██████████| 1/1 [00:00<00:00, 117.37it/s]\n",
      "BERT编码: 100%|██████████| 1/1 [00:00<00:00, 74.10it/s]\n",
      "BERT编码: 100%|██████████| 1/1 [00:00<00:00, 89.24it/s]\n",
      "BERT编码: 100%|██████████| 1/1 [00:00<00:00, 81.53it/s]\n",
      "BERT编码: 100%|██████████| 1/1 [00:00<00:00, 92.93it/s]\n",
      "BERT编码: 100%|██████████| 1/1 [00:00<00:00, 102.02it/s]\n",
      "BERT编码: 100%|██████████| 1/1 [00:00<00:00, 110.29it/s]\n",
      "BERT编码: 100%|██████████| 1/1 [00:00<00:00, 101.90it/s]\n",
      "BERT编码: 100%|██████████| 1/1 [00:00<00:00, 97.03it/s]\n",
      "BERT编码: 100%|██████████| 1/1 [00:00<00:00, 117.83it/s]\n",
      "BERT编码: 100%|██████████| 1/1 [00:00<00:00, 110.78it/s]\n"
     ]
    },
    {
     "name": "stdout",
     "output_type": "stream",
     "text": [
      "从缓存加载BERT嵌入...\n"
     ]
    },
    {
     "name": "stderr",
     "output_type": "stream",
     "text": [
      "BERT编码: 100%|██████████| 1/1 [00:00<00:00, 100.09it/s]\n",
      "BERT编码: 100%|██████████| 1/1 [00:00<00:00, 133.00it/s]\n",
      "BERT编码: 100%|██████████| 1/1 [00:00<00:00, 101.30it/s]\n",
      "BERT编码: 100%|██████████| 1/1 [00:00<00:00, 113.23it/s]\n",
      "BERT编码: 100%|██████████| 1/1 [00:00<00:00, 113.48it/s]\n"
     ]
    },
    {
     "name": "stdout",
     "output_type": "stream",
     "text": [
      "从缓存加载BERT嵌入...\n"
     ]
    },
    {
     "name": "stderr",
     "output_type": "stream",
     "text": [
      "BERT编码: 100%|██████████| 1/1 [00:00<00:00, 128.87it/s]\n",
      "BERT编码: 100%|██████████| 1/1 [00:00<00:00, 120.44it/s]\n",
      "BERT编码: 100%|██████████| 1/1 [00:00<00:00, 108.15it/s]\n",
      "BERT编码: 100%|██████████| 1/1 [00:00<00:00, 127.07it/s]\n",
      "BERT编码: 100%|██████████| 1/1 [00:00<00:00, 104.35it/s]\n",
      "BERT编码: 100%|██████████| 1/1 [00:00<00:00, 116.70it/s]\n",
      "BERT编码: 100%|██████████| 1/1 [00:00<00:00, 100.56it/s]\n",
      "BERT编码: 100%|██████████| 1/1 [00:00<00:00, 109.71it/s]\n",
      "BERT编码: 100%|██████████| 1/1 [00:00<00:00, 130.98it/s]\n",
      "BERT编码: 100%|██████████| 1/1 [00:00<00:00, 103.48it/s]\n",
      "BERT编码: 100%|██████████| 1/1 [00:00<00:00, 111.42it/s]\n",
      "BERT编码: 100%|██████████| 1/1 [00:00<00:00, 112.47it/s]\n",
      "BERT编码: 100%|██████████| 1/1 [00:00<00:00, 123.55it/s]\n",
      "BERT编码: 100%|██████████| 1/1 [00:00<00:00, 99.50it/s]\n",
      "BERT编码: 100%|██████████| 1/1 [00:00<00:00, 116.35it/s]\n",
      "BERT编码: 100%|██████████| 1/1 [00:00<00:00, 116.69it/s]\n",
      "BERT编码: 100%|██████████| 1/1 [00:00<00:00, 127.81it/s]\n",
      "BERT编码: 100%|██████████| 1/1 [00:00<00:00, 99.80it/s]\n"
     ]
    },
    {
     "name": "stdout",
     "output_type": "stream",
     "text": [
      "从缓存加载BERT嵌入...\n",
      "从缓存加载BERT嵌入...\n"
     ]
    },
    {
     "name": "stderr",
     "output_type": "stream",
     "text": [
      "BERT编码: 100%|██████████| 1/1 [00:00<00:00, 95.34it/s]\n",
      "BERT编码: 100%|██████████| 1/1 [00:00<00:00, 110.35it/s]\n",
      "BERT编码: 100%|██████████| 1/1 [00:00<00:00, 140.28it/s]\n"
     ]
    },
    {
     "name": "stdout",
     "output_type": "stream",
     "text": [
      "从缓存加载BERT嵌入...\n"
     ]
    },
    {
     "name": "stderr",
     "output_type": "stream",
     "text": [
      "BERT编码: 100%|██████████| 1/1 [00:00<00:00, 87.79it/s]\n",
      "BERT编码: 100%|██████████| 1/1 [00:00<00:00, 99.86it/s]\n",
      "BERT编码: 100%|██████████| 1/1 [00:00<00:00, 143.99it/s]\n",
      "BERT编码: 100%|██████████| 1/1 [00:00<00:00, 101.78it/s]\n",
      "BERT编码: 100%|██████████| 1/1 [00:00<00:00, 123.03it/s]\n"
     ]
    },
    {
     "name": "stdout",
     "output_type": "stream",
     "text": [
      "从缓存加载BERT嵌入...\n"
     ]
    },
    {
     "name": "stderr",
     "output_type": "stream",
     "text": [
      "BERT编码: 100%|██████████| 1/1 [00:00<00:00, 125.61it/s]\n",
      "BERT编码: 100%|██████████| 1/1 [00:00<00:00, 104.73it/s]\n",
      "BERT编码: 100%|██████████| 1/1 [00:00<00:00, 89.77it/s]\n",
      "BERT编码: 100%|██████████| 1/1 [00:00<00:00, 117.07it/s]\n",
      "BERT编码: 100%|██████████| 1/1 [00:00<00:00, 119.93it/s]\n",
      "BERT编码: 100%|██████████| 1/1 [00:00<00:00, 101.47it/s]\n",
      "BERT编码: 100%|██████████| 1/1 [00:00<00:00, 114.81it/s]\n",
      "BERT编码: 100%|██████████| 1/1 [00:00<00:00, 136.84it/s]\n",
      "BERT编码: 100%|██████████| 1/1 [00:00<00:00, 126.41it/s]\n",
      "BERT编码: 100%|██████████| 1/1 [00:00<00:00, 126.78it/s]\n"
     ]
    },
    {
     "name": "stdout",
     "output_type": "stream",
     "text": [
      "从缓存加载BERT嵌入...\n",
      "从缓存加载BERT嵌入...\n"
     ]
    },
    {
     "name": "stderr",
     "output_type": "stream",
     "text": [
      "BERT编码: 100%|██████████| 1/1 [00:00<00:00, 149.03it/s]\n",
      "BERT编码: 100%|██████████| 1/1 [00:00<00:00, 115.01it/s]\n",
      "BERT编码: 100%|██████████| 1/1 [00:00<00:00, 128.69it/s]\n",
      "BERT编码: 100%|██████████| 1/1 [00:00<00:00, 153.37it/s]\n",
      "BERT编码: 100%|██████████| 1/1 [00:00<00:00, 157.46it/s]\n"
     ]
    },
    {
     "name": "stdout",
     "output_type": "stream",
     "text": [
      "从缓存加载BERT嵌入...\n"
     ]
    },
    {
     "name": "stderr",
     "output_type": "stream",
     "text": [
      "BERT编码: 100%|██████████| 1/1 [00:00<00:00, 100.14it/s]\n"
     ]
    },
    {
     "name": "stdout",
     "output_type": "stream",
     "text": [
      "从缓存加载BERT嵌入...\n"
     ]
    },
    {
     "name": "stderr",
     "output_type": "stream",
     "text": [
      "BERT编码: 100%|██████████| 1/1 [00:00<00:00, 123.21it/s]\n",
      "BERT编码: 100%|██████████| 1/1 [00:00<00:00, 132.19it/s]\n",
      "BERT编码: 100%|██████████| 1/1 [00:00<00:00, 105.37it/s]\n"
     ]
    },
    {
     "name": "stdout",
     "output_type": "stream",
     "text": [
      "从缓存加载BERT嵌入...\n"
     ]
    },
    {
     "name": "stderr",
     "output_type": "stream",
     "text": [
      "BERT编码: 100%|██████████| 1/1 [00:00<00:00, 120.38it/s]\n"
     ]
    },
    {
     "name": "stdout",
     "output_type": "stream",
     "text": [
      "从缓存加载BERT嵌入...\n"
     ]
    },
    {
     "name": "stderr",
     "output_type": "stream",
     "text": [
      "BERT编码: 100%|██████████| 1/1 [00:00<00:00, 126.90it/s]\n"
     ]
    },
    {
     "name": "stdout",
     "output_type": "stream",
     "text": [
      "从缓存加载BERT嵌入...\n"
     ]
    },
    {
     "name": "stderr",
     "output_type": "stream",
     "text": [
      "BERT编码: 100%|██████████| 1/1 [00:00<00:00, 78.65it/s]\n",
      "BERT编码: 100%|██████████| 1/1 [00:00<00:00, 110.50it/s]\n",
      "BERT编码: 100%|██████████| 1/1 [00:00<00:00, 120.37it/s]\n",
      "BERT编码: 100%|██████████| 1/1 [00:00<00:00, 89.66it/s]\n",
      "BERT编码: 100%|██████████| 1/1 [00:00<00:00, 157.70it/s]\n",
      "BERT编码: 100%|██████████| 1/1 [00:00<00:00, 111.37it/s]\n",
      "BERT编码: 100%|██████████| 1/1 [00:00<00:00, 145.99it/s]\n",
      "BERT编码: 100%|██████████| 1/1 [00:00<00:00, 105.76it/s]\n",
      "BERT编码: 100%|██████████| 1/1 [00:00<00:00, 124.86it/s]\n",
      "BERT编码: 100%|██████████| 1/1 [00:00<00:00, 87.82it/s]\n",
      "BERT编码: 100%|██████████| 1/1 [00:00<00:00, 109.37it/s]\n",
      "BERT编码: 100%|██████████| 1/1 [00:00<00:00, 131.13it/s]\n",
      "BERT编码: 100%|██████████| 1/1 [00:00<00:00, 70.75it/s]\n",
      "BERT编码: 100%|██████████| 1/1 [00:00<00:00, 144.91it/s]\n",
      "BERT编码: 100%|██████████| 1/1 [00:00<00:00, 104.21it/s]\n",
      "BERT编码: 100%|██████████| 1/1 [00:00<00:00, 141.18it/s]\n",
      "BERT编码: 100%|██████████| 1/1 [00:00<00:00, 102.46it/s]\n",
      "BERT编码: 100%|██████████| 1/1 [00:00<00:00, 105.02it/s]\n",
      "BERT编码: 100%|██████████| 1/1 [00:00<00:00, 123.05it/s]\n",
      "BERT编码: 100%|██████████| 1/1 [00:00<00:00, 105.71it/s]\n",
      "BERT编码: 100%|██████████| 1/1 [00:00<00:00, 90.34it/s]\n"
     ]
    },
    {
     "name": "stdout",
     "output_type": "stream",
     "text": [
      "从缓存加载BERT嵌入...\n"
     ]
    },
    {
     "name": "stderr",
     "output_type": "stream",
     "text": [
      "BERT编码: 100%|██████████| 1/1 [00:00<00:00, 119.49it/s]\n",
      "BERT编码: 100%|██████████| 1/1 [00:00<00:00, 101.81it/s]\n",
      "BERT编码: 100%|██████████| 1/1 [00:00<00:00, 155.79it/s]\n"
     ]
    },
    {
     "name": "stdout",
     "output_type": "stream",
     "text": [
      "从缓存加载BERT嵌入...\n"
     ]
    },
    {
     "name": "stderr",
     "output_type": "stream",
     "text": [
      "BERT编码: 100%|██████████| 1/1 [00:00<00:00, 117.43it/s]\n"
     ]
    },
    {
     "name": "stdout",
     "output_type": "stream",
     "text": [
      "从缓存加载BERT嵌入...\n"
     ]
    },
    {
     "name": "stderr",
     "output_type": "stream",
     "text": [
      "BERT编码: 100%|██████████| 1/1 [00:00<00:00, 108.90it/s]\n",
      "BERT编码: 100%|██████████| 1/1 [00:00<00:00, 114.50it/s]\n",
      "BERT编码: 100%|██████████| 1/1 [00:00<00:00, 124.55it/s]\n",
      "BERT编码: 100%|██████████| 1/1 [00:00<00:00, 90.98it/s]\n",
      "BERT编码: 100%|██████████| 1/1 [00:00<00:00, 119.36it/s]\n",
      "BERT编码: 100%|██████████| 1/1 [00:00<00:00, 75.93it/s]\n",
      "BERT编码: 100%|██████████| 1/1 [00:00<00:00, 122.70it/s]\n",
      "BERT编码: 100%|██████████| 1/1 [00:00<00:00, 71.96it/s]\n",
      "BERT编码: 100%|██████████| 1/1 [00:00<00:00, 138.66it/s]\n",
      "BERT编码: 100%|██████████| 1/1 [00:00<00:00, 81.98it/s]\n",
      "BERT编码: 100%|██████████| 1/1 [00:00<00:00, 141.78it/s]\n",
      "BERT编码: 100%|██████████| 1/1 [00:00<00:00, 101.86it/s]\n",
      "BERT编码: 100%|██████████| 1/1 [00:00<00:00, 146.54it/s]\n",
      "BERT编码: 100%|██████████| 1/1 [00:00<00:00, 82.05it/s]\n",
      "BERT编码: 100%|██████████| 1/1 [00:00<00:00, 127.34it/s]\n",
      "BERT编码: 100%|██████████| 1/1 [00:00<00:00, 107.63it/s]\n",
      "BERT编码: 100%|██████████| 1/1 [00:00<00:00, 137.38it/s]\n",
      "BERT编码: 100%|██████████| 1/1 [00:00<00:00, 124.55it/s]\n",
      "BERT编码: 100%|██████████| 1/1 [00:00<00:00, 141.46it/s]\n",
      "BERT编码: 100%|██████████| 1/1 [00:00<00:00, 95.48it/s]\n",
      "BERT编码: 100%|██████████| 1/1 [00:00<00:00, 138.72it/s]\n"
     ]
    },
    {
     "name": "stdout",
     "output_type": "stream",
     "text": [
      "从缓存加载BERT嵌入...\n"
     ]
    },
    {
     "name": "stderr",
     "output_type": "stream",
     "text": [
      "BERT编码: 100%|██████████| 1/1 [00:00<00:00, 99.82it/s]\n",
      "BERT编码: 100%|██████████| 1/1 [00:00<00:00, 115.12it/s]\n",
      "BERT编码: 100%|██████████| 1/1 [00:00<00:00, 139.76it/s]\n",
      "BERT编码: 100%|██████████| 1/1 [00:00<00:00, 103.54it/s]\n",
      "BERT编码: 100%|██████████| 1/1 [00:00<00:00, 128.44it/s]\n",
      "BERT编码: 100%|██████████| 1/1 [00:00<00:00, 100.70it/s]\n",
      "BERT编码: 100%|██████████| 1/1 [00:00<00:00, 133.62it/s]\n",
      "BERT编码: 100%|██████████| 1/1 [00:00<00:00, 87.24it/s]\n",
      "BERT编码: 100%|██████████| 1/1 [00:00<00:00, 155.71it/s]\n",
      "BERT编码: 100%|██████████| 1/1 [00:00<00:00, 85.33it/s]\n",
      "BERT编码: 100%|██████████| 1/1 [00:00<00:00, 112.90it/s]\n",
      "BERT编码: 100%|██████████| 1/1 [00:00<00:00, 101.33it/s]\n",
      "BERT编码: 100%|██████████| 1/1 [00:00<00:00, 108.85it/s]\n"
     ]
    },
    {
     "name": "stdout",
     "output_type": "stream",
     "text": [
      "从缓存加载BERT嵌入...\n"
     ]
    },
    {
     "name": "stderr",
     "output_type": "stream",
     "text": [
      "BERT编码: 100%|██████████| 1/1 [00:00<00:00, 131.89it/s]\n",
      "BERT编码: 100%|██████████| 1/1 [00:00<00:00, 94.56it/s]\n",
      "BERT编码: 100%|██████████| 1/1 [00:00<00:00, 111.67it/s]\n",
      "BERT编码: 100%|██████████| 1/1 [00:00<00:00, 125.13it/s]\n",
      "BERT编码: 100%|██████████| 1/1 [00:00<00:00, 94.20it/s]\n",
      "BERT编码: 100%|██████████| 1/1 [00:00<00:00, 127.13it/s]\n",
      "BERT编码: 100%|██████████| 1/1 [00:00<00:00, 135.15it/s]\n",
      "BERT编码: 100%|██████████| 1/1 [00:00<00:00, 148.96it/s]\n",
      "BERT编码: 100%|██████████| 1/1 [00:00<00:00, 99.05it/s]\n",
      "BERT编码: 100%|██████████| 1/1 [00:00<00:00, 153.91it/s]\n",
      "BERT编码: 100%|██████████| 1/1 [00:00<00:00, 117.52it/s]\n"
     ]
    },
    {
     "name": "stdout",
     "output_type": "stream",
     "text": [
      "从缓存加载BERT嵌入...\n"
     ]
    },
    {
     "name": "stderr",
     "output_type": "stream",
     "text": [
      "BERT编码: 100%|██████████| 1/1 [00:00<00:00, 155.64it/s]\n",
      "BERT编码: 100%|██████████| 1/1 [00:00<00:00, 82.54it/s]\n",
      "BERT编码: 100%|██████████| 1/1 [00:00<00:00, 154.25it/s]\n",
      "BERT编码: 100%|██████████| 1/1 [00:00<00:00, 86.96it/s]\n",
      "BERT编码: 100%|██████████| 1/1 [00:00<00:00, 148.97it/s]\n",
      "BERT编码: 100%|██████████| 1/1 [00:00<00:00, 110.72it/s]\n",
      "BERT编码: 100%|██████████| 1/1 [00:00<00:00, 124.44it/s]\n"
     ]
    },
    {
     "name": "stdout",
     "output_type": "stream",
     "text": [
      "从缓存加载BERT嵌入...\n"
     ]
    },
    {
     "name": "stderr",
     "output_type": "stream",
     "text": [
      "BERT编码: 100%|██████████| 1/1 [00:00<00:00, 131.46it/s]\n"
     ]
    },
    {
     "name": "stdout",
     "output_type": "stream",
     "text": [
      "从缓存加载BERT嵌入...\n"
     ]
    },
    {
     "name": "stderr",
     "output_type": "stream",
     "text": [
      "BERT编码: 100%|██████████| 1/1 [00:00<00:00, 95.89it/s]\n"
     ]
    },
    {
     "name": "stdout",
     "output_type": "stream",
     "text": [
      "从缓存加载BERT嵌入...\n"
     ]
    },
    {
     "name": "stderr",
     "output_type": "stream",
     "text": [
      "BERT编码: 100%|██████████| 1/1 [00:00<00:00, 99.04it/s]\n"
     ]
    },
    {
     "name": "stdout",
     "output_type": "stream",
     "text": [
      "从缓存加载BERT嵌入...\n"
     ]
    },
    {
     "name": "stderr",
     "output_type": "stream",
     "text": [
      "BERT编码: 100%|██████████| 1/1 [00:00<00:00, 115.33it/s]\n",
      "BERT编码: 100%|██████████| 1/1 [00:00<00:00, 95.95it/s]\n",
      "BERT编码: 100%|██████████| 1/1 [00:00<00:00, 111.99it/s]\n"
     ]
    },
    {
     "name": "stdout",
     "output_type": "stream",
     "text": [
      "从缓存加载BERT嵌入...\n"
     ]
    },
    {
     "name": "stderr",
     "output_type": "stream",
     "text": [
      "BERT编码: 100%|██████████| 1/1 [00:00<00:00, 121.46it/s]\n"
     ]
    },
    {
     "name": "stdout",
     "output_type": "stream",
     "text": [
      "从缓存加载BERT嵌入...\n"
     ]
    },
    {
     "name": "stderr",
     "output_type": "stream",
     "text": [
      "BERT编码: 100%|██████████| 1/1 [00:00<00:00, 71.68it/s]\n"
     ]
    },
    {
     "name": "stdout",
     "output_type": "stream",
     "text": [
      "从缓存加载BERT嵌入...\n"
     ]
    },
    {
     "name": "stderr",
     "output_type": "stream",
     "text": [
      "BERT编码: 100%|██████████| 1/1 [00:00<00:00, 78.72it/s]\n"
     ]
    },
    {
     "name": "stdout",
     "output_type": "stream",
     "text": [
      "从缓存加载BERT嵌入...\n"
     ]
    },
    {
     "name": "stderr",
     "output_type": "stream",
     "text": [
      "BERT编码: 100%|██████████| 1/1 [00:00<00:00, 125.57it/s]\n",
      "BERT编码: 100%|██████████| 1/1 [00:00<00:00, 112.31it/s]\n",
      "BERT编码: 100%|██████████| 1/1 [00:00<00:00, 122.87it/s]\n",
      "BERT编码: 100%|██████████| 1/1 [00:00<00:00, 144.83it/s]\n",
      "BERT编码: 100%|██████████| 1/1 [00:00<00:00, 124.75it/s]\n",
      "BERT编码: 100%|██████████| 1/1 [00:00<00:00, 114.15it/s]\n",
      "BERT编码: 100%|██████████| 1/1 [00:00<00:00, 143.55it/s]\n",
      "BERT编码: 100%|██████████| 1/1 [00:00<00:00, 127.55it/s]\n",
      "BERT编码: 100%|██████████| 1/1 [00:00<00:00, 102.76it/s]\n",
      "BERT编码: 100%|██████████| 1/1 [00:00<00:00, 131.08it/s]\n",
      "BERT编码: 100%|██████████| 1/1 [00:00<00:00, 87.49it/s]\n",
      "BERT编码: 100%|██████████| 1/1 [00:00<00:00, 116.20it/s]\n",
      "BERT编码: 100%|██████████| 1/1 [00:00<00:00, 136.65it/s]\n",
      "BERT编码: 100%|██████████| 1/1 [00:00<00:00, 99.21it/s]\n",
      "BERT编码: 100%|██████████| 1/1 [00:00<00:00, 91.87it/s]\n",
      "BERT编码: 100%|██████████| 1/1 [00:00<00:00, 124.94it/s]\n",
      "BERT编码: 100%|██████████| 1/1 [00:00<00:00, 79.99it/s]\n",
      "BERT编码: 100%|██████████| 1/1 [00:00<00:00, 100.01it/s]\n",
      "BERT编码: 100%|██████████| 1/1 [00:00<00:00, 106.61it/s]\n",
      "BERT编码: 100%|██████████| 1/1 [00:00<00:00, 126.84it/s]\n",
      "BERT编码: 100%|██████████| 1/1 [00:00<00:00, 98.68it/s]\n",
      "BERT编码: 100%|██████████| 1/1 [00:00<00:00, 157.56it/s]\n",
      "BERT编码: 100%|██████████| 1/1 [00:00<00:00, 102.68it/s]\n",
      "BERT编码: 100%|██████████| 1/1 [00:00<00:00, 115.90it/s]\n",
      "BERT编码: 100%|██████████| 1/1 [00:00<00:00, 114.05it/s]\n"
     ]
    },
    {
     "name": "stdout",
     "output_type": "stream",
     "text": [
      "从缓存加载BERT嵌入...\n"
     ]
    },
    {
     "name": "stderr",
     "output_type": "stream",
     "text": [
      "BERT编码: 100%|██████████| 1/1 [00:00<00:00, 144.18it/s]\n",
      "BERT编码: 100%|██████████| 1/1 [00:00<00:00, 84.88it/s]\n",
      "BERT编码: 100%|██████████| 1/1 [00:00<00:00, 149.88it/s]\n",
      "BERT编码: 100%|██████████| 1/1 [00:00<00:00, 100.65it/s]\n",
      "BERT编码: 100%|██████████| 1/1 [00:00<00:00, 133.73it/s]\n",
      "BERT编码: 100%|██████████| 1/1 [00:00<00:00, 96.92it/s]\n",
      "BERT编码: 100%|██████████| 1/1 [00:00<00:00, 118.33it/s]\n",
      "BERT编码: 100%|██████████| 1/1 [00:00<00:00, 135.54it/s]\n",
      "BERT编码: 100%|██████████| 1/1 [00:00<00:00, 94.51it/s]\n",
      "BERT编码: 100%|██████████| 1/1 [00:00<00:00, 125.86it/s]\n",
      "BERT编码: 100%|██████████| 1/1 [00:00<00:00, 100.59it/s]\n",
      "BERT编码: 100%|██████████| 1/1 [00:00<00:00,  7.66it/s]\n"
     ]
    },
    {
     "name": "stdout",
     "output_type": "stream",
     "text": [
      "从缓存加载BERT嵌入...\n",
      "从缓存加载BERT嵌入...\n"
     ]
    },
    {
     "name": "stderr",
     "output_type": "stream",
     "text": [
      "BERT编码: 100%|██████████| 1/1 [00:00<00:00, 38.49it/s]\n",
      "BERT编码: 100%|██████████| 1/1 [00:00<00:00, 142.88it/s]\n",
      "BERT编码: 100%|██████████| 1/1 [00:00<00:00, 84.42it/s]\n",
      "BERT编码: 100%|██████████| 1/1 [00:00<00:00, 118.28it/s]\n",
      "BERT编码: 100%|██████████| 1/1 [00:00<00:00, 115.86it/s]\n",
      "BERT编码: 100%|██████████| 1/1 [00:00<00:00, 162.68it/s]\n",
      "BERT编码: 100%|██████████| 1/1 [00:00<00:00, 103.80it/s]\n",
      "BERT编码: 100%|██████████| 1/1 [00:00<00:00, 142.96it/s]\n",
      "BERT编码: 100%|██████████| 1/1 [00:00<00:00, 97.78it/s]\n",
      "BERT编码: 100%|██████████| 1/1 [00:00<00:00, 136.44it/s]\n",
      "BERT编码: 100%|██████████| 1/1 [00:00<00:00, 100.40it/s]\n",
      "BERT编码: 100%|██████████| 1/1 [00:00<00:00, 124.32it/s]\n",
      "BERT编码: 100%|██████████| 1/1 [00:00<00:00, 121.87it/s]\n"
     ]
    },
    {
     "name": "stdout",
     "output_type": "stream",
     "text": [
      "从缓存加载BERT嵌入...\n"
     ]
    },
    {
     "name": "stderr",
     "output_type": "stream",
     "text": [
      "BERT编码: 100%|██████████| 1/1 [00:00<00:00, 82.94it/s]\n",
      "BERT编码: 100%|██████████| 1/1 [00:00<00:00, 99.88it/s]\n",
      "BERT编码: 100%|██████████| 1/1 [00:00<00:00, 78.02it/s]\n",
      "BERT编码: 100%|██████████| 1/1 [00:00<00:00, 110.59it/s]\n",
      "BERT编码: 100%|██████████| 1/1 [00:00<00:00, 112.94it/s]\n",
      "BERT编码: 100%|██████████| 1/1 [00:00<00:00, 143.60it/s]\n",
      "BERT编码: 100%|██████████| 1/1 [00:00<00:00, 111.76it/s]\n",
      "BERT编码: 100%|██████████| 1/1 [00:00<00:00, 129.44it/s]\n",
      "BERT编码: 100%|██████████| 1/1 [00:00<00:00, 83.42it/s]\n",
      "BERT编码: 100%|██████████| 1/1 [00:00<00:00, 129.47it/s]\n",
      "BERT编码: 100%|██████████| 1/1 [00:00<00:00, 105.47it/s]\n",
      "BERT编码: 100%|██████████| 1/1 [00:00<00:00, 150.05it/s]\n",
      "BERT编码: 100%|██████████| 1/1 [00:00<00:00, 89.85it/s]\n",
      "BERT编码: 100%|██████████| 1/1 [00:00<00:00, 163.10it/s]\n",
      "BERT编码: 100%|██████████| 1/1 [00:00<00:00, 97.13it/s]\n",
      "BERT编码: 100%|██████████| 1/1 [00:00<00:00, 160.31it/s]\n",
      "BERT编码: 100%|██████████| 1/1 [00:00<00:00, 80.55it/s]\n",
      "BERT编码: 100%|██████████| 1/1 [00:00<00:00, 132.38it/s]\n",
      "BERT编码: 100%|██████████| 1/1 [00:00<00:00, 94.18it/s]\n"
     ]
    },
    {
     "name": "stdout",
     "output_type": "stream",
     "text": [
      "从缓存加载BERT嵌入...\n"
     ]
    },
    {
     "name": "stderr",
     "output_type": "stream",
     "text": [
      "BERT编码: 100%|██████████| 1/1 [00:00<00:00, 153.37it/s]\n",
      "BERT编码: 100%|██████████| 1/1 [00:00<00:00, 79.54it/s]\n",
      "BERT编码: 100%|██████████| 1/1 [00:00<00:00, 137.48it/s]\n",
      "BERT编码: 100%|██████████| 1/1 [00:00<00:00, 92.59it/s]\n",
      "BERT编码: 100%|██████████| 1/1 [00:00<00:00, 109.62it/s]\n",
      "BERT编码: 100%|██████████| 1/1 [00:00<00:00, 115.25it/s]\n",
      "BERT编码: 100%|██████████| 1/1 [00:00<00:00, 140.47it/s]\n",
      "BERT编码: 100%|██████████| 1/1 [00:00<00:00, 126.97it/s]\n",
      "BERT编码: 100%|██████████| 1/1 [00:00<00:00, 85.26it/s]\n",
      "BERT编码: 100%|██████████| 1/1 [00:00<00:00, 147.67it/s]\n",
      "BERT编码: 100%|██████████| 1/1 [00:00<00:00, 107.42it/s]\n",
      "BERT编码: 100%|██████████| 1/1 [00:00<00:00, 114.12it/s]\n",
      "BERT编码: 100%|██████████| 1/1 [00:00<00:00, 107.62it/s]\n"
     ]
    },
    {
     "name": "stdout",
     "output_type": "stream",
     "text": [
      "从缓存加载BERT嵌入...\n"
     ]
    },
    {
     "name": "stderr",
     "output_type": "stream",
     "text": [
      "BERT编码: 100%|██████████| 1/1 [00:00<00:00, 138.03it/s]\n"
     ]
    },
    {
     "name": "stdout",
     "output_type": "stream",
     "text": [
      "从缓存加载BERT嵌入...\n"
     ]
    },
    {
     "name": "stderr",
     "output_type": "stream",
     "text": [
      "BERT编码: 100%|██████████| 1/1 [00:00<00:00, 88.17it/s]\n",
      "BERT编码: 100%|██████████| 1/1 [00:00<00:00, 104.94it/s]\n",
      "BERT编码: 100%|██████████| 1/1 [00:00<00:00, 150.15it/s]\n",
      "BERT编码: 100%|██████████| 1/1 [00:00<00:00, 137.31it/s]\n",
      "BERT编码: 100%|██████████| 1/1 [00:00<00:00, 114.34it/s]\n",
      "BERT编码: 100%|██████████| 1/1 [00:00<00:00, 124.16it/s]\n",
      "BERT编码: 100%|██████████| 1/1 [00:00<00:00, 87.38it/s]\n"
     ]
    },
    {
     "name": "stdout",
     "output_type": "stream",
     "text": [
      "从缓存加载BERT嵌入...\n"
     ]
    },
    {
     "name": "stderr",
     "output_type": "stream",
     "text": [
      "BERT编码: 100%|██████████| 1/1 [00:00<00:00, 132.80it/s]\n",
      "BERT编码: 100%|██████████| 1/1 [00:00<00:00, 107.75it/s]\n",
      "BERT编码: 100%|██████████| 1/1 [00:00<00:00, 118.12it/s]\n",
      "BERT编码: 100%|██████████| 1/1 [00:00<00:00, 126.50it/s]\n",
      "BERT编码: 100%|██████████| 1/1 [00:00<00:00, 123.32it/s]\n",
      "BERT编码: 100%|██████████| 1/1 [00:00<00:00, 129.78it/s]\n",
      "BERT编码: 100%|██████████| 1/1 [00:00<00:00, 113.51it/s]\n",
      "BERT编码: 100%|██████████| 1/1 [00:00<00:00, 147.60it/s]\n",
      "BERT编码: 100%|██████████| 1/1 [00:00<00:00, 100.96it/s]\n",
      "BERT编码: 100%|██████████| 1/1 [00:00<00:00, 120.82it/s]\n",
      "BERT编码: 100%|██████████| 1/1 [00:00<00:00, 95.28it/s]\n",
      "BERT编码: 100%|██████████| 1/1 [00:00<00:00, 158.98it/s]\n",
      "BERT编码: 100%|██████████| 1/1 [00:00<00:00, 116.41it/s]\n",
      "BERT编码: 100%|██████████| 1/1 [00:00<00:00, 167.95it/s]\n",
      "BERT编码: 100%|██████████| 1/1 [00:00<00:00, 86.33it/s]\n",
      "BERT编码: 100%|██████████| 1/1 [00:00<00:00, 140.71it/s]\n",
      "BERT编码: 100%|██████████| 1/1 [00:00<00:00, 115.43it/s]\n",
      "BERT编码: 100%|██████████| 1/1 [00:00<00:00, 132.01it/s]\n",
      "BERT编码: 100%|██████████| 1/1 [00:00<00:00, 97.92it/s]\n",
      "BERT编码: 100%|██████████| 1/1 [00:00<00:00, 109.16it/s]\n",
      "BERT编码: 100%|██████████| 1/1 [00:00<00:00, 93.72it/s]\n",
      "BERT编码: 100%|██████████| 1/1 [00:00<00:00, 106.80it/s]\n",
      "BERT编码: 100%|██████████| 1/1 [00:00<00:00, 142.84it/s]\n",
      "BERT编码: 100%|██████████| 1/1 [00:00<00:00, 122.06it/s]\n",
      "BERT编码: 100%|██████████| 1/1 [00:00<00:00, 115.96it/s]\n",
      "BERT编码: 100%|██████████| 1/1 [00:00<00:00, 128.05it/s]\n",
      "BERT编码: 100%|██████████| 1/1 [00:00<00:00, 86.15it/s]\n",
      "BERT编码: 100%|██████████| 1/1 [00:00<00:00, 125.12it/s]\n",
      "BERT编码: 100%|██████████| 1/1 [00:00<00:00, 110.07it/s]\n",
      "BERT编码: 100%|██████████| 1/1 [00:00<00:00, 131.03it/s]\n",
      "BERT编码: 100%|██████████| 1/1 [00:00<00:00, 89.34it/s]\n"
     ]
    },
    {
     "name": "stdout",
     "output_type": "stream",
     "text": [
      "从缓存加载BERT嵌入...\n"
     ]
    },
    {
     "name": "stderr",
     "output_type": "stream",
     "text": [
      "BERT编码: 100%|██████████| 1/1 [00:00<00:00, 150.33it/s]\n",
      "BERT编码: 100%|██████████| 1/1 [00:00<00:00, 50.78it/s]\n",
      "BERT编码: 100%|██████████| 1/1 [00:00<00:00, 101.25it/s]\n",
      "BERT编码: 100%|██████████| 1/1 [00:00<00:00, 108.03it/s]\n",
      "BERT编码: 100%|██████████| 1/1 [00:00<00:00, 87.81it/s]\n"
     ]
    },
    {
     "name": "stdout",
     "output_type": "stream",
     "text": [
      "从缓存加载BERT嵌入...\n"
     ]
    },
    {
     "name": "stderr",
     "output_type": "stream",
     "text": [
      "BERT编码: 100%|██████████| 1/1 [00:00<00:00, 67.89it/s]\n",
      "BERT编码: 100%|██████████| 1/1 [00:00<00:00, 88.11it/s]\n",
      "BERT编码: 100%|██████████| 1/1 [00:00<00:00, 118.01it/s]\n",
      "BERT编码: 100%|██████████| 1/1 [00:00<00:00, 105.53it/s]\n",
      "BERT编码: 100%|██████████| 1/1 [00:00<00:00, 122.88it/s]\n",
      "BERT编码: 100%|██████████| 1/1 [00:00<00:00, 61.38it/s]\n",
      "BERT编码: 100%|██████████| 1/1 [00:00<00:00, 115.31it/s]\n",
      "BERT编码: 100%|██████████| 1/1 [00:00<00:00, 142.90it/s]\n",
      "BERT编码: 100%|██████████| 1/1 [00:00<00:00, 117.19it/s]\n",
      "BERT编码: 100%|██████████| 1/1 [00:00<00:00, 126.06it/s]\n",
      "BERT编码: 100%|██████████| 1/1 [00:00<00:00, 94.28it/s]\n",
      "BERT编码: 100%|██████████| 1/1 [00:00<00:00, 104.07it/s]\n",
      "BERT编码: 100%|██████████| 1/1 [00:00<00:00, 112.89it/s]\n",
      "BERT编码: 100%|██████████| 1/1 [00:00<00:00, 104.99it/s]\n",
      "BERT编码: 100%|██████████| 1/1 [00:00<00:00, 124.05it/s]\n"
     ]
    },
    {
     "name": "stdout",
     "output_type": "stream",
     "text": [
      "从缓存加载BERT嵌入...\n"
     ]
    },
    {
     "name": "stderr",
     "output_type": "stream",
     "text": [
      "BERT编码: 100%|██████████| 1/1 [00:00<00:00, 95.13it/s]\n",
      "BERT编码: 100%|██████████| 1/1 [00:00<00:00, 70.44it/s]\n",
      "BERT编码: 100%|██████████| 1/1 [00:00<00:00, 100.73it/s]\n",
      "BERT编码: 100%|██████████| 1/1 [00:00<00:00, 112.11it/s]\n",
      "BERT编码: 100%|██████████| 1/1 [00:00<00:00, 72.87it/s]\n",
      "BERT编码: 100%|██████████| 1/1 [00:00<00:00, 114.23it/s]\n",
      "BERT编码: 100%|██████████| 1/1 [00:00<00:00, 89.24it/s]\n",
      "BERT编码: 100%|██████████| 1/1 [00:00<00:00, 115.54it/s]\n",
      "BERT编码: 100%|██████████| 1/1 [00:00<00:00, 117.52it/s]\n",
      "BERT编码: 100%|██████████| 1/1 [00:00<00:00, 117.01it/s]\n",
      "BERT编码: 100%|██████████| 1/1 [00:00<00:00, 91.98it/s]\n",
      "BERT编码: 100%|██████████| 1/1 [00:00<00:00, 128.32it/s]\n",
      "BERT编码: 100%|██████████| 1/1 [00:00<00:00, 128.01it/s]\n",
      "BERT编码: 100%|██████████| 1/1 [00:00<00:00, 96.69it/s]\n",
      "BERT编码: 100%|██████████| 1/1 [00:00<00:00, 91.62it/s]\n",
      "BERT编码: 100%|██████████| 1/1 [00:00<00:00, 118.48it/s]\n",
      "BERT编码: 100%|██████████| 1/1 [00:00<00:00, 96.29it/s]\n",
      "BERT编码: 100%|██████████| 1/1 [00:00<00:00, 117.88it/s]\n",
      "BERT编码: 100%|██████████| 1/1 [00:00<00:00, 113.53it/s]\n",
      "BERT编码: 100%|██████████| 1/1 [00:00<00:00, 79.11it/s]\n",
      "BERT编码: 100%|██████████| 1/1 [00:00<00:00, 72.67it/s]\n",
      "BERT编码: 100%|██████████| 1/1 [00:00<00:00, 96.10it/s]\n",
      "BERT编码: 100%|██████████| 1/1 [00:00<00:00, 92.49it/s]\n",
      "BERT编码: 100%|██████████| 1/1 [00:00<00:00, 109.60it/s]\n",
      "BERT编码: 100%|██████████| 1/1 [00:00<00:00, 160.93it/s]\n",
      "BERT编码: 100%|██████████| 1/1 [00:00<00:00, 123.77it/s]\n",
      "BERT编码: 100%|██████████| 1/1 [00:00<00:00, 106.51it/s]\n",
      "BERT编码: 100%|██████████| 1/1 [00:00<00:00, 139.04it/s]\n",
      "BERT编码: 100%|██████████| 1/1 [00:00<00:00, 84.48it/s]\n"
     ]
    },
    {
     "name": "stdout",
     "output_type": "stream",
     "text": [
      "从缓存加载BERT嵌入...\n"
     ]
    },
    {
     "name": "stderr",
     "output_type": "stream",
     "text": [
      "BERT编码: 100%|██████████| 1/1 [00:00<00:00, 129.05it/s]\n",
      "BERT编码: 100%|██████████| 1/1 [00:00<00:00, 137.41it/s]\n",
      "BERT编码: 100%|██████████| 1/1 [00:00<00:00, 102.69it/s]\n",
      "BERT编码: 100%|██████████| 1/1 [00:00<00:00, 88.92it/s]\n",
      "BERT编码: 100%|██████████| 1/1 [00:00<00:00, 89.18it/s]\n",
      "BERT编码: 100%|██████████| 1/1 [00:00<00:00, 98.22it/s]\n",
      "BERT编码: 100%|██████████| 1/1 [00:00<00:00, 112.33it/s]\n",
      "BERT编码: 100%|██████████| 1/1 [00:00<00:00, 125.61it/s]\n",
      "BERT编码: 100%|██████████| 1/1 [00:00<00:00, 106.57it/s]\n"
     ]
    },
    {
     "name": "stdout",
     "output_type": "stream",
     "text": [
      "从缓存加载BERT嵌入...\n"
     ]
    },
    {
     "name": "stderr",
     "output_type": "stream",
     "text": [
      "BERT编码: 100%|██████████| 1/1 [00:00<00:00, 104.31it/s]\n",
      "BERT编码: 100%|██████████| 1/1 [00:00<00:00, 75.83it/s]\n",
      "BERT编码: 100%|██████████| 1/1 [00:00<00:00, 106.54it/s]\n",
      "BERT编码: 100%|██████████| 1/1 [00:00<00:00, 124.52it/s]\n",
      "BERT编码: 100%|██████████| 1/1 [00:00<00:00, 98.47it/s]\n",
      "BERT编码: 100%|██████████| 1/1 [00:00<00:00, 97.97it/s]\n",
      "BERT编码: 100%|██████████| 1/1 [00:00<00:00, 124.76it/s]\n",
      "BERT编码: 100%|██████████| 1/1 [00:00<00:00, 104.61it/s]\n",
      "BERT编码: 100%|██████████| 1/1 [00:00<00:00, 81.04it/s]\n",
      "BERT编码: 100%|██████████| 1/1 [00:00<00:00, 112.61it/s]\n",
      "BERT编码: 100%|██████████| 1/1 [00:00<00:00, 88.16it/s]\n",
      "BERT编码: 100%|██████████| 1/1 [00:00<00:00, 75.60it/s]\n",
      "BERT编码: 100%|██████████| 1/1 [00:00<00:00, 77.82it/s]\n",
      "BERT编码: 100%|██████████| 1/1 [00:00<00:00, 101.77it/s]\n",
      "BERT编码: 100%|██████████| 1/1 [00:00<00:00, 122.22it/s]\n",
      "BERT编码: 100%|██████████| 1/1 [00:00<00:00, 91.77it/s]\n",
      "BERT编码: 100%|██████████| 1/1 [00:00<00:00, 111.26it/s]\n",
      "BERT编码: 100%|██████████| 1/1 [00:00<00:00, 119.95it/s]\n",
      "BERT编码: 100%|██████████| 1/1 [00:00<00:00, 81.20it/s]\n"
     ]
    },
    {
     "name": "stdout",
     "output_type": "stream",
     "text": [
      "从缓存加载BERT嵌入...\n"
     ]
    },
    {
     "name": "stderr",
     "output_type": "stream",
     "text": [
      "BERT编码: 100%|██████████| 1/1 [00:00<00:00, 72.35it/s]\n",
      "BERT编码: 100%|██████████| 1/1 [00:00<00:00, 105.47it/s]\n",
      "BERT编码: 100%|██████████| 1/1 [00:00<00:00, 123.49it/s]\n",
      "BERT编码: 100%|██████████| 1/1 [00:00<00:00, 68.84it/s]\n",
      "BERT编码: 100%|██████████| 1/1 [00:00<00:00, 73.19it/s]\n",
      "BERT编码: 100%|██████████| 1/1 [00:00<00:00, 125.82it/s]\n",
      "BERT编码: 100%|██████████| 1/1 [00:00<00:00, 96.97it/s]\n",
      "BERT编码: 100%|██████████| 1/1 [00:00<00:00, 71.99it/s]\n",
      "BERT编码: 100%|██████████| 1/1 [00:00<00:00, 57.45it/s]\n",
      "BERT编码: 100%|██████████| 1/1 [00:00<00:00, 147.60it/s]\n",
      "BERT编码: 100%|██████████| 1/1 [00:00<00:00, 116.12it/s]\n",
      "BERT编码: 100%|██████████| 1/1 [00:00<00:00, 117.68it/s]\n",
      "BERT编码: 100%|██████████| 1/1 [00:00<00:00, 110.66it/s]\n",
      "BERT编码: 100%|██████████| 1/1 [00:00<00:00, 118.47it/s]\n",
      "BERT编码: 100%|██████████| 1/1 [00:00<00:00, 126.18it/s]\n",
      "BERT编码: 100%|██████████| 1/1 [00:00<00:00, 105.81it/s]\n",
      "BERT编码: 100%|██████████| 1/1 [00:00<00:00, 97.43it/s]\n",
      "BERT编码: 100%|██████████| 1/1 [00:00<00:00, 112.82it/s]\n",
      "BERT编码: 100%|██████████| 1/1 [00:00<00:00, 107.08it/s]\n",
      "BERT编码: 100%|██████████| 1/1 [00:00<00:00, 120.54it/s]\n",
      "BERT编码: 100%|██████████| 1/1 [00:00<00:00, 99.57it/s]\n",
      "BERT编码: 100%|██████████| 1/1 [00:00<00:00, 123.88it/s]\n",
      "BERT编码: 100%|██████████| 1/1 [00:00<00:00, 99.35it/s]\n",
      "BERT编码: 100%|██████████| 1/1 [00:00<00:00, 155.98it/s]\n",
      "BERT编码: 100%|██████████| 1/1 [00:00<00:00, 95.59it/s]\n",
      "BERT编码: 100%|██████████| 1/1 [00:00<00:00, 118.82it/s]\n",
      "BERT编码: 100%|██████████| 1/1 [00:00<00:00, 111.86it/s]\n",
      "BERT编码: 100%|██████████| 1/1 [00:00<00:00, 85.24it/s]\n",
      "BERT编码: 100%|██████████| 1/1 [00:00<00:00, 128.55it/s]\n",
      "BERT编码: 100%|██████████| 1/1 [00:00<00:00, 119.59it/s]\n",
      "BERT编码: 100%|██████████| 1/1 [00:00<00:00, 155.03it/s]\n"
     ]
    },
    {
     "name": "stdout",
     "output_type": "stream",
     "text": [
      "从缓存加载BERT嵌入...\n"
     ]
    },
    {
     "name": "stderr",
     "output_type": "stream",
     "text": [
      "BERT编码: 100%|██████████| 1/1 [00:00<00:00, 125.98it/s]\n",
      "BERT编码: 100%|██████████| 1/1 [00:00<00:00, 89.70it/s]\n",
      "BERT编码: 100%|██████████| 1/1 [00:00<00:00, 117.73it/s]\n",
      "BERT编码: 100%|██████████| 1/1 [00:00<00:00, 132.19it/s]\n",
      "BERT编码: 100%|██████████| 1/1 [00:00<00:00, 96.61it/s]\n",
      "BERT编码: 100%|██████████| 1/1 [00:00<00:00, 105.37it/s]\n",
      "BERT编码: 100%|██████████| 1/1 [00:00<00:00, 116.19it/s]\n",
      "BERT编码: 100%|██████████| 1/1 [00:00<00:00, 95.60it/s]\n",
      "BERT编码: 100%|██████████| 1/1 [00:00<00:00, 145.71it/s]\n",
      "BERT编码: 100%|██████████| 1/1 [00:00<00:00, 102.31it/s]\n",
      "BERT编码: 100%|██████████| 1/1 [00:00<00:00, 148.30it/s]\n",
      "BERT编码: 100%|██████████| 1/1 [00:00<00:00, 92.47it/s]\n",
      "BERT编码: 100%|██████████| 1/1 [00:00<00:00, 125.03it/s]\n",
      "BERT编码: 100%|██████████| 1/1 [00:00<00:00, 135.23it/s]\n",
      "BERT编码: 100%|██████████| 1/1 [00:00<00:00, 115.78it/s]\n",
      "BERT编码: 100%|██████████| 1/1 [00:00<00:00, 134.05it/s]\n",
      "BERT编码: 100%|██████████| 1/1 [00:00<00:00, 102.02it/s]\n",
      "BERT编码: 100%|██████████| 1/1 [00:00<00:00, 145.16it/s]\n",
      "BERT编码: 100%|██████████| 1/1 [00:00<00:00, 114.27it/s]\n"
     ]
    },
    {
     "name": "stdout",
     "output_type": "stream",
     "text": [
      "从缓存加载BERT嵌入...\n"
     ]
    },
    {
     "name": "stderr",
     "output_type": "stream",
     "text": [
      "BERT编码: 100%|██████████| 1/1 [00:00<00:00, 140.00it/s]\n",
      "BERT编码: 100%|██████████| 1/1 [00:00<00:00, 52.45it/s]\n",
      "BERT编码: 100%|██████████| 1/1 [00:00<00:00, 109.06it/s]\n"
     ]
    },
    {
     "name": "stdout",
     "output_type": "stream",
     "text": [
      "从缓存加载BERT嵌入...\n"
     ]
    },
    {
     "name": "stderr",
     "output_type": "stream",
     "text": [
      "BERT编码: 100%|██████████| 1/1 [00:00<00:00, 102.12it/s]\n",
      "BERT编码: 100%|██████████| 1/1 [00:00<00:00, 117.40it/s]\n",
      "BERT编码: 100%|██████████| 1/1 [00:00<00:00, 108.29it/s]\n",
      "BERT编码: 100%|██████████| 1/1 [00:00<00:00, 78.93it/s]\n",
      "BERT编码: 100%|██████████| 1/1 [00:00<00:00, 104.53it/s]\n",
      "BERT编码: 100%|██████████| 1/1 [00:00<00:00, 90.27it/s]\n",
      "BERT编码: 100%|██████████| 1/1 [00:00<00:00, 95.74it/s]\n"
     ]
    },
    {
     "name": "stdout",
     "output_type": "stream",
     "text": [
      "从缓存加载BERT嵌入...\n"
     ]
    },
    {
     "name": "stderr",
     "output_type": "stream",
     "text": [
      "BERT编码: 100%|██████████| 1/1 [00:00<00:00, 101.53it/s]\n",
      "BERT编码: 100%|██████████| 1/1 [00:00<00:00, 83.26it/s]\n",
      "BERT编码: 100%|██████████| 1/1 [00:00<00:00, 149.74it/s]\n",
      "BERT编码: 100%|██████████| 1/1 [00:00<00:00, 102.24it/s]\n",
      "BERT编码: 100%|██████████| 1/1 [00:00<00:00, 128.06it/s]\n",
      "BERT编码: 100%|██████████| 1/1 [00:00<00:00, 107.28it/s]\n",
      "BERT编码: 100%|██████████| 1/1 [00:00<00:00, 120.30it/s]\n"
     ]
    },
    {
     "name": "stdout",
     "output_type": "stream",
     "text": [
      "从缓存加载BERT嵌入...\n"
     ]
    },
    {
     "name": "stderr",
     "output_type": "stream",
     "text": [
      "BERT编码: 100%|██████████| 1/1 [00:00<00:00, 111.45it/s]\n",
      "BERT编码: 100%|██████████| 1/1 [00:00<00:00, 117.25it/s]\n",
      "BERT编码: 100%|██████████| 1/1 [00:00<00:00, 117.62it/s]\n",
      "BERT编码: 100%|██████████| 1/1 [00:00<00:00, 108.34it/s]\n",
      "BERT编码: 100%|██████████| 1/1 [00:00<00:00, 105.63it/s]\n",
      "BERT编码: 100%|██████████| 1/1 [00:00<00:00, 124.95it/s]\n",
      "BERT编码: 100%|██████████| 1/1 [00:00<00:00, 133.48it/s]\n"
     ]
    },
    {
     "name": "stdout",
     "output_type": "stream",
     "text": [
      "从缓存加载BERT嵌入...\n"
     ]
    },
    {
     "name": "stderr",
     "output_type": "stream",
     "text": [
      "BERT编码: 100%|██████████| 1/1 [00:00<00:00, 119.53it/s]\n",
      "BERT编码: 100%|██████████| 1/1 [00:00<00:00, 104.93it/s]\n",
      "BERT编码: 100%|██████████| 1/1 [00:00<00:00, 123.06it/s]\n",
      "BERT编码: 100%|██████████| 1/1 [00:00<00:00, 116.65it/s]\n",
      "BERT编码: 100%|██████████| 1/1 [00:00<00:00, 120.60it/s]\n",
      "BERT编码: 100%|██████████| 1/1 [00:00<00:00, 117.92it/s]\n",
      "BERT编码: 100%|██████████| 1/1 [00:00<00:00, 93.02it/s]\n",
      "BERT编码: 100%|██████████| 1/1 [00:00<00:00, 81.03it/s]\n",
      "BERT编码: 100%|██████████| 1/1 [00:00<00:00, 120.16it/s]\n",
      "BERT编码: 100%|██████████| 1/1 [00:00<00:00, 107.89it/s]\n",
      "BERT编码: 100%|██████████| 1/1 [00:00<00:00, 135.13it/s]\n",
      "BERT编码: 100%|██████████| 1/1 [00:00<00:00, 89.36it/s]\n",
      "BERT编码: 100%|██████████| 1/1 [00:00<00:00, 150.33it/s]\n",
      "BERT编码: 100%|██████████| 1/1 [00:00<00:00, 103.20it/s]\n",
      "BERT编码: 100%|██████████| 1/1 [00:00<00:00, 119.98it/s]\n",
      "BERT编码: 100%|██████████| 1/1 [00:00<00:00, 124.97it/s]\n",
      "BERT编码: 100%|██████████| 1/1 [00:00<00:00, 116.36it/s]\n",
      "BERT编码: 100%|██████████| 1/1 [00:00<00:00, 136.36it/s]\n",
      "BERT编码: 100%|██████████| 1/1 [00:00<00:00, 102.54it/s]\n",
      "BERT编码: 100%|██████████| 1/1 [00:00<00:00, 139.29it/s]\n",
      "BERT编码: 100%|██████████| 1/1 [00:00<00:00, 97.74it/s]\n",
      "BERT编码: 100%|██████████| 1/1 [00:00<00:00, 146.91it/s]\n",
      "BERT编码: 100%|██████████| 1/1 [00:00<00:00, 97.13it/s]\n"
     ]
    },
    {
     "name": "stdout",
     "output_type": "stream",
     "text": [
      "从缓存加载BERT嵌入...\n"
     ]
    },
    {
     "name": "stderr",
     "output_type": "stream",
     "text": [
      "BERT编码: 100%|██████████| 1/1 [00:00<00:00, 157.04it/s]\n"
     ]
    },
    {
     "name": "stdout",
     "output_type": "stream",
     "text": [
      "从缓存加载BERT嵌入...\n"
     ]
    },
    {
     "name": "stderr",
     "output_type": "stream",
     "text": [
      "BERT编码: 100%|██████████| 1/1 [00:00<00:00, 83.97it/s]\n",
      "BERT编码: 100%|██████████| 1/1 [00:00<00:00, 111.96it/s]\n",
      "BERT编码: 100%|██████████| 1/1 [00:00<00:00, 112.38it/s]\n",
      "BERT编码: 100%|██████████| 1/1 [00:00<00:00, 141.07it/s]\n",
      "BERT编码: 100%|██████████| 1/1 [00:00<00:00, 109.83it/s]\n",
      "BERT编码: 100%|██████████| 1/1 [00:00<00:00, 113.29it/s]\n",
      "BERT编码: 100%|██████████| 1/1 [00:00<00:00, 112.84it/s]\n"
     ]
    },
    {
     "name": "stdout",
     "output_type": "stream",
     "text": [
      "从缓存加载BERT嵌入...\n"
     ]
    },
    {
     "name": "stderr",
     "output_type": "stream",
     "text": [
      "BERT编码: 100%|██████████| 1/1 [00:00<00:00, 113.25it/s]\n",
      "BERT编码: 100%|██████████| 1/1 [00:00<00:00, 125.53it/s]\n",
      "BERT编码: 100%|██████████| 1/1 [00:00<00:00, 145.94it/s]\n",
      "BERT编码: 100%|██████████| 1/1 [00:00<00:00, 136.48it/s]\n",
      "BERT编码: 100%|██████████| 1/1 [00:00<00:00, 121.91it/s]\n"
     ]
    },
    {
     "name": "stdout",
     "output_type": "stream",
     "text": [
      "从缓存加载BERT嵌入...\n"
     ]
    },
    {
     "name": "stderr",
     "output_type": "stream",
     "text": [
      "BERT编码: 100%|██████████| 1/1 [00:00<00:00, 112.51it/s]\n",
      "BERT编码: 100%|██████████| 1/1 [00:00<00:00, 101.55it/s]\n",
      "BERT编码: 100%|██████████| 1/1 [00:00<00:00, 137.76it/s]\n",
      "BERT编码: 100%|██████████| 1/1 [00:00<00:00, 110.39it/s]\n",
      "BERT编码: 100%|██████████| 1/1 [00:00<00:00, 126.33it/s]\n",
      "BERT编码: 100%|██████████| 1/1 [00:00<00:00, 130.01it/s]\n",
      "BERT编码: 100%|██████████| 1/1 [00:00<00:00, 118.37it/s]\n"
     ]
    },
    {
     "name": "stdout",
     "output_type": "stream",
     "text": [
      "从缓存加载BERT嵌入...\n"
     ]
    },
    {
     "name": "stderr",
     "output_type": "stream",
     "text": [
      "BERT编码: 100%|██████████| 1/1 [00:00<00:00, 112.97it/s]\n",
      "BERT编码: 100%|██████████| 1/1 [00:00<00:00,  8.10it/s]\n",
      "BERT编码: 100%|██████████| 1/1 [00:00<00:00, 63.64it/s]\n",
      "BERT编码: 100%|██████████| 1/1 [00:00<00:00, 98.76it/s]\n",
      "BERT编码: 100%|██████████| 1/1 [00:00<00:00, 150.58it/s]\n",
      "BERT编码: 100%|██████████| 1/1 [00:00<00:00, 124.13it/s]\n",
      "BERT编码: 100%|██████████| 1/1 [00:00<00:00, 155.30it/s]\n"
     ]
    },
    {
     "name": "stdout",
     "output_type": "stream",
     "text": [
      "从缓存加载BERT嵌入...\n"
     ]
    },
    {
     "name": "stderr",
     "output_type": "stream",
     "text": [
      "BERT编码: 100%|██████████| 1/1 [00:00<00:00, 97.12it/s]\n",
      "BERT编码: 100%|██████████| 1/1 [00:00<00:00, 123.11it/s]\n",
      "BERT编码: 100%|██████████| 1/1 [00:00<00:00, 106.51it/s]\n",
      "BERT编码: 100%|██████████| 1/1 [00:00<00:00, 151.79it/s]\n",
      "BERT编码: 100%|██████████| 1/1 [00:00<00:00, 120.02it/s]\n",
      "BERT编码: 100%|██████████| 1/1 [00:00<00:00, 77.66it/s]\n",
      "BERT编码: 100%|██████████| 1/1 [00:00<00:00, 70.27it/s]\n",
      "BERT编码: 100%|██████████| 1/1 [00:00<00:00, 110.32it/s]\n",
      "BERT编码: 100%|██████████| 1/1 [00:00<00:00, 98.53it/s]\n"
     ]
    },
    {
     "name": "stdout",
     "output_type": "stream",
     "text": [
      "从缓存加载BERT嵌入...\n"
     ]
    },
    {
     "name": "stderr",
     "output_type": "stream",
     "text": [
      "BERT编码: 100%|██████████| 1/1 [00:00<00:00, 108.21it/s]\n",
      "BERT编码: 100%|██████████| 1/1 [00:00<00:00, 106.42it/s]\n",
      "BERT编码: 100%|██████████| 1/1 [00:00<00:00, 135.41it/s]\n"
     ]
    },
    {
     "name": "stdout",
     "output_type": "stream",
     "text": [
      "从缓存加载BERT嵌入...\n"
     ]
    },
    {
     "name": "stderr",
     "output_type": "stream",
     "text": [
      "BERT编码: 100%|██████████| 1/1 [00:00<00:00, 101.79it/s]\n"
     ]
    },
    {
     "name": "stdout",
     "output_type": "stream",
     "text": [
      "从缓存加载BERT嵌入...\n"
     ]
    },
    {
     "name": "stderr",
     "output_type": "stream",
     "text": [
      "BERT编码: 100%|██████████| 1/1 [00:00<00:00, 112.44it/s]\n",
      "BERT编码: 100%|██████████| 1/1 [00:00<00:00, 87.62it/s]\n",
      "BERT编码: 100%|██████████| 1/1 [00:00<00:00, 136.23it/s]\n",
      "BERT编码: 100%|██████████| 1/1 [00:00<00:00, 105.99it/s]\n",
      "BERT编码: 100%|██████████| 1/1 [00:00<00:00, 155.16it/s]\n",
      "BERT编码: 100%|██████████| 1/1 [00:00<00:00, 111.11it/s]\n",
      "BERT编码: 100%|██████████| 1/1 [00:00<00:00, 150.60it/s]\n",
      "BERT编码: 100%|██████████| 1/1 [00:00<00:00, 76.97it/s]\n",
      "BERT编码: 100%|██████████| 1/1 [00:00<00:00, 108.22it/s]\n"
     ]
    },
    {
     "name": "stdout",
     "output_type": "stream",
     "text": [
      "从缓存加载BERT嵌入...\n"
     ]
    },
    {
     "name": "stderr",
     "output_type": "stream",
     "text": [
      "BERT编码: 100%|██████████| 1/1 [00:00<00:00, 119.20it/s]\n",
      "BERT编码: 100%|██████████| 1/1 [00:00<00:00, 116.81it/s]\n",
      "BERT编码: 100%|██████████| 1/1 [00:00<00:00, 150.40it/s]\n",
      "BERT编码: 100%|██████████| 1/1 [00:00<00:00, 138.18it/s]\n",
      "BERT编码: 100%|██████████| 1/1 [00:00<00:00, 112.87it/s]\n"
     ]
    },
    {
     "name": "stdout",
     "output_type": "stream",
     "text": [
      "从缓存加载BERT嵌入...\n"
     ]
    },
    {
     "name": "stderr",
     "output_type": "stream",
     "text": [
      "BERT编码: 100%|██████████| 1/1 [00:00<00:00, 135.52it/s]\n",
      "BERT编码: 100%|██████████| 1/1 [00:00<00:00, 55.49it/s]\n",
      "BERT编码: 100%|██████████| 1/1 [00:00<00:00, 113.47it/s]\n",
      "BERT编码: 100%|██████████| 1/1 [00:00<00:00, 107.54it/s]\n",
      "BERT编码: 100%|██████████| 1/1 [00:00<00:00, 110.87it/s]\n"
     ]
    },
    {
     "name": "stdout",
     "output_type": "stream",
     "text": [
      "从缓存加载BERT嵌入...\n"
     ]
    },
    {
     "name": "stderr",
     "output_type": "stream",
     "text": [
      "BERT编码: 100%|██████████| 1/1 [00:00<00:00, 108.85it/s]\n",
      "BERT编码: 100%|██████████| 1/1 [00:00<00:00, 141.13it/s]\n",
      "BERT编码: 100%|██████████| 1/1 [00:00<00:00, 93.26it/s]\n"
     ]
    },
    {
     "name": "stdout",
     "output_type": "stream",
     "text": [
      "从缓存加载BERT嵌入...\n"
     ]
    },
    {
     "name": "stderr",
     "output_type": "stream",
     "text": [
      "BERT编码: 100%|██████████| 1/1 [00:00<00:00, 137.89it/s]\n"
     ]
    },
    {
     "name": "stdout",
     "output_type": "stream",
     "text": [
      "从缓存加载BERT嵌入...\n"
     ]
    },
    {
     "name": "stderr",
     "output_type": "stream",
     "text": [
      "BERT编码: 100%|██████████| 1/1 [00:00<00:00, 81.92it/s]\n",
      "BERT编码: 100%|██████████| 1/1 [00:00<00:00, 137.74it/s]\n",
      "BERT编码: 100%|██████████| 1/1 [00:00<00:00, 93.72it/s]\n"
     ]
    },
    {
     "name": "stdout",
     "output_type": "stream",
     "text": [
      "从缓存加载BERT嵌入...\n"
     ]
    },
    {
     "name": "stderr",
     "output_type": "stream",
     "text": [
      "BERT编码: 100%|██████████| 1/1 [00:00<00:00, 144.03it/s]\n",
      "BERT编码: 100%|██████████| 1/1 [00:00<00:00, 103.60it/s]\n",
      "BERT编码: 100%|██████████| 1/1 [00:00<00:00, 132.43it/s]\n"
     ]
    },
    {
     "name": "stdout",
     "output_type": "stream",
     "text": [
      "从缓存加载BERT嵌入...\n"
     ]
    },
    {
     "name": "stderr",
     "output_type": "stream",
     "text": [
      "BERT编码: 100%|██████████| 1/1 [00:00<00:00, 94.48it/s]\n",
      "BERT编码: 100%|██████████| 1/1 [00:00<00:00, 152.93it/s]\n",
      "BERT编码: 100%|██████████| 1/1 [00:00<00:00, 91.20it/s]\n"
     ]
    },
    {
     "name": "stdout",
     "output_type": "stream",
     "text": [
      "从缓存加载BERT嵌入...\n"
     ]
    },
    {
     "name": "stderr",
     "output_type": "stream",
     "text": [
      "BERT编码: 100%|██████████| 1/1 [00:00<00:00, 150.36it/s]\n",
      "BERT编码: 100%|██████████| 1/1 [00:00<00:00, 90.89it/s]\n",
      "BERT编码: 100%|██████████| 1/1 [00:00<00:00, 126.30it/s]\n",
      "BERT编码: 100%|██████████| 1/1 [00:00<00:00, 85.75it/s]\n",
      "BERT编码: 100%|██████████| 1/1 [00:00<00:00, 152.03it/s]\n",
      "BERT编码: 100%|██████████| 1/1 [00:00<00:00, 100.17it/s]\n",
      "BERT编码: 100%|██████████| 1/1 [00:00<00:00, 150.55it/s]\n",
      "BERT编码: 100%|██████████| 1/1 [00:00<00:00, 32.20it/s]\n",
      "BERT编码: 100%|██████████| 1/1 [00:00<00:00, 137.60it/s]\n"
     ]
    },
    {
     "name": "stdout",
     "output_type": "stream",
     "text": [
      "从缓存加载BERT嵌入...\n"
     ]
    },
    {
     "name": "stderr",
     "output_type": "stream",
     "text": [
      "BERT编码: 100%|██████████| 1/1 [00:00<00:00, 112.19it/s]\n",
      "BERT编码: 100%|██████████| 1/1 [00:00<00:00, 116.29it/s]\n",
      "BERT编码: 100%|██████████| 1/1 [00:00<00:00, 92.95it/s]\n",
      "BERT编码: 100%|██████████| 1/1 [00:00<00:00, 114.93it/s]\n",
      "BERT编码: 100%|██████████| 1/1 [00:00<00:00, 136.78it/s]\n"
     ]
    },
    {
     "name": "stdout",
     "output_type": "stream",
     "text": [
      "从缓存加载BERT嵌入...\n"
     ]
    },
    {
     "name": "stderr",
     "output_type": "stream",
     "text": [
      "BERT编码: 100%|██████████| 1/1 [00:00<00:00, 74.33it/s]\n",
      "BERT编码: 100%|██████████| 1/1 [00:00<00:00, 144.17it/s]\n",
      "BERT编码: 100%|██████████| 1/1 [00:00<00:00, 109.79it/s]\n",
      "BERT编码: 100%|██████████| 1/1 [00:00<00:00, 138.85it/s]\n",
      "BERT编码: 100%|██████████| 1/1 [00:00<00:00, 105.95it/s]\n",
      "BERT编码: 100%|██████████| 1/1 [00:00<00:00, 127.02it/s]\n",
      "BERT编码: 100%|██████████| 1/1 [00:00<00:00, 81.64it/s]\n",
      "BERT编码: 100%|██████████| 1/1 [00:00<00:00, 119.49it/s]\n",
      "BERT编码: 100%|██████████| 1/1 [00:00<00:00, 121.09it/s]\n"
     ]
    },
    {
     "name": "stdout",
     "output_type": "stream",
     "text": [
      "从缓存加载BERT嵌入...\n"
     ]
    },
    {
     "name": "stderr",
     "output_type": "stream",
     "text": [
      "BERT编码: 100%|██████████| 1/1 [00:00<00:00, 156.08it/s]\n",
      "BERT编码: 100%|██████████| 1/1 [00:00<00:00, 102.29it/s]\n",
      "BERT编码: 100%|██████████| 1/1 [00:00<00:00, 127.63it/s]\n",
      "BERT编码: 100%|██████████| 1/1 [00:00<00:00, 96.90it/s]\n",
      "BERT编码: 100%|██████████| 1/1 [00:00<00:00, 113.99it/s]\n",
      "BERT编码: 100%|██████████| 1/1 [00:00<00:00, 122.53it/s]\n",
      "BERT编码: 100%|██████████| 1/1 [00:00<00:00, 73.29it/s]\n"
     ]
    },
    {
     "name": "stdout",
     "output_type": "stream",
     "text": [
      "从缓存加载BERT嵌入...\n"
     ]
    },
    {
     "name": "stderr",
     "output_type": "stream",
     "text": [
      "BERT编码: 100%|██████████| 1/1 [00:00<00:00, 91.66it/s]\n"
     ]
    },
    {
     "name": "stdout",
     "output_type": "stream",
     "text": [
      "从缓存加载BERT嵌入...\n"
     ]
    },
    {
     "name": "stderr",
     "output_type": "stream",
     "text": [
      "BERT编码: 100%|██████████| 1/1 [00:00<00:00, 136.95it/s]\n"
     ]
    },
    {
     "name": "stdout",
     "output_type": "stream",
     "text": [
      "从缓存加载BERT嵌入...\n"
     ]
    },
    {
     "name": "stderr",
     "output_type": "stream",
     "text": [
      "BERT编码: 100%|██████████| 1/1 [00:00<00:00, 92.74it/s]\n"
     ]
    },
    {
     "name": "stdout",
     "output_type": "stream",
     "text": [
      "从缓存加载BERT嵌入...\n"
     ]
    },
    {
     "name": "stderr",
     "output_type": "stream",
     "text": [
      "BERT编码: 100%|██████████| 1/1 [00:00<00:00, 83.09it/s]\n"
     ]
    },
    {
     "name": "stdout",
     "output_type": "stream",
     "text": [
      "从缓存加载BERT嵌入...\n"
     ]
    },
    {
     "name": "stderr",
     "output_type": "stream",
     "text": [
      "BERT编码: 100%|██████████| 1/1 [00:00<00:00, 131.39it/s]\n",
      "BERT编码: 100%|██████████| 1/1 [00:00<00:00, 90.88it/s]\n",
      "BERT编码: 100%|██████████| 1/1 [00:00<00:00, 113.65it/s]\n",
      "BERT编码: 100%|██████████| 1/1 [00:00<00:00, 94.45it/s]\n",
      "BERT编码: 100%|██████████| 1/1 [00:00<00:00, 95.95it/s]\n",
      "BERT编码: 100%|██████████| 1/1 [00:00<00:00, 104.44it/s]\n",
      "BERT编码: 100%|██████████| 1/1 [00:00<00:00, 98.30it/s]\n",
      "BERT编码: 100%|██████████| 1/1 [00:00<00:00, 79.35it/s]\n",
      "BERT编码: 100%|██████████| 1/1 [00:00<00:00, 123.85it/s]\n",
      "BERT编码: 100%|██████████| 1/1 [00:00<00:00, 127.51it/s]\n",
      "BERT编码: 100%|██████████| 1/1 [00:00<00:00, 136.75it/s]\n",
      "BERT编码: 100%|██████████| 1/1 [00:00<00:00, 140.90it/s]\n",
      "BERT编码: 100%|██████████| 1/1 [00:00<00:00, 131.68it/s]\n"
     ]
    },
    {
     "name": "stdout",
     "output_type": "stream",
     "text": [
      "从缓存加载BERT嵌入...\n"
     ]
    },
    {
     "name": "stderr",
     "output_type": "stream",
     "text": [
      "BERT编码: 100%|██████████| 1/1 [00:00<00:00, 100.76it/s]\n",
      "BERT编码: 100%|██████████| 1/1 [00:00<00:00, 89.00it/s]\n",
      "BERT编码: 100%|██████████| 1/1 [00:00<00:00, 158.14it/s]\n"
     ]
    },
    {
     "name": "stdout",
     "output_type": "stream",
     "text": [
      "从缓存加载BERT嵌入...\n"
     ]
    },
    {
     "name": "stderr",
     "output_type": "stream",
     "text": [
      "BERT编码: 100%|██████████| 1/1 [00:00<00:00, 80.56it/s]\n"
     ]
    },
    {
     "name": "stdout",
     "output_type": "stream",
     "text": [
      "从缓存加载BERT嵌入...\n"
     ]
    },
    {
     "name": "stderr",
     "output_type": "stream",
     "text": [
      "BERT编码: 100%|██████████| 1/1 [00:00<00:00, 104.91it/s]\n",
      "BERT编码: 100%|██████████| 1/1 [00:00<00:00, 144.66it/s]\n",
      "BERT编码: 100%|██████████| 1/1 [00:00<00:00, 105.70it/s]\n",
      "BERT编码: 100%|██████████| 1/1 [00:00<00:00, 133.47it/s]\n",
      "BERT编码: 100%|██████████| 1/1 [00:00<00:00, 113.21it/s]\n"
     ]
    },
    {
     "name": "stdout",
     "output_type": "stream",
     "text": [
      "从缓存加载BERT嵌入...\n"
     ]
    },
    {
     "name": "stderr",
     "output_type": "stream",
     "text": [
      "BERT编码: 100%|██████████| 1/1 [00:00<00:00, 109.66it/s]\n",
      "BERT编码: 100%|██████████| 1/1 [00:00<00:00, 109.80it/s]\n",
      "BERT编码: 100%|██████████| 1/1 [00:00<00:00, 112.97it/s]\n"
     ]
    },
    {
     "name": "stdout",
     "output_type": "stream",
     "text": [
      "从缓存加载BERT嵌入...\n"
     ]
    },
    {
     "name": "stderr",
     "output_type": "stream",
     "text": [
      "BERT编码: 100%|██████████| 1/1 [00:00<00:00, 107.46it/s]\n"
     ]
    },
    {
     "name": "stdout",
     "output_type": "stream",
     "text": [
      "从缓存加载BERT嵌入...\n"
     ]
    },
    {
     "name": "stderr",
     "output_type": "stream",
     "text": [
      "BERT编码: 100%|██████████| 1/1 [00:00<00:00, 113.29it/s]\n"
     ]
    },
    {
     "name": "stdout",
     "output_type": "stream",
     "text": [
      "从缓存加载BERT嵌入...\n"
     ]
    },
    {
     "name": "stderr",
     "output_type": "stream",
     "text": [
      "BERT编码: 100%|██████████| 1/1 [00:00<00:00, 120.09it/s]\n",
      "BERT编码: 100%|██████████| 1/1 [00:00<00:00, 105.12it/s]\n",
      "BERT编码: 100%|██████████| 1/1 [00:00<00:00, 113.65it/s]\n",
      "BERT编码: 100%|██████████| 1/1 [00:00<00:00, 134.48it/s]\n",
      "BERT编码: 100%|██████████| 1/1 [00:00<00:00, 105.19it/s]\n",
      "BERT编码: 100%|██████████| 1/1 [00:00<00:00, 140.74it/s]\n",
      "BERT编码: 100%|██████████| 1/1 [00:00<00:00, 96.77it/s]\n",
      "BERT编码: 100%|██████████| 1/1 [00:00<00:00, 147.91it/s]\n",
      "BERT编码: 100%|██████████| 1/1 [00:00<00:00, 83.43it/s]\n"
     ]
    },
    {
     "name": "stdout",
     "output_type": "stream",
     "text": [
      "从缓存加载BERT嵌入...\n"
     ]
    },
    {
     "name": "stderr",
     "output_type": "stream",
     "text": [
      "BERT编码: 100%|██████████| 1/1 [00:00<00:00, 135.30it/s]\n",
      "BERT编码: 100%|██████████| 1/1 [00:00<00:00, 106.49it/s]\n",
      "BERT编码: 100%|██████████| 1/1 [00:00<00:00, 132.21it/s]\n",
      "BERT编码: 100%|██████████| 1/1 [00:00<00:00, 111.47it/s]\n",
      "BERT编码: 100%|██████████| 1/1 [00:00<00:00, 138.53it/s]\n"
     ]
    },
    {
     "name": "stdout",
     "output_type": "stream",
     "text": [
      "从缓存加载BERT嵌入...\n"
     ]
    },
    {
     "name": "stderr",
     "output_type": "stream",
     "text": [
      "BERT编码: 100%|██████████| 1/1 [00:00<00:00, 135.80it/s]\n",
      "BERT编码: 100%|██████████| 1/1 [00:00<00:00, 121.85it/s]\n"
     ]
    },
    {
     "name": "stdout",
     "output_type": "stream",
     "text": [
      "\n",
      "模型评估结果:\n",
      "总样本数: 1000\n",
      "正确预测: 861 (86.10%)\n",
      "精确率: 0.8591\n",
      "召回率: 0.9636\n",
      "F1分数: 0.9084\n",
      "\n",
      "假阳性 (预测匹配但实际不匹配): 113\n",
      "假阴性 (预测不匹配但实际匹配): 26\n",
      "\n",
      "假阳性示例:\n",
      "参考房间: Shared Dormitory (For 9 people)\n",
      "供应商房间: Shared Dormitory (8 people)\n",
      "预测概率: 0.8146\n",
      "---\n",
      "参考房间: Villa, 1 Bedroom, Ocean View\n",
      "供应商房间: Villa, 4 Bedrooms, Ocean View\n",
      "预测概率: 0.9987\n",
      "---\n",
      "参考房间: Bed in 12-Bed Female Dormitory Room\n",
      "供应商房间: Bed in 6-Bed Female Dormitory Room\n",
      "预测概率: 0.9991\n",
      "---\n",
      "\n",
      "假阴性示例:\n",
      "参考房间: Luxury Suite, 2 Bedrooms, Ocean View\n",
      "供应商房间: Two Bedroom Suite with Ocean View\n",
      "预测概率: 0.4408\n",
      "---\n",
      "参考房间: Two Bedrooms Villa\n",
      "供应商房间: 2 Bedroom Villa\n",
      "预测概率: 0.1109\n",
      "---\n",
      "参考房间: Small Single Room\n",
      "供应商房间: A Tiny Single Room\n",
      "预测概率: 0.4055\n",
      "---\n",
      "\n",
      "评估曲线已保存为 'model_evaluation.png'\n"
     ]
    },
    {
     "name": "stderr",
     "output_type": "stream",
     "text": [
      "/var/folders/_r/fkx738_16cn3dn68b0dfhhqr0000gn/T/ipykernel_18127/1420418683.py:141: UserWarning: Glyph 20551 (\\N{CJK UNIFIED IDEOGRAPH-5047}) missing from font(s) DejaVu Sans.\n",
      "  plt.tight_layout()\n",
      "/var/folders/_r/fkx738_16cn3dn68b0dfhhqr0000gn/T/ipykernel_18127/1420418683.py:141: UserWarning: Glyph 38451 (\\N{CJK UNIFIED IDEOGRAPH-9633}) missing from font(s) DejaVu Sans.\n",
      "  plt.tight_layout()\n",
      "/var/folders/_r/fkx738_16cn3dn68b0dfhhqr0000gn/T/ipykernel_18127/1420418683.py:141: UserWarning: Glyph 24615 (\\N{CJK UNIFIED IDEOGRAPH-6027}) missing from font(s) DejaVu Sans.\n",
      "  plt.tight_layout()\n",
      "/var/folders/_r/fkx738_16cn3dn68b0dfhhqr0000gn/T/ipykernel_18127/1420418683.py:141: UserWarning: Glyph 29575 (\\N{CJK UNIFIED IDEOGRAPH-7387}) missing from font(s) DejaVu Sans.\n",
      "  plt.tight_layout()\n",
      "/var/folders/_r/fkx738_16cn3dn68b0dfhhqr0000gn/T/ipykernel_18127/1420418683.py:141: UserWarning: Glyph 30495 (\\N{CJK UNIFIED IDEOGRAPH-771F}) missing from font(s) DejaVu Sans.\n",
      "  plt.tight_layout()\n",
      "/var/folders/_r/fkx738_16cn3dn68b0dfhhqr0000gn/T/ipykernel_18127/1420418683.py:141: UserWarning: Glyph 26354 (\\N{CJK UNIFIED IDEOGRAPH-66F2}) missing from font(s) DejaVu Sans.\n",
      "  plt.tight_layout()\n",
      "/var/folders/_r/fkx738_16cn3dn68b0dfhhqr0000gn/T/ipykernel_18127/1420418683.py:141: UserWarning: Glyph 32447 (\\N{CJK UNIFIED IDEOGRAPH-7EBF}) missing from font(s) DejaVu Sans.\n",
      "  plt.tight_layout()\n",
      "/var/folders/_r/fkx738_16cn3dn68b0dfhhqr0000gn/T/ipykernel_18127/1420418683.py:141: UserWarning: Glyph 21484 (\\N{CJK UNIFIED IDEOGRAPH-53EC}) missing from font(s) DejaVu Sans.\n",
      "  plt.tight_layout()\n",
      "/var/folders/_r/fkx738_16cn3dn68b0dfhhqr0000gn/T/ipykernel_18127/1420418683.py:141: UserWarning: Glyph 22238 (\\N{CJK UNIFIED IDEOGRAPH-56DE}) missing from font(s) DejaVu Sans.\n",
      "  plt.tight_layout()\n",
      "/var/folders/_r/fkx738_16cn3dn68b0dfhhqr0000gn/T/ipykernel_18127/1420418683.py:141: UserWarning: Glyph 31934 (\\N{CJK UNIFIED IDEOGRAPH-7CBE}) missing from font(s) DejaVu Sans.\n",
      "  plt.tight_layout()\n",
      "/var/folders/_r/fkx738_16cn3dn68b0dfhhqr0000gn/T/ipykernel_18127/1420418683.py:141: UserWarning: Glyph 30830 (\\N{CJK UNIFIED IDEOGRAPH-786E}) missing from font(s) DejaVu Sans.\n",
      "  plt.tight_layout()\n",
      "/var/folders/_r/fkx738_16cn3dn68b0dfhhqr0000gn/T/ipykernel_18127/1420418683.py:142: UserWarning: Glyph 20551 (\\N{CJK UNIFIED IDEOGRAPH-5047}) missing from font(s) DejaVu Sans.\n",
      "  plt.savefig('model_evaluation.png')\n",
      "/var/folders/_r/fkx738_16cn3dn68b0dfhhqr0000gn/T/ipykernel_18127/1420418683.py:142: UserWarning: Glyph 38451 (\\N{CJK UNIFIED IDEOGRAPH-9633}) missing from font(s) DejaVu Sans.\n",
      "  plt.savefig('model_evaluation.png')\n",
      "/var/folders/_r/fkx738_16cn3dn68b0dfhhqr0000gn/T/ipykernel_18127/1420418683.py:142: UserWarning: Glyph 24615 (\\N{CJK UNIFIED IDEOGRAPH-6027}) missing from font(s) DejaVu Sans.\n",
      "  plt.savefig('model_evaluation.png')\n",
      "/var/folders/_r/fkx738_16cn3dn68b0dfhhqr0000gn/T/ipykernel_18127/1420418683.py:142: UserWarning: Glyph 29575 (\\N{CJK UNIFIED IDEOGRAPH-7387}) missing from font(s) DejaVu Sans.\n",
      "  plt.savefig('model_evaluation.png')\n",
      "/var/folders/_r/fkx738_16cn3dn68b0dfhhqr0000gn/T/ipykernel_18127/1420418683.py:142: UserWarning: Glyph 30495 (\\N{CJK UNIFIED IDEOGRAPH-771F}) missing from font(s) DejaVu Sans.\n",
      "  plt.savefig('model_evaluation.png')\n",
      "/var/folders/_r/fkx738_16cn3dn68b0dfhhqr0000gn/T/ipykernel_18127/1420418683.py:142: UserWarning: Glyph 26354 (\\N{CJK UNIFIED IDEOGRAPH-66F2}) missing from font(s) DejaVu Sans.\n",
      "  plt.savefig('model_evaluation.png')\n",
      "/var/folders/_r/fkx738_16cn3dn68b0dfhhqr0000gn/T/ipykernel_18127/1420418683.py:142: UserWarning: Glyph 32447 (\\N{CJK UNIFIED IDEOGRAPH-7EBF}) missing from font(s) DejaVu Sans.\n",
      "  plt.savefig('model_evaluation.png')\n",
      "/var/folders/_r/fkx738_16cn3dn68b0dfhhqr0000gn/T/ipykernel_18127/1420418683.py:142: UserWarning: Glyph 21484 (\\N{CJK UNIFIED IDEOGRAPH-53EC}) missing from font(s) DejaVu Sans.\n",
      "  plt.savefig('model_evaluation.png')\n",
      "/var/folders/_r/fkx738_16cn3dn68b0dfhhqr0000gn/T/ipykernel_18127/1420418683.py:142: UserWarning: Glyph 22238 (\\N{CJK UNIFIED IDEOGRAPH-56DE}) missing from font(s) DejaVu Sans.\n",
      "  plt.savefig('model_evaluation.png')\n",
      "/var/folders/_r/fkx738_16cn3dn68b0dfhhqr0000gn/T/ipykernel_18127/1420418683.py:142: UserWarning: Glyph 31934 (\\N{CJK UNIFIED IDEOGRAPH-7CBE}) missing from font(s) DejaVu Sans.\n",
      "  plt.savefig('model_evaluation.png')\n",
      "/var/folders/_r/fkx738_16cn3dn68b0dfhhqr0000gn/T/ipykernel_18127/1420418683.py:142: UserWarning: Glyph 30830 (\\N{CJK UNIFIED IDEOGRAPH-786E}) missing from font(s) DejaVu Sans.\n",
      "  plt.savefig('model_evaluation.png')\n",
      "/Users/xinzhang/.pyenv/versions/realtime_interview_copilot/lib/python3.9/site-packages/IPython/core/pylabtools.py:152: UserWarning: Glyph 30495 (\\N{CJK UNIFIED IDEOGRAPH-771F}) missing from font(s) DejaVu Sans.\n",
      "  fig.canvas.print_figure(bytes_io, **kw)\n",
      "/Users/xinzhang/.pyenv/versions/realtime_interview_copilot/lib/python3.9/site-packages/IPython/core/pylabtools.py:152: UserWarning: Glyph 38451 (\\N{CJK UNIFIED IDEOGRAPH-9633}) missing from font(s) DejaVu Sans.\n",
      "  fig.canvas.print_figure(bytes_io, **kw)\n",
      "/Users/xinzhang/.pyenv/versions/realtime_interview_copilot/lib/python3.9/site-packages/IPython/core/pylabtools.py:152: UserWarning: Glyph 24615 (\\N{CJK UNIFIED IDEOGRAPH-6027}) missing from font(s) DejaVu Sans.\n",
      "  fig.canvas.print_figure(bytes_io, **kw)\n",
      "/Users/xinzhang/.pyenv/versions/realtime_interview_copilot/lib/python3.9/site-packages/IPython/core/pylabtools.py:152: UserWarning: Glyph 29575 (\\N{CJK UNIFIED IDEOGRAPH-7387}) missing from font(s) DejaVu Sans.\n",
      "  fig.canvas.print_figure(bytes_io, **kw)\n",
      "/Users/xinzhang/.pyenv/versions/realtime_interview_copilot/lib/python3.9/site-packages/IPython/core/pylabtools.py:152: UserWarning: Glyph 26354 (\\N{CJK UNIFIED IDEOGRAPH-66F2}) missing from font(s) DejaVu Sans.\n",
      "  fig.canvas.print_figure(bytes_io, **kw)\n",
      "/Users/xinzhang/.pyenv/versions/realtime_interview_copilot/lib/python3.9/site-packages/IPython/core/pylabtools.py:152: UserWarning: Glyph 32447 (\\N{CJK UNIFIED IDEOGRAPH-7EBF}) missing from font(s) DejaVu Sans.\n",
      "  fig.canvas.print_figure(bytes_io, **kw)\n",
      "/Users/xinzhang/.pyenv/versions/realtime_interview_copilot/lib/python3.9/site-packages/IPython/core/pylabtools.py:152: UserWarning: Glyph 20551 (\\N{CJK UNIFIED IDEOGRAPH-5047}) missing from font(s) DejaVu Sans.\n",
      "  fig.canvas.print_figure(bytes_io, **kw)\n",
      "/Users/xinzhang/.pyenv/versions/realtime_interview_copilot/lib/python3.9/site-packages/IPython/core/pylabtools.py:152: UserWarning: Glyph 31934 (\\N{CJK UNIFIED IDEOGRAPH-7CBE}) missing from font(s) DejaVu Sans.\n",
      "  fig.canvas.print_figure(bytes_io, **kw)\n",
      "/Users/xinzhang/.pyenv/versions/realtime_interview_copilot/lib/python3.9/site-packages/IPython/core/pylabtools.py:152: UserWarning: Glyph 30830 (\\N{CJK UNIFIED IDEOGRAPH-786E}) missing from font(s) DejaVu Sans.\n",
      "  fig.canvas.print_figure(bytes_io, **kw)\n",
      "/Users/xinzhang/.pyenv/versions/realtime_interview_copilot/lib/python3.9/site-packages/IPython/core/pylabtools.py:152: UserWarning: Glyph 21484 (\\N{CJK UNIFIED IDEOGRAPH-53EC}) missing from font(s) DejaVu Sans.\n",
      "  fig.canvas.print_figure(bytes_io, **kw)\n",
      "/Users/xinzhang/.pyenv/versions/realtime_interview_copilot/lib/python3.9/site-packages/IPython/core/pylabtools.py:152: UserWarning: Glyph 22238 (\\N{CJK UNIFIED IDEOGRAPH-56DE}) missing from font(s) DejaVu Sans.\n",
      "  fig.canvas.print_figure(bytes_io, **kw)\n"
     ]
    },
    {
     "data": {
      "image/png": "[encoded data removed]",
      "text/plain": [
       "<Figure size 1000x500 with 2 Axes>"
      ]
     },
     "metadata": {},
     "output_type": "display_data"
    }
   ],
   "source": [
    "metrics, results = evaluate_model(matcher, label_data, threshold=0.5)"
   ]
  },
  {
   "cell_type": "code",
   "execution_count": 19,
   "metadata": {},
   "outputs": [
    {
     "data": {
      "text/plain": [
       "{'accuracy': np.float64(0.861),\n",
       " 'precision': 0.8591022443890274,\n",
       " 'recall': 0.9636363636363636,\n",
       " 'f1': 0.9083717864205669,\n",
       " 'roc_auc': np.float64(0.8903668261562998),\n",
       " 'pr_auc': np.float64(0.9383653423184548)}"
      ]
     },
     "execution_count": 19,
     "metadata": {},
     "output_type": "execute_result"
    }
   ],
   "source": [
    "metrics"
   ]
  },
  {
   "cell_type": "code",
   "execution_count": 22,
   "metadata": {},
   "outputs": [
    {
     "data": {
      "text/html": [
       "<div>\n",
       "<style scoped>\n",
       "    .dataframe tbody tr th:only-of-type {\n",
       "        vertical-align: middle;\n",
       "    }\n",
       "\n",
       "    .dataframe tbody tr th {\n",
       "        vertical-align: top;\n",
       "    }\n",
       "\n",
       "    .dataframe thead th {\n",
       "        text-align: right;\n",
       "    }\n",
       "</style>\n",
       "<table border=\"1\" class=\"dataframe\">\n",
       "  <thead>\n",
       "    <tr style=\"text-align: right;\">\n",
       "      <th></th>\n",
       "      <th>reference_id</th>\n",
       "      <th>reference_name</th>\n",
       "      <th>supplier_id</th>\n",
       "      <th>supplier_name</th>\n",
       "      <th>true_label</th>\n",
       "      <th>pred_prob</th>\n",
       "      <th>pred_label</th>\n",
       "      <th>correct</th>\n",
       "    </tr>\n",
       "  </thead>\n",
       "  <tbody>\n",
       "    <tr>\n",
       "      <th>257</th>\n",
       "      <td>1142613867</td>\n",
       "      <td>Luxury Suite, 2 Bedrooms, Ocean View</td>\n",
       "      <td>201001263</td>\n",
       "      <td>Two Bedroom Suite with Ocean View</td>\n",
       "      <td>1</td>\n",
       "      <td>0.440802</td>\n",
       "      <td>0</td>\n",
       "      <td>False</td>\n",
       "    </tr>\n",
       "    <tr>\n",
       "      <th>264</th>\n",
       "      <td>1143440056</td>\n",
       "      <td>Two Bedrooms Villa</td>\n",
       "      <td>201180609</td>\n",
       "      <td>2 Bedroom Villa</td>\n",
       "      <td>1</td>\n",
       "      <td>0.110944</td>\n",
       "      <td>0</td>\n",
       "      <td>False</td>\n",
       "    </tr>\n",
       "    <tr>\n",
       "      <th>271</th>\n",
       "      <td>1143627768</td>\n",
       "      <td>Shared Dormitory (For 9 people)</td>\n",
       "      <td>201307788</td>\n",
       "      <td>Shared Dormitory (8 people)</td>\n",
       "      <td>0</td>\n",
       "      <td>0.814616</td>\n",
       "      <td>1</td>\n",
       "      <td>False</td>\n",
       "    </tr>\n",
       "    <tr>\n",
       "      <th>277</th>\n",
       "      <td>1143643089</td>\n",
       "      <td>Villa, 1 Bedroom, Ocean View</td>\n",
       "      <td>321024805</td>\n",
       "      <td>Villa, 4 Bedrooms, Ocean View</td>\n",
       "      <td>0</td>\n",
       "      <td>0.998747</td>\n",
       "      <td>1</td>\n",
       "      <td>False</td>\n",
       "    </tr>\n",
       "    <tr>\n",
       "      <th>325</th>\n",
       "      <td>658125402</td>\n",
       "      <td>Small Single Room</td>\n",
       "      <td>201237817</td>\n",
       "      <td>A Tiny Single Room</td>\n",
       "      <td>1</td>\n",
       "      <td>0.405520</td>\n",
       "      <td>0</td>\n",
       "      <td>False</td>\n",
       "    </tr>\n",
       "    <tr>\n",
       "      <th>...</th>\n",
       "      <td>...</td>\n",
       "      <td>...</td>\n",
       "      <td>...</td>\n",
       "      <td>...</td>\n",
       "      <td>...</td>\n",
       "      <td>...</td>\n",
       "      <td>...</td>\n",
       "      <td>...</td>\n",
       "    </tr>\n",
       "    <tr>\n",
       "      <th>987</th>\n",
       "      <td>1142843529</td>\n",
       "      <td>Family Quadruple Room, 2 Bedrooms, Refrigerato...</td>\n",
       "      <td>218110252</td>\n",
       "      <td>Family Quadruple Room, 2 Double Beds, Accessib...</td>\n",
       "      <td>1</td>\n",
       "      <td>0.008120</td>\n",
       "      <td>0</td>\n",
       "      <td>False</td>\n",
       "    </tr>\n",
       "    <tr>\n",
       "      <th>990</th>\n",
       "      <td>1143569342</td>\n",
       "      <td>Standard Room (White)</td>\n",
       "      <td>201917987</td>\n",
       "      <td>Standard Room</td>\n",
       "      <td>0</td>\n",
       "      <td>0.999771</td>\n",
       "      <td>1</td>\n",
       "      <td>False</td>\n",
       "    </tr>\n",
       "    <tr>\n",
       "      <th>991</th>\n",
       "      <td>1142737407</td>\n",
       "      <td>Suite (Coach House)</td>\n",
       "      <td>201289561</td>\n",
       "      <td>Suite House</td>\n",
       "      <td>0</td>\n",
       "      <td>0.999662</td>\n",
       "      <td>1</td>\n",
       "      <td>False</td>\n",
       "    </tr>\n",
       "    <tr>\n",
       "      <th>993</th>\n",
       "      <td>1143625881</td>\n",
       "      <td>5 Bed Ensuite Room</td>\n",
       "      <td>220259389</td>\n",
       "      <td>5 bed room</td>\n",
       "      <td>0</td>\n",
       "      <td>0.999462</td>\n",
       "      <td>1</td>\n",
       "      <td>False</td>\n",
       "    </tr>\n",
       "    <tr>\n",
       "      <th>994</th>\n",
       "      <td>1143453046</td>\n",
       "      <td>Senior Room</td>\n",
       "      <td>200457514</td>\n",
       "      <td>Senior Double Room</td>\n",
       "      <td>0</td>\n",
       "      <td>0.998995</td>\n",
       "      <td>1</td>\n",
       "      <td>False</td>\n",
       "    </tr>\n",
       "  </tbody>\n",
       "</table>\n",
       "<p>139 rows × 8 columns</p>\n",
       "</div>"
      ],
      "text/plain": [
       "     reference_id                                     reference_name  \\\n",
       "257    1142613867               Luxury Suite, 2 Bedrooms, Ocean View   \n",
       "264    1143440056                                 Two Bedrooms Villa   \n",
       "271    1143627768                    Shared Dormitory (For 9 people)   \n",
       "277    1143643089                       Villa, 1 Bedroom, Ocean View   \n",
       "325     658125402                                  Small Single Room   \n",
       "..            ...                                                ...   \n",
       "987    1142843529  Family Quadruple Room, 2 Bedrooms, Refrigerato...   \n",
       "990    1143569342                              Standard Room (White)   \n",
       "991    1142737407                                Suite (Coach House)   \n",
       "993    1143625881                                 5 Bed Ensuite Room   \n",
       "994    1143453046                                        Senior Room   \n",
       "\n",
       "     supplier_id                                      supplier_name  \\\n",
       "257    201001263                  Two Bedroom Suite with Ocean View   \n",
       "264    201180609                                    2 Bedroom Villa   \n",
       "271    201307788                        Shared Dormitory (8 people)   \n",
       "277    321024805                      Villa, 4 Bedrooms, Ocean View   \n",
       "325    201237817                                 A Tiny Single Room   \n",
       "..           ...                                                ...   \n",
       "987    218110252  Family Quadruple Room, 2 Double Beds, Accessib...   \n",
       "990    201917987                                      Standard Room   \n",
       "991    201289561                                        Suite House   \n",
       "993    220259389                                         5 bed room   \n",
       "994    200457514                                 Senior Double Room   \n",
       "\n",
       "     true_label  pred_prob  pred_label  correct  \n",
       "257           1   0.440802           0    False  \n",
       "264           1   0.110944           0    False  \n",
       "271           0   0.814616           1    False  \n",
       "277           0   0.998747           1    False  \n",
       "325           1   0.405520           0    False  \n",
       "..          ...        ...         ...      ...  \n",
       "987           1   0.008120           0    False  \n",
       "990           0   0.999771           1    False  \n",
       "991           0   0.999662           1    False  \n",
       "993           0   0.999462           1    False  \n",
       "994           0   0.998995           1    False  \n",
       "\n",
       "[139 rows x 8 columns]"
      ]
     },
     "execution_count": 22,
     "metadata": {},
     "output_type": "execute_result"
    }
   ],
   "source": [
    "results[results['correct']==False]"
   ]
  },
  {
   "cell_type": "code",
   "execution_count": null,
   "metadata": {},
   "outputs": [],
   "source": [
    "from data_processing import enhanced_room_matching\n",
    "from sentence_transformers import SentenceTransformer"
   ]
  },
  {
   "cell_type": "code",
   "execution_count": null,
   "metadata": {},
   "outputs": [],
   "source": [
    "ref_s = reference_rooms.iloc[20000:23000]\n",
    "supplier_s = supplier_rooms.iloc[30000:43000]\n",
    "model = SentenceTransformer('paraphrase-MiniLM-L6-v2')\n",
    "matches = enhanced_room_matching(ref_s, supplier_s, model, similarity_threshold=0.85, feature_weight=0.3)\n",
    "matches = matches.drop_duplicates(subset=['reference_room_name','supplier_room_name'])\n",
    "matches['text_similarity'] = matches['text_similarity'].round(2)\n",
    "perfect_matches = matches[matches['text_similarity']>0.99].sample(250)\n",
    "top_similarity = matches[(matches['text_similarity']>=0.96) & (matches['text_similarity']<=0.98)].sample(500)\n",
    "low_similarity = matches[(matches['text_similarity']>=0.85) & (matches['text_similarity']<0.88)].sample(250)\n",
    "\n",
    "print(len(perfect_matches), len(top_similarity), len(low_similarity))\n",
    "fine_label_data = pd.concat([perfect_matches, top_similarity, low_similarity])\n"
   ]
  },
  {
   "cell_type": "code",
   "execution_count": null,
   "metadata": {},
   "outputs": [],
   "source": []
  },
  {
   "cell_type": "code",
   "execution_count": null,
   "metadata": {},
   "outputs": [],
   "source": []
  },
  {
   "cell_type": "code",
   "execution_count": null,
   "metadata": {},
   "outputs": [],
   "source": []
  },
  {
   "cell_type": "code",
   "execution_count": 13,
   "metadata": {},
   "outputs": [
    {
     "name": "stdout",
     "output_type": "stream",
     "text": [
      "=== 查找完全 ID 匹配的房间 ===\n",
      "\n",
      "准备数据...\n",
      "创建索引...\n",
      "查找完全匹配...\n",
      "处理供应商数据批次 1-10000 / 2869056...\n",
      "批次处理完成，耗时: 0.22秒\n",
      "处理供应商数据批次 10001-20000 / 2869056...\n",
      "批次处理完成，耗时: 0.21秒\n",
      "处理供应商数据批次 20001-30000 / 2869056...\n",
      "批次处理完成，耗时: 0.21秒\n",
      "处理供应商数据批次 30001-40000 / 2869056...\n",
      "批次处理完成，耗时: 0.22秒\n",
      "处理供应商数据批次 40001-50000 / 2869056...\n",
      "批次处理完成，耗时: 0.22秒\n",
      "处理供应商数据批次 50001-60000 / 2869056...\n",
      "批次处理完成，耗时: 0.22秒\n",
      "处理供应商数据批次 60001-70000 / 2869056...\n",
      "批次处理完成，耗时: 0.22秒\n",
      "处理供应商数据批次 70001-80000 / 2869056...\n",
      "批次处理完成，耗时: 0.21秒\n",
      "处理供应商数据批次 80001-90000 / 2869056...\n",
      "批次处理完成，耗时: 0.21秒\n",
      "处理供应商数据批次 90001-100000 / 2869056...\n",
      "批次处理完成，耗时: 0.22秒\n",
      "处理供应商数据批次 100001-110000 / 2869056...\n",
      "批次处理完成，耗时: 0.21秒\n",
      "处理供应商数据批次 110001-120000 / 2869056...\n",
      "批次处理完成，耗时: 0.23秒\n",
      "处理供应商数据批次 120001-130000 / 2869056...\n",
      "批次处理完成，耗时: 0.20秒\n",
      "处理供应商数据批次 130001-140000 / 2869056...\n",
      "批次处理完成，耗时: 0.20秒\n",
      "处理供应商数据批次 140001-150000 / 2869056...\n",
      "批次处理完成，耗时: 0.20秒\n",
      "处理供应商数据批次 150001-160000 / 2869056...\n",
      "批次处理完成，耗时: 0.19秒\n",
      "处理供应商数据批次 160001-170000 / 2869056...\n",
      "批次处理完成，耗时: 0.18秒\n",
      "处理供应商数据批次 170001-180000 / 2869056...\n",
      "批次处理完成，耗时: 0.18秒\n",
      "处理供应商数据批次 180001-190000 / 2869056...\n",
      "批次处理完成，耗时: 0.19秒\n",
      "处理供应商数据批次 190001-200000 / 2869056...\n",
      "批次处理完成，耗时: 0.19秒\n",
      "处理供应商数据批次 200001-210000 / 2869056...\n",
      "批次处理完成，耗时: 0.20秒\n",
      "处理供应商数据批次 210001-220000 / 2869056...\n",
      "批次处理完成，耗时: 0.21秒\n",
      "处理供应商数据批次 220001-230000 / 2869056...\n",
      "批次处理完成，耗时: 0.21秒\n",
      "处理供应商数据批次 230001-240000 / 2869056...\n",
      "批次处理完成，耗时: 0.25秒\n",
      "处理供应商数据批次 240001-250000 / 2869056...\n",
      "批次处理完成，耗时: 0.20秒\n",
      "处理供应商数据批次 250001-260000 / 2869056...\n",
      "批次处理完成，耗时: 0.21秒\n",
      "处理供应商数据批次 260001-270000 / 2869056...\n",
      "批次处理完成，耗时: 0.21秒\n",
      "处理供应商数据批次 270001-280000 / 2869056...\n",
      "批次处理完成，耗时: 0.22秒\n",
      "处理供应商数据批次 280001-290000 / 2869056...\n",
      "批次处理完成，耗时: 0.21秒\n",
      "处理供应商数据批次 290001-300000 / 2869056...\n",
      "批次处理完成，耗时: 0.22秒\n",
      "处理供应商数据批次 300001-310000 / 2869056...\n",
      "批次处理完成，耗时: 0.21秒\n",
      "处理供应商数据批次 310001-320000 / 2869056...\n",
      "批次处理完成，耗时: 0.21秒\n",
      "处理供应商数据批次 320001-330000 / 2869056...\n",
      "批次处理完成，耗时: 0.22秒\n",
      "处理供应商数据批次 330001-340000 / 2869056...\n",
      "批次处理完成，耗时: 0.22秒\n",
      "处理供应商数据批次 340001-350000 / 2869056...\n",
      "批次处理完成，耗时: 0.22秒\n",
      "处理供应商数据批次 350001-360000 / 2869056...\n",
      "批次处理完成，耗时: 0.20秒\n",
      "处理供应商数据批次 360001-370000 / 2869056...\n",
      "批次处理完成，耗时: 0.19秒\n",
      "处理供应商数据批次 370001-380000 / 2869056...\n",
      "批次处理完成，耗时: 0.21秒\n",
      "处理供应商数据批次 380001-390000 / 2869056...\n",
      "批次处理完成，耗时: 0.21秒\n",
      "处理供应商数据批次 390001-400000 / 2869056...\n",
      "批次处理完成，耗时: 0.21秒\n",
      "处理供应商数据批次 400001-410000 / 2869056...\n",
      "批次处理完成，耗时: 0.18秒\n",
      "处理供应商数据批次 410001-420000 / 2869056...\n",
      "批次处理完成，耗时: 0.22秒\n",
      "处理供应商数据批次 420001-430000 / 2869056...\n",
      "批次处理完成，耗时: 0.22秒\n",
      "处理供应商数据批次 430001-440000 / 2869056...\n",
      "批次处理完成，耗时: 0.22秒\n",
      "处理供应商数据批次 440001-450000 / 2869056...\n",
      "批次处理完成，耗时: 0.21秒\n",
      "处理供应商数据批次 450001-460000 / 2869056...\n",
      "批次处理完成，耗时: 0.21秒\n",
      "处理供应商数据批次 460001-470000 / 2869056...\n",
      "批次处理完成，耗时: 0.22秒\n",
      "处理供应商数据批次 470001-480000 / 2869056...\n",
      "批次处理完成，耗时: 0.22秒\n",
      "处理供应商数据批次 480001-490000 / 2869056...\n",
      "批次处理完成，耗时: 0.20秒\n",
      "处理供应商数据批次 490001-500000 / 2869056...\n",
      "批次处理完成，耗时: 0.22秒\n",
      "处理供应商数据批次 500001-510000 / 2869056...\n",
      "批次处理完成，耗时: 0.22秒\n",
      "处理供应商数据批次 510001-520000 / 2869056...\n",
      "批次处理完成，耗时: 0.21秒\n",
      "处理供应商数据批次 520001-530000 / 2869056...\n",
      "批次处理完成，耗时: 0.21秒\n",
      "处理供应商数据批次 530001-540000 / 2869056...\n",
      "批次处理完成，耗时: 0.22秒\n",
      "处理供应商数据批次 540001-550000 / 2869056...\n",
      "批次处理完成，耗时: 0.22秒\n",
      "处理供应商数据批次 550001-560000 / 2869056...\n",
      "批次处理完成，耗时: 0.22秒\n",
      "处理供应商数据批次 560001-570000 / 2869056...\n",
      "批次处理完成，耗时: 0.20秒\n",
      "处理供应商数据批次 570001-580000 / 2869056...\n",
      "批次处理完成，耗时: 0.21秒\n",
      "处理供应商数据批次 580001-590000 / 2869056...\n",
      "批次处理完成，耗时: 0.21秒\n",
      "处理供应商数据批次 590001-600000 / 2869056...\n",
      "批次处理完成，耗时: 0.21秒\n",
      "处理供应商数据批次 600001-610000 / 2869056...\n",
      "批次处理完成，耗时: 0.20秒\n",
      "处理供应商数据批次 610001-620000 / 2869056...\n",
      "批次处理完成，耗时: 0.22秒\n",
      "处理供应商数据批次 620001-630000 / 2869056...\n",
      "批次处理完成，耗时: 0.21秒\n",
      "处理供应商数据批次 630001-640000 / 2869056...\n",
      "批次处理完成，耗时: 0.22秒\n",
      "处理供应商数据批次 640001-650000 / 2869056...\n",
      "批次处理完成，耗时: 0.21秒\n",
      "处理供应商数据批次 650001-660000 / 2869056...\n",
      "批次处理完成，耗时: 0.21秒\n",
      "处理供应商数据批次 660001-670000 / 2869056...\n",
      "批次处理完成，耗时: 0.21秒\n",
      "处理供应商数据批次 670001-680000 / 2869056...\n",
      "批次处理完成，耗时: 0.20秒\n",
      "处理供应商数据批次 680001-690000 / 2869056...\n",
      "批次处理完成，耗时: 0.20秒\n",
      "处理供应商数据批次 690001-700000 / 2869056...\n",
      "批次处理完成，耗时: 0.21秒\n",
      "处理供应商数据批次 700001-710000 / 2869056...\n",
      "批次处理完成，耗时: 0.22秒\n",
      "处理供应商数据批次 710001-720000 / 2869056...\n",
      "批次处理完成，耗时: 0.21秒\n",
      "处理供应商数据批次 720001-730000 / 2869056...\n",
      "批次处理完成，耗时: 0.21秒\n",
      "处理供应商数据批次 730001-740000 / 2869056...\n",
      "批次处理完成，耗时: 0.21秒\n",
      "处理供应商数据批次 740001-750000 / 2869056...\n",
      "批次处理完成，耗时: 0.20秒\n",
      "处理供应商数据批次 750001-760000 / 2869056...\n",
      "批次处理完成，耗时: 0.22秒\n",
      "处理供应商数据批次 760001-770000 / 2869056...\n",
      "批次处理完成，耗时: 0.21秒\n",
      "处理供应商数据批次 770001-780000 / 2869056...\n",
      "批次处理完成，耗时: 0.24秒\n",
      "处理供应商数据批次 780001-790000 / 2869056...\n",
      "批次处理完成，耗时: 0.21秒\n",
      "处理供应商数据批次 790001-800000 / 2869056...\n",
      "批次处理完成，耗时: 0.21秒\n",
      "处理供应商数据批次 800001-810000 / 2869056...\n",
      "批次处理完成，耗时: 0.22秒\n",
      "处理供应商数据批次 810001-820000 / 2869056...\n",
      "批次处理完成，耗时: 0.22秒\n",
      "处理供应商数据批次 820001-830000 / 2869056...\n",
      "批次处理完成，耗时: 0.22秒\n",
      "处理供应商数据批次 830001-840000 / 2869056...\n",
      "批次处理完成，耗时: 0.22秒\n",
      "处理供应商数据批次 840001-850000 / 2869056...\n",
      "批次处理完成，耗时: 0.22秒\n",
      "处理供应商数据批次 850001-860000 / 2869056...\n",
      "批次处理完成，耗时: 0.21秒\n",
      "处理供应商数据批次 860001-870000 / 2869056...\n",
      "批次处理完成，耗时: 0.22秒\n",
      "处理供应商数据批次 870001-880000 / 2869056...\n",
      "批次处理完成，耗时: 0.20秒\n",
      "处理供应商数据批次 880001-890000 / 2869056...\n",
      "批次处理完成，耗时: 0.21秒\n",
      "处理供应商数据批次 890001-900000 / 2869056...\n",
      "批次处理完成，耗时: 0.20秒\n",
      "处理供应商数据批次 900001-910000 / 2869056...\n",
      "批次处理完成，耗时: 0.18秒\n",
      "处理供应商数据批次 910001-920000 / 2869056...\n",
      "批次处理完成，耗时: 0.19秒\n",
      "处理供应商数据批次 920001-930000 / 2869056...\n",
      "批次处理完成，耗时: 0.18秒\n",
      "处理供应商数据批次 930001-940000 / 2869056...\n",
      "批次处理完成，耗时: 0.19秒\n",
      "处理供应商数据批次 940001-950000 / 2869056...\n",
      "批次处理完成，耗时: 0.18秒\n",
      "处理供应商数据批次 950001-960000 / 2869056...\n",
      "批次处理完成，耗时: 0.18秒\n",
      "处理供应商数据批次 960001-970000 / 2869056...\n",
      "批次处理完成，耗时: 0.18秒\n",
      "处理供应商数据批次 970001-980000 / 2869056...\n",
      "批次处理完成，耗时: 0.19秒\n",
      "处理供应商数据批次 980001-990000 / 2869056...\n",
      "批次处理完成，耗时: 0.18秒\n",
      "处理供应商数据批次 990001-1000000 / 2869056...\n",
      "批次处理完成，耗时: 0.18秒\n",
      "处理供应商数据批次 1000001-1010000 / 2869056...\n",
      "批次处理完成，耗时: 0.18秒\n",
      "处理供应商数据批次 1010001-1020000 / 2869056...\n",
      "批次处理完成，耗时: 0.19秒\n",
      "处理供应商数据批次 1020001-1030000 / 2869056...\n",
      "批次处理完成，耗时: 0.18秒\n",
      "处理供应商数据批次 1030001-1040000 / 2869056...\n",
      "批次处理完成，耗时: 0.19秒\n",
      "处理供应商数据批次 1040001-1050000 / 2869056...\n",
      "批次处理完成，耗时: 0.19秒\n",
      "处理供应商数据批次 1050001-1060000 / 2869056...\n",
      "批次处理完成，耗时: 0.18秒\n",
      "处理供应商数据批次 1060001-1070000 / 2869056...\n",
      "批次处理完成，耗时: 0.19秒\n",
      "处理供应商数据批次 1070001-1080000 / 2869056...\n",
      "批次处理完成，耗时: 0.19秒\n",
      "处理供应商数据批次 1080001-1090000 / 2869056...\n",
      "批次处理完成，耗时: 0.19秒\n",
      "处理供应商数据批次 1090001-1100000 / 2869056...\n",
      "批次处理完成，耗时: 0.19秒\n",
      "处理供应商数据批次 1100001-1110000 / 2869056...\n",
      "批次处理完成，耗时: 0.19秒\n",
      "处理供应商数据批次 1110001-1120000 / 2869056...\n",
      "批次处理完成，耗时: 0.19秒\n",
      "处理供应商数据批次 1120001-1130000 / 2869056...\n",
      "批次处理完成，耗时: 0.19秒\n",
      "处理供应商数据批次 1130001-1140000 / 2869056...\n",
      "批次处理完成，耗时: 0.19秒\n",
      "处理供应商数据批次 1140001-1150000 / 2869056...\n",
      "批次处理完成，耗时: 0.20秒\n",
      "处理供应商数据批次 1150001-1160000 / 2869056...\n",
      "批次处理完成，耗时: 0.20秒\n",
      "处理供应商数据批次 1160001-1170000 / 2869056...\n",
      "批次处理完成，耗时: 0.20秒\n",
      "处理供应商数据批次 1170001-1180000 / 2869056...\n",
      "批次处理完成，耗时: 0.21秒\n",
      "处理供应商数据批次 1180001-1190000 / 2869056...\n",
      "批次处理完成，耗时: 0.18秒\n",
      "处理供应商数据批次 1190001-1200000 / 2869056...\n",
      "批次处理完成，耗时: 0.21秒\n",
      "处理供应商数据批次 1200001-1210000 / 2869056...\n",
      "批次处理完成，耗时: 0.21秒\n",
      "处理供应商数据批次 1210001-1220000 / 2869056...\n",
      "批次处理完成，耗时: 0.20秒\n",
      "处理供应商数据批次 1220001-1230000 / 2869056...\n",
      "批次处理完成，耗时: 0.20秒\n",
      "处理供应商数据批次 1230001-1240000 / 2869056...\n",
      "批次处理完成，耗时: 0.20秒\n",
      "处理供应商数据批次 1240001-1250000 / 2869056...\n",
      "批次处理完成，耗时: 0.20秒\n",
      "处理供应商数据批次 1250001-1260000 / 2869056...\n",
      "批次处理完成，耗时: 0.21秒\n",
      "处理供应商数据批次 1260001-1270000 / 2869056...\n",
      "批次处理完成，耗时: 0.21秒\n",
      "处理供应商数据批次 1270001-1280000 / 2869056...\n",
      "批次处理完成，耗时: 0.22秒\n",
      "处理供应商数据批次 1280001-1290000 / 2869056...\n",
      "批次处理完成，耗时: 0.22秒\n",
      "处理供应商数据批次 1290001-1300000 / 2869056...\n",
      "批次处理完成，耗时: 0.21秒\n",
      "处理供应商数据批次 1300001-1310000 / 2869056...\n",
      "批次处理完成，耗时: 0.19秒\n",
      "处理供应商数据批次 1310001-1320000 / 2869056...\n",
      "批次处理完成，耗时: 0.20秒\n",
      "处理供应商数据批次 1320001-1330000 / 2869056...\n",
      "批次处理完成，耗时: 0.20秒\n",
      "处理供应商数据批次 1330001-1340000 / 2869056...\n",
      "批次处理完成，耗时: 0.21秒\n",
      "处理供应商数据批次 1340001-1350000 / 2869056...\n",
      "批次处理完成，耗时: 0.21秒\n",
      "处理供应商数据批次 1350001-1360000 / 2869056...\n",
      "批次处理完成，耗时: 0.20秒\n",
      "处理供应商数据批次 1360001-1370000 / 2869056...\n",
      "批次处理完成，耗时: 0.21秒\n",
      "处理供应商数据批次 1370001-1380000 / 2869056...\n",
      "批次处理完成，耗时: 0.20秒\n",
      "处理供应商数据批次 1380001-1390000 / 2869056...\n",
      "批次处理完成，耗时: 0.21秒\n",
      "处理供应商数据批次 1390001-1400000 / 2869056...\n",
      "批次处理完成，耗时: 0.21秒\n",
      "处理供应商数据批次 1400001-1410000 / 2869056...\n",
      "批次处理完成，耗时: 0.22秒\n",
      "处理供应商数据批次 1410001-1420000 / 2869056...\n",
      "批次处理完成，耗时: 0.21秒\n",
      "处理供应商数据批次 1420001-1430000 / 2869056...\n",
      "批次处理完成，耗时: 0.21秒\n",
      "处理供应商数据批次 1430001-1440000 / 2869056...\n",
      "批次处理完成，耗时: 0.22秒\n",
      "处理供应商数据批次 1440001-1450000 / 2869056...\n",
      "批次处理完成，耗时: 0.21秒\n",
      "处理供应商数据批次 1450001-1460000 / 2869056...\n",
      "批次处理完成，耗时: 0.22秒\n",
      "处理供应商数据批次 1460001-1470000 / 2869056...\n",
      "批次处理完成，耗时: 0.18秒\n",
      "处理供应商数据批次 1470001-1480000 / 2869056...\n",
      "批次处理完成，耗时: 0.21秒\n",
      "处理供应商数据批次 1480001-1490000 / 2869056...\n",
      "批次处理完成，耗时: 0.21秒\n",
      "处理供应商数据批次 1490001-1500000 / 2869056...\n",
      "批次处理完成，耗时: 0.21秒\n",
      "处理供应商数据批次 1500001-1510000 / 2869056...\n",
      "批次处理完成，耗时: 0.22秒\n",
      "处理供应商数据批次 1510001-1520000 / 2869056...\n",
      "批次处理完成，耗时: 0.21秒\n",
      "处理供应商数据批次 1520001-1530000 / 2869056...\n",
      "批次处理完成，耗时: 0.22秒\n",
      "处理供应商数据批次 1530001-1540000 / 2869056...\n",
      "批次处理完成，耗时: 0.22秒\n",
      "处理供应商数据批次 1540001-1550000 / 2869056...\n",
      "批次处理完成，耗时: 0.21秒\n",
      "处理供应商数据批次 1550001-1560000 / 2869056...\n",
      "批次处理完成，耗时: 0.22秒\n",
      "处理供应商数据批次 1560001-1570000 / 2869056...\n",
      "批次处理完成，耗时: 0.20秒\n",
      "处理供应商数据批次 1570001-1580000 / 2869056...\n",
      "批次处理完成，耗时: 0.20秒\n",
      "处理供应商数据批次 1580001-1590000 / 2869056...\n",
      "批次处理完成，耗时: 0.21秒\n",
      "处理供应商数据批次 1590001-1600000 / 2869056...\n",
      "批次处理完成，耗时: 0.22秒\n",
      "处理供应商数据批次 1600001-1610000 / 2869056...\n",
      "批次处理完成，耗时: 0.22秒\n",
      "处理供应商数据批次 1610001-1620000 / 2869056...\n",
      "批次处理完成，耗时: 0.22秒\n",
      "处理供应商数据批次 1620001-1630000 / 2869056...\n",
      "批次处理完成，耗时: 0.21秒\n",
      "处理供应商数据批次 1630001-1640000 / 2869056...\n",
      "批次处理完成，耗时: 0.22秒\n",
      "处理供应商数据批次 1640001-1650000 / 2869056...\n",
      "批次处理完成，耗时: 0.20秒\n",
      "处理供应商数据批次 1650001-1660000 / 2869056...\n",
      "批次处理完成，耗时: 0.21秒\n",
      "处理供应商数据批次 1660001-1670000 / 2869056...\n",
      "批次处理完成，耗时: 0.21秒\n",
      "处理供应商数据批次 1670001-1680000 / 2869056...\n",
      "批次处理完成，耗时: 0.21秒\n",
      "处理供应商数据批次 1680001-1690000 / 2869056...\n",
      "批次处理完成，耗时: 0.22秒\n",
      "处理供应商数据批次 1690001-1700000 / 2869056...\n",
      "批次处理完成，耗时: 0.19秒\n",
      "处理供应商数据批次 1700001-1710000 / 2869056...\n",
      "批次处理完成，耗时: 0.21秒\n",
      "处理供应商数据批次 1710001-1720000 / 2869056...\n",
      "批次处理完成，耗时: 0.21秒\n",
      "处理供应商数据批次 1720001-1730000 / 2869056...\n",
      "批次处理完成，耗时: 0.22秒\n",
      "处理供应商数据批次 1730001-1740000 / 2869056...\n",
      "批次处理完成，耗时: 0.21秒\n",
      "处理供应商数据批次 1740001-1750000 / 2869056...\n",
      "批次处理完成，耗时: 0.20秒\n",
      "处理供应商数据批次 1750001-1760000 / 2869056...\n",
      "批次处理完成，耗时: 0.21秒\n",
      "处理供应商数据批次 1760001-1770000 / 2869056...\n",
      "批次处理完成，耗时: 0.20秒\n",
      "处理供应商数据批次 1770001-1780000 / 2869056...\n",
      "批次处理完成，耗时: 0.22秒\n",
      "处理供应商数据批次 1780001-1790000 / 2869056...\n",
      "批次处理完成，耗时: 0.20秒\n",
      "处理供应商数据批次 1790001-1800000 / 2869056...\n",
      "批次处理完成，耗时: 0.21秒\n",
      "处理供应商数据批次 1800001-1810000 / 2869056...\n",
      "批次处理完成，耗时: 0.21秒\n",
      "处理供应商数据批次 1810001-1820000 / 2869056...\n",
      "批次处理完成，耗时: 0.22秒\n",
      "处理供应商数据批次 1820001-1830000 / 2869056...\n",
      "批次处理完成，耗时: 0.22秒\n",
      "处理供应商数据批次 1830001-1840000 / 2869056...\n",
      "批次处理完成，耗时: 0.22秒\n",
      "处理供应商数据批次 1840001-1850000 / 2869056...\n",
      "批次处理完成，耗时: 0.21秒\n",
      "处理供应商数据批次 1850001-1860000 / 2869056...\n",
      "批次处理完成，耗时: 0.22秒\n",
      "处理供应商数据批次 1860001-1870000 / 2869056...\n",
      "批次处理完成，耗时: 0.22秒\n",
      "处理供应商数据批次 1870001-1880000 / 2869056...\n",
      "批次处理完成，耗时: 0.21秒\n",
      "处理供应商数据批次 1880001-1890000 / 2869056...\n",
      "批次处理完成，耗时: 0.21秒\n",
      "处理供应商数据批次 1890001-1900000 / 2869056...\n",
      "批次处理完成，耗时: 0.22秒\n",
      "处理供应商数据批次 1900001-1910000 / 2869056...\n",
      "批次处理完成，耗时: 0.22秒\n",
      "处理供应商数据批次 1910001-1920000 / 2869056...\n",
      "批次处理完成，耗时: 0.22秒\n",
      "处理供应商数据批次 1920001-1930000 / 2869056...\n",
      "批次处理完成，耗时: 0.22秒\n",
      "处理供应商数据批次 1930001-1940000 / 2869056...\n",
      "批次处理完成，耗时: 0.22秒\n",
      "处理供应商数据批次 1940001-1950000 / 2869056...\n",
      "批次处理完成，耗时: 0.22秒\n",
      "处理供应商数据批次 1950001-1960000 / 2869056...\n",
      "批次处理完成，耗时: 0.20秒\n",
      "处理供应商数据批次 1960001-1970000 / 2869056...\n",
      "批次处理完成，耗时: 0.22秒\n",
      "处理供应商数据批次 1970001-1980000 / 2869056...\n",
      "批次处理完成，耗时: 0.20秒\n",
      "处理供应商数据批次 1980001-1990000 / 2869056...\n",
      "批次处理完成，耗时: 0.22秒\n",
      "处理供应商数据批次 1990001-2000000 / 2869056...\n",
      "批次处理完成，耗时: 0.22秒\n",
      "处理供应商数据批次 2000001-2010000 / 2869056...\n",
      "批次处理完成，耗时: 0.22秒\n",
      "处理供应商数据批次 2010001-2020000 / 2869056...\n",
      "批次处理完成，耗时: 0.22秒\n",
      "处理供应商数据批次 2020001-2030000 / 2869056...\n",
      "批次处理完成，耗时: 0.21秒\n",
      "处理供应商数据批次 2030001-2040000 / 2869056...\n",
      "批次处理完成，耗时: 0.22秒\n",
      "处理供应商数据批次 2040001-2050000 / 2869056...\n",
      "批次处理完成，耗时: 0.21秒\n",
      "处理供应商数据批次 2050001-2060000 / 2869056...\n",
      "批次处理完成，耗时: 0.24秒\n",
      "处理供应商数据批次 2060001-2070000 / 2869056...\n",
      "批次处理完成，耗时: 0.21秒\n",
      "处理供应商数据批次 2070001-2080000 / 2869056...\n",
      "批次处理完成，耗时: 0.21秒\n",
      "处理供应商数据批次 2080001-2090000 / 2869056...\n",
      "批次处理完成，耗时: 0.21秒\n",
      "处理供应商数据批次 2090001-2100000 / 2869056...\n",
      "批次处理完成，耗时: 0.21秒\n",
      "处理供应商数据批次 2100001-2110000 / 2869056...\n",
      "批次处理完成，耗时: 0.21秒\n",
      "处理供应商数据批次 2110001-2120000 / 2869056...\n",
      "批次处理完成，耗时: 0.19秒\n",
      "处理供应商数据批次 2120001-2130000 / 2869056...\n",
      "批次处理完成，耗时: 0.22秒\n",
      "处理供应商数据批次 2130001-2140000 / 2869056...\n",
      "批次处理完成，耗时: 0.22秒\n",
      "处理供应商数据批次 2140001-2150000 / 2869056...\n",
      "批次处理完成，耗时: 0.22秒\n",
      "处理供应商数据批次 2150001-2160000 / 2869056...\n",
      "批次处理完成，耗时: 0.22秒\n",
      "处理供应商数据批次 2160001-2170000 / 2869056...\n",
      "批次处理完成，耗时: 0.22秒\n",
      "处理供应商数据批次 2170001-2180000 / 2869056...\n",
      "批次处理完成，耗时: 0.22秒\n",
      "处理供应商数据批次 2180001-2190000 / 2869056...\n",
      "批次处理完成，耗时: 0.22秒\n",
      "处理供应商数据批次 2190001-2200000 / 2869056...\n",
      "批次处理完成，耗时: 0.22秒\n",
      "处理供应商数据批次 2200001-2210000 / 2869056...\n",
      "批次处理完成，耗时: 0.21秒\n",
      "处理供应商数据批次 2210001-2220000 / 2869056...\n",
      "批次处理完成，耗时: 0.23秒\n",
      "处理供应商数据批次 2220001-2230000 / 2869056...\n",
      "批次处理完成，耗时: 0.21秒\n",
      "处理供应商数据批次 2230001-2240000 / 2869056...\n",
      "批次处理完成，耗时: 0.21秒\n",
      "处理供应商数据批次 2240001-2250000 / 2869056...\n",
      "批次处理完成，耗时: 0.22秒\n",
      "处理供应商数据批次 2250001-2260000 / 2869056...\n",
      "批次处理完成，耗时: 0.20秒\n",
      "处理供应商数据批次 2260001-2270000 / 2869056...\n",
      "批次处理完成，耗时: 0.20秒\n",
      "处理供应商数据批次 2270001-2280000 / 2869056...\n",
      "批次处理完成，耗时: 0.22秒\n",
      "处理供应商数据批次 2280001-2290000 / 2869056...\n",
      "批次处理完成，耗时: 0.22秒\n",
      "处理供应商数据批次 2290001-2300000 / 2869056...\n",
      "批次处理完成，耗时: 0.22秒\n",
      "处理供应商数据批次 2300001-2310000 / 2869056...\n",
      "批次处理完成，耗时: 0.22秒\n",
      "处理供应商数据批次 2310001-2320000 / 2869056...\n",
      "批次处理完成，耗时: 0.21秒\n",
      "处理供应商数据批次 2320001-2330000 / 2869056...\n",
      "批次处理完成，耗时: 0.22秒\n",
      "处理供应商数据批次 2330001-2340000 / 2869056...\n",
      "批次处理完成，耗时: 0.22秒\n",
      "处理供应商数据批次 2340001-2350000 / 2869056...\n",
      "批次处理完成，耗时: 0.18秒\n",
      "处理供应商数据批次 2350001-2360000 / 2869056...\n",
      "批次处理完成，耗时: 0.21秒\n",
      "处理供应商数据批次 2360001-2370000 / 2869056...\n",
      "批次处理完成，耗时: 0.22秒\n",
      "处理供应商数据批次 2370001-2380000 / 2869056...\n",
      "批次处理完成，耗时: 0.21秒\n",
      "处理供应商数据批次 2380001-2390000 / 2869056...\n",
      "批次处理完成，耗时: 0.20秒\n",
      "处理供应商数据批次 2390001-2400000 / 2869056...\n",
      "批次处理完成，耗时: 0.22秒\n",
      "处理供应商数据批次 2400001-2410000 / 2869056...\n",
      "批次处理完成，耗时: 0.19秒\n",
      "处理供应商数据批次 2410001-2420000 / 2869056...\n",
      "批次处理完成，耗时: 0.21秒\n",
      "处理供应商数据批次 2420001-2430000 / 2869056...\n",
      "批次处理完成，耗时: 0.22秒\n",
      "处理供应商数据批次 2430001-2440000 / 2869056...\n",
      "批次处理完成，耗时: 0.22秒\n",
      "处理供应商数据批次 2440001-2450000 / 2869056...\n",
      "批次处理完成，耗时: 0.21秒\n",
      "处理供应商数据批次 2450001-2460000 / 2869056...\n",
      "批次处理完成，耗时: 0.22秒\n",
      "处理供应商数据批次 2460001-2470000 / 2869056...\n",
      "批次处理完成，耗时: 0.22秒\n",
      "处理供应商数据批次 2470001-2480000 / 2869056...\n",
      "批次处理完成，耗时: 0.22秒\n",
      "处理供应商数据批次 2480001-2490000 / 2869056...\n",
      "批次处理完成，耗时: 0.19秒\n",
      "处理供应商数据批次 2490001-2500000 / 2869056...\n",
      "批次处理完成，耗时: 0.20秒\n",
      "处理供应商数据批次 2500001-2510000 / 2869056...\n",
      "批次处理完成，耗时: 0.20秒\n",
      "处理供应商数据批次 2510001-2520000 / 2869056...\n",
      "批次处理完成，耗时: 0.20秒\n",
      "处理供应商数据批次 2520001-2530000 / 2869056...\n",
      "批次处理完成，耗时: 0.21秒\n",
      "处理供应商数据批次 2530001-2540000 / 2869056...\n",
      "批次处理完成，耗时: 0.22秒\n",
      "处理供应商数据批次 2540001-2550000 / 2869056...\n",
      "批次处理完成，耗时: 0.22秒\n",
      "处理供应商数据批次 2550001-2560000 / 2869056...\n",
      "批次处理完成，耗时: 0.22秒\n",
      "处理供应商数据批次 2560001-2570000 / 2869056...\n",
      "批次处理完成，耗时: 0.22秒\n",
      "处理供应商数据批次 2570001-2580000 / 2869056...\n",
      "批次处理完成，耗时: 0.21秒\n",
      "处理供应商数据批次 2580001-2590000 / 2869056...\n",
      "批次处理完成，耗时: 0.21秒\n",
      "处理供应商数据批次 2590001-2600000 / 2869056...\n",
      "批次处理完成，耗时: 0.22秒\n",
      "处理供应商数据批次 2600001-2610000 / 2869056...\n",
      "批次处理完成，耗时: 0.20秒\n",
      "处理供应商数据批次 2610001-2620000 / 2869056...\n",
      "批次处理完成，耗时: 0.22秒\n",
      "处理供应商数据批次 2620001-2630000 / 2869056...\n",
      "批次处理完成，耗时: 0.21秒\n",
      "处理供应商数据批次 2630001-2640000 / 2869056...\n",
      "批次处理完成，耗时: 0.22秒\n",
      "处理供应商数据批次 2640001-2650000 / 2869056...\n",
      "批次处理完成，耗时: 0.20秒\n",
      "处理供应商数据批次 2650001-2660000 / 2869056...\n",
      "批次处理完成，耗时: 0.22秒\n",
      "处理供应商数据批次 2660001-2670000 / 2869056...\n",
      "批次处理完成，耗时: 0.21秒\n",
      "处理供应商数据批次 2670001-2680000 / 2869056...\n",
      "批次处理完成，耗时: 0.22秒\n",
      "处理供应商数据批次 2680001-2690000 / 2869056...\n",
      "批次处理完成，耗时: 0.22秒\n",
      "处理供应商数据批次 2690001-2700000 / 2869056...\n",
      "批次处理完成，耗时: 0.21秒\n",
      "处理供应商数据批次 2700001-2710000 / 2869056...\n",
      "批次处理完成，耗时: 0.21秒\n",
      "处理供应商数据批次 2710001-2720000 / 2869056...\n",
      "批次处理完成，耗时: 0.21秒\n",
      "处理供应商数据批次 2720001-2730000 / 2869056...\n",
      "批次处理完成，耗时: 0.21秒\n",
      "处理供应商数据批次 2730001-2740000 / 2869056...\n",
      "批次处理完成，耗时: 0.19秒\n",
      "处理供应商数据批次 2740001-2750000 / 2869056...\n",
      "批次处理完成，耗时: 0.22秒\n",
      "处理供应商数据批次 2750001-2760000 / 2869056...\n",
      "批次处理完成，耗时: 0.22秒\n",
      "处理供应商数据批次 2760001-2770000 / 2869056...\n",
      "批次处理完成，耗时: 0.22秒\n",
      "处理供应商数据批次 2770001-2780000 / 2869056...\n",
      "批次处理完成，耗时: 0.22秒\n",
      "处理供应商数据批次 2780001-2790000 / 2869056...\n",
      "批次处理完成，耗时: 0.20秒\n",
      "处理供应商数据批次 2790001-2800000 / 2869056...\n",
      "批次处理完成，耗时: 0.20秒\n",
      "处理供应商数据批次 2800001-2810000 / 2869056...\n",
      "批次处理完成，耗时: 0.22秒\n",
      "处理供应商数据批次 2810001-2820000 / 2869056...\n",
      "批次处理完成，耗时: 0.20秒\n",
      "处理供应商数据批次 2820001-2830000 / 2869056...\n",
      "批次处理完成，耗时: 0.22秒\n",
      "处理供应商数据批次 2830001-2840000 / 2869056...\n",
      "批次处理完成，耗时: 0.22秒\n",
      "处理供应商数据批次 2840001-2850000 / 2869056...\n",
      "批次处理完成，耗时: 0.22秒\n",
      "处理供应商数据批次 2850001-2860000 / 2869056...\n",
      "批次处理完成，耗时: 0.21秒\n",
      "处理供应商数据批次 2860001-2869056 / 2869056...\n",
      "批次处理完成，耗时: 0.17秒\n",
      "\n",
      "未找到任何完全 ID 匹配\n",
      "\n",
      "总处理时间: 65.22秒\n"
     ]
    }
   ],
   "source": [
    "import pandas as pd\n",
    "import time\n",
    "\n",
    "def find_exact_id_matches(reference_data, supplier_data):\n",
    "    \"\"\"\n",
    "    查找两个数据集中所有 ID 都完全匹配的房间\n",
    "    \n",
    "    要求:\n",
    "    - reference_lp_id = supplier_lp_id\n",
    "    - reference_room_id = supplier_room_id\n",
    "    - reference_hotel_id = supplier_core_hotel_id\n",
    "    \n",
    "    参数:\n",
    "    - reference_data: 参考数据 DataFrame\n",
    "    - supplier_data: 供应商数据 DataFrame\n",
    "    \n",
    "    返回:\n",
    "    - exact_matches: 包含完全匹配房间信息的 DataFrame\n",
    "    \"\"\"\n",
    "    start_time = time.time()\n",
    "    print(\"=== 查找完全 ID 匹配的房间 ===\\n\")\n",
    "    \n",
    "    # 确保所有必要的列都存在\n",
    "    required_ref_cols = ['lp_id', 'room_id', 'hotel_id', 'room_name']\n",
    "    required_sup_cols = ['lp_id', 'supplier_room_id', 'core_hotel_id', 'supplier_room_name']\n",
    "    \n",
    "    for col in required_ref_cols:\n",
    "        if col not in reference_data.columns:\n",
    "            print(f\"错误: 参考数据中缺少必要的列 '{col}'\")\n",
    "            return pd.DataFrame()\n",
    "    \n",
    "    for col in required_sup_cols:\n",
    "        if col not in supplier_data.columns:\n",
    "            print(f\"错误: 供应商数据中缺少必要的列 '{col}'\")\n",
    "            return pd.DataFrame()\n",
    "    \n",
    "    # 将 ID 转换为字符串以确保类型一致\n",
    "    print(\"准备数据...\")\n",
    "    \n",
    "    reference_data = reference_data.copy()\n",
    "    supplier_data = supplier_data.copy()\n",
    "    \n",
    "    reference_data['lp_id_str'] = reference_data['lp_id'].astype(str)\n",
    "    reference_data['room_id_str'] = reference_data['room_id'].astype(str)\n",
    "    reference_data['hotel_id_str'] = reference_data['hotel_id'].astype(str)\n",
    "    \n",
    "    supplier_data['lp_id_str'] = supplier_data['lp_id'].astype(str)\n",
    "    supplier_data['supplier_room_id_str'] = supplier_data['supplier_room_id'].astype(str)\n",
    "    supplier_data['core_hotel_id_str'] = supplier_data['core_hotel_id'].astype(str)\n",
    "    \n",
    "    # 创建索引以加速查找\n",
    "    print(\"创建索引...\")\n",
    "    \n",
    "    # 创建复合键索引 (lp_id, room_id, hotel_id) -> row\n",
    "    ref_index = {}\n",
    "    for _, row in reference_data.iterrows():\n",
    "        key = (row['lp_id_str'], row['room_id_str'], row['hotel_id_str'])\n",
    "        if key not in ref_index:\n",
    "            ref_index[key] = []\n",
    "        ref_index[key].append(row)\n",
    "    \n",
    "    # 查找完全匹配\n",
    "    print(\"查找完全匹配...\")\n",
    "    exact_matches = []\n",
    "    \n",
    "    # 分批处理供应商数据\n",
    "    batch_size = 10000\n",
    "    total_suppliers = len(supplier_data)\n",
    "    \n",
    "    for batch_start in range(0, total_suppliers, batch_size):\n",
    "        batch_end = min(batch_start + batch_size, total_suppliers)\n",
    "        supplier_batch = supplier_data.iloc[batch_start:batch_end]\n",
    "        \n",
    "        print(f\"处理供应商数据批次 {batch_start+1}-{batch_end} / {total_suppliers}...\")\n",
    "        batch_time = time.time()\n",
    "        \n",
    "        for _, sup_row in supplier_batch.iterrows():\n",
    "            # 创建与参考数据相同格式的键\n",
    "            key = (sup_row['lp_id_str'], sup_row['supplier_room_id_str'], sup_row['core_hotel_id_str'])\n",
    "            \n",
    "            # 查找完全匹配\n",
    "            if key in ref_index:\n",
    "                for ref_row in ref_index[key]:\n",
    "                    exact_matches.append({\n",
    "                        'reference_lp_id': ref_row['lp_id'],\n",
    "                        'supplier_lp_id': sup_row['lp_id'],\n",
    "                        'reference_room_id': ref_row['room_id'],\n",
    "                        'supplier_room_id': sup_row['supplier_room_id'],\n",
    "                        'reference_hotel_id': ref_row['hotel_id'],\n",
    "                        'supplier_core_hotel_id': sup_row['core_hotel_id'],\n",
    "                        'reference_room_name': ref_row['room_name'],\n",
    "                        'supplier_room_name': sup_row['supplier_room_name']\n",
    "                    })\n",
    "        \n",
    "        print(f\"批次处理完成，耗时: {time.time() - batch_time:.2f}秒\")\n",
    "    \n",
    "    # 创建结果 DataFrame\n",
    "    if exact_matches:\n",
    "        exact_matches_df = pd.DataFrame(exact_matches)\n",
    "        \n",
    "        # 打印结果摘要\n",
    "        print(f\"\\n找到 {len(exact_matches_df)} 个完全 ID 匹配\")\n",
    "        \n",
    "        # 显示匹配的房间名称示例\n",
    "        print(\"\\n=== 完全匹配的房间名称示例 ===\")\n",
    "        sample_size = min(10, len(exact_matches_df))\n",
    "        for _, row in exact_matches_df.head(sample_size).iterrows():\n",
    "            print(f\"参考房间: {row['reference_room_name']} | 供应商房间: {row['supplier_room_name']}\")\n",
    "            print(f\"  lp_id: {row['reference_lp_id']} = {row['supplier_lp_id']}\")\n",
    "            print(f\"  room_id: {row['reference_room_id']} = {row['supplier_room_id']}\")\n",
    "            print(f\"  hotel_id: {row['reference_hotel_id']} = {row['supplier_core_hotel_id']}\")\n",
    "            print(\"---\")\n",
    "        \n",
    "        if len(exact_matches_df) > sample_size:\n",
    "            print(f\"... 还有 {len(exact_matches_df) - sample_size} 个匹配 ...\")\n",
    "        \n",
    "        print(f\"\\n总处理时间: {time.time() - start_time:.2f}秒\")\n",
    "        return exact_matches_df\n",
    "    else:\n",
    "        print(\"\\n未找到任何完全 ID 匹配\")\n",
    "        print(f\"\\n总处理时间: {time.time() - start_time:.2f}秒\")\n",
    "        return pd.DataFrame()\n",
    "\n",
    "\n",
    "# 加载数据\n",
    "\n",
    "\n",
    "# 查找完全匹配\n",
    "exact_matches = find_exact_id_matches(ref, upc)\n",
    "\n",
    "# 保存结果\n",
    "if not exact_matches.empty:\n",
    "    save_time = time.time()\n",
    "    exact_matches.to_csv(\"exact_id_matches.csv\", index=False)\n",
    "    print(f\"\\n结果已保存到 exact_id_matches.csv，耗时: {time.time() - save_time:.2f}秒\")"
   ]
  },
  {
   "cell_type": "code",
   "execution_count": 4,
   "metadata": {},
   "outputs": [
    {
     "name": "stderr",
     "output_type": "stream",
     "text": [
      "/Users/xinzhang/.pyenv/versions/realtime_interview_copilot/lib/python3.9/site-packages/fuzzywuzzy/fuzz.py:11: UserWarning: Using slow pure-python SequenceMatcher. Install python-Levenshtein to remove this warning\n",
      "  warnings.warn('Using slow pure-python SequenceMatcher. Install python-Levenshtein to remove this warning')\n"
     ]
    }
   ],
   "source": [
    "from memory_optimized_matcher import MemoryOptimizedRoomMatcher"
   ]
  },
  {
   "cell_type": "code",
   "execution_count": 5,
   "metadata": {},
   "outputs": [
    {
     "data": {
      "text/plain": [
       "2869056"
      ]
     },
     "execution_count": 5,
     "metadata": {},
     "output_type": "execute_result"
    }
   ],
   "source": [
    "len(upc)"
   ]
  },
  {
   "cell_type": "code",
   "execution_count": 6,
   "metadata": {},
   "outputs": [
    {
     "name": "stdout",
     "output_type": "stream",
     "text": [
      "Training model...\n",
      "Training room matching model...\n",
      "Generating match labels...\n",
      "Generating match labels with batched processing...\n"
     ]
    },
    {
     "name": "stderr",
     "output_type": "stream",
     "text": [
      "/Users/xinzhang/.pyenv/versions/realtime_interview_copilot/lib/python3.9/site-packages/urllib3/__init__.py:35: NotOpenSSLWarning: urllib3 v2 only supports OpenSSL 1.1.1+, currently the 'ssl' module is compiled with 'LibreSSL 2.8.3'. See: https://github.com/urllib3/urllib3/issues/3020\n",
      "  warnings.warn(\n",
      "/Users/xinzhang/.pyenv/versions/realtime_interview_copilot/lib/python3.9/site-packages/tqdm/auto.py:21: TqdmWarning: IProgress not found. Please update jupyter and ipywidgets. See https://ipywidgets.readthedocs.io/en/stable/user_install.html\n",
      "  from .autonotebook import tqdm as notebook_tqdm\n"
     ]
    },
    {
     "name": "stdout",
     "output_type": "stream",
     "text": [
      "Loading sentence transformer model: all-MiniLM-L6-v2\n",
      "Generating reference embeddings with Sentence Transformer...\n"
     ]
    },
    {
     "name": "stderr",
     "output_type": "stream",
     "text": [
      "Batches: 100%|██████████| 3125/3125 [00:50<00:00, 61.67it/s]\n"
     ]
    },
    {
     "name": "stdout",
     "output_type": "stream",
     "text": [
      "Processing supplier data in 5 batches of size 2000...\n"
     ]
    },
    {
     "name": "stderr",
     "output_type": "stream",
     "text": [
      "Batches:   0%|          | 0/5 [09:14<?, ?it/s]\n"
     ]
    },
    {
     "ename": "KeyboardInterrupt",
     "evalue": "",
     "output_type": "error",
     "traceback": [
      "\u001b[0;31m---------------------------------------------------------------------------\u001b[0m",
      "\u001b[0;31mKeyboardInterrupt\u001b[0m                         Traceback (most recent call last)",
      "Cell \u001b[0;32mIn[6], line 10\u001b[0m\n\u001b[1;32m      8\u001b[0m \u001b[38;5;28mprint\u001b[39m(\u001b[38;5;124m\"\u001b[39m\u001b[38;5;124mTraining model...\u001b[39m\u001b[38;5;124m\"\u001b[39m)\n\u001b[1;32m      9\u001b[0m upc_s \u001b[38;5;241m=\u001b[39m upc\u001b[38;5;241m.\u001b[39mhead(\u001b[38;5;241m10000\u001b[39m)\n\u001b[0;32m---> 10\u001b[0m metrics \u001b[38;5;241m=\u001b[39m \u001b[43mmatcher\u001b[49m\u001b[38;5;241;43m.\u001b[39;49m\u001b[43mtrain_model\u001b[49m\u001b[43m(\u001b[49m\u001b[43mref\u001b[49m\u001b[43m,\u001b[49m\u001b[43m \u001b[49m\u001b[43mupc_s\u001b[49m\u001b[43m)\u001b[49m\n\u001b[1;32m     11\u001b[0m \u001b[38;5;28mprint\u001b[39m(\u001b[38;5;124mf\u001b[39m\u001b[38;5;124m\"\u001b[39m\u001b[38;5;124mTraining complete. Metrics: \u001b[39m\u001b[38;5;132;01m{\u001b[39;00mmetrics\u001b[38;5;132;01m}\u001b[39;00m\u001b[38;5;124m\"\u001b[39m)\n",
      "File \u001b[0;32m~/Codes/nuitee/memory_optimized_matcher.py:451\u001b[0m, in \u001b[0;36mMemoryOptimizedRoomMatcher.train_model\u001b[0;34m(self, reference_data, supplier_data, match_labels)\u001b[0m\n\u001b[1;32m    449\u001b[0m \u001b[38;5;28;01mif\u001b[39;00m match_labels \u001b[38;5;129;01mis\u001b[39;00m \u001b[38;5;28;01mNone\u001b[39;00m:\n\u001b[1;32m    450\u001b[0m     \u001b[38;5;28mprint\u001b[39m(\u001b[38;5;124m\"\u001b[39m\u001b[38;5;124mGenerating match labels...\u001b[39m\u001b[38;5;124m\"\u001b[39m)\n\u001b[0;32m--> 451\u001b[0m     match_labels \u001b[38;5;241m=\u001b[39m \u001b[38;5;28;43mself\u001b[39;49m\u001b[38;5;241;43m.\u001b[39;49m\u001b[43mgenerate_match_labels_batched\u001b[49m\u001b[43m(\u001b[49m\n\u001b[1;32m    452\u001b[0m \u001b[43m        \u001b[49m\u001b[43mreference_data\u001b[49m\u001b[43m,\u001b[49m\u001b[43m \u001b[49m\u001b[43msupplier_data\u001b[49m\n\u001b[1;32m    453\u001b[0m \u001b[43m    \u001b[49m\u001b[43m)\u001b[49m\n\u001b[1;32m    455\u001b[0m \u001b[38;5;66;03m# Create feature vectors\u001b[39;00m\n\u001b[1;32m    456\u001b[0m \u001b[38;5;28mprint\u001b[39m(\u001b[38;5;124m\"\u001b[39m\u001b[38;5;124mCreating feature vectors...\u001b[39m\u001b[38;5;124m\"\u001b[39m)\n",
      "File \u001b[0;32m~/Codes/nuitee/memory_optimized_matcher.py:178\u001b[0m, in \u001b[0;36mMemoryOptimizedRoomMatcher.generate_match_labels_batched\u001b[0;34m(self, reference_data, supplier_data, threshold, max_candidates_per_ref)\u001b[0m\n\u001b[1;32m    176\u001b[0m \u001b[38;5;28;01mfor\u001b[39;00m ref_idx, ref_id \u001b[38;5;129;01min\u001b[39;00m \u001b[38;5;28menumerate\u001b[39m(reference_data[\u001b[38;5;124m'\u001b[39m\u001b[38;5;124mroom_id\u001b[39m\u001b[38;5;124m'\u001b[39m]):\n\u001b[1;32m    177\u001b[0m     \u001b[38;5;28;01mfor\u001b[39;00m sup_idx, sim_score \u001b[38;5;129;01min\u001b[39;00m \u001b[38;5;28menumerate\u001b[39m(similarity_matrix[ref_idx]):\n\u001b[0;32m--> 178\u001b[0m         sup_id \u001b[38;5;241m=\u001b[39m \u001b[43msupplier_batch\u001b[49m\u001b[38;5;241;43m.\u001b[39;49m\u001b[43miloc\u001b[49m\u001b[43m[\u001b[49m\u001b[43msup_idx\u001b[49m\u001b[43m]\u001b[49m[\u001b[38;5;124m'\u001b[39m\u001b[38;5;124msupplier_room_id\u001b[39m\u001b[38;5;124m'\u001b[39m]\n\u001b[1;32m    180\u001b[0m         \u001b[38;5;66;03m# Add to best matches if score is high enough\u001b[39;00m\n\u001b[1;32m    181\u001b[0m         \u001b[38;5;28;01mif\u001b[39;00m sim_score \u001b[38;5;241m>\u001b[39m\u001b[38;5;241m=\u001b[39m threshold:\n",
      "File \u001b[0;32m~/.pyenv/versions/realtime_interview_copilot/lib/python3.9/site-packages/pandas/core/indexing.py:1191\u001b[0m, in \u001b[0;36m_LocationIndexer.__getitem__\u001b[0;34m(self, key)\u001b[0m\n\u001b[1;32m   1189\u001b[0m maybe_callable \u001b[38;5;241m=\u001b[39m com\u001b[38;5;241m.\u001b[39mapply_if_callable(key, \u001b[38;5;28mself\u001b[39m\u001b[38;5;241m.\u001b[39mobj)\n\u001b[1;32m   1190\u001b[0m maybe_callable \u001b[38;5;241m=\u001b[39m \u001b[38;5;28mself\u001b[39m\u001b[38;5;241m.\u001b[39m_check_deprecated_callable_usage(key, maybe_callable)\n\u001b[0;32m-> 1191\u001b[0m \u001b[38;5;28;01mreturn\u001b[39;00m \u001b[38;5;28;43mself\u001b[39;49m\u001b[38;5;241;43m.\u001b[39;49m\u001b[43m_getitem_axis\u001b[49m\u001b[43m(\u001b[49m\u001b[43mmaybe_callable\u001b[49m\u001b[43m,\u001b[49m\u001b[43m \u001b[49m\u001b[43maxis\u001b[49m\u001b[38;5;241;43m=\u001b[39;49m\u001b[43maxis\u001b[49m\u001b[43m)\u001b[49m\n",
      "File \u001b[0;32m~/.pyenv/versions/realtime_interview_copilot/lib/python3.9/site-packages/pandas/core/indexing.py:1754\u001b[0m, in \u001b[0;36m_iLocIndexer._getitem_axis\u001b[0;34m(self, key, axis)\u001b[0m\n\u001b[1;32m   1751\u001b[0m \u001b[38;5;66;03m# validate the location\u001b[39;00m\n\u001b[1;32m   1752\u001b[0m \u001b[38;5;28mself\u001b[39m\u001b[38;5;241m.\u001b[39m_validate_integer(key, axis)\n\u001b[0;32m-> 1754\u001b[0m \u001b[38;5;28;01mreturn\u001b[39;00m \u001b[38;5;28;43mself\u001b[39;49m\u001b[38;5;241;43m.\u001b[39;49m\u001b[43mobj\u001b[49m\u001b[38;5;241;43m.\u001b[39;49m\u001b[43m_ixs\u001b[49m\u001b[43m(\u001b[49m\u001b[43mkey\u001b[49m\u001b[43m,\u001b[49m\u001b[43m \u001b[49m\u001b[43maxis\u001b[49m\u001b[38;5;241;43m=\u001b[39;49m\u001b[43maxis\u001b[49m\u001b[43m)\u001b[49m\n",
      "File \u001b[0;32m~/.pyenv/versions/realtime_interview_copilot/lib/python3.9/site-packages/pandas/core/frame.py:3996\u001b[0m, in \u001b[0;36mDataFrame._ixs\u001b[0;34m(self, i, axis)\u001b[0m\n\u001b[1;32m   3994\u001b[0m \u001b[38;5;66;03m# irow\u001b[39;00m\n\u001b[1;32m   3995\u001b[0m \u001b[38;5;28;01mif\u001b[39;00m axis \u001b[38;5;241m==\u001b[39m \u001b[38;5;241m0\u001b[39m:\n\u001b[0;32m-> 3996\u001b[0m     new_mgr \u001b[38;5;241m=\u001b[39m \u001b[38;5;28;43mself\u001b[39;49m\u001b[38;5;241;43m.\u001b[39;49m\u001b[43m_mgr\u001b[49m\u001b[38;5;241;43m.\u001b[39;49m\u001b[43mfast_xs\u001b[49m\u001b[43m(\u001b[49m\u001b[43mi\u001b[49m\u001b[43m)\u001b[49m\n\u001b[1;32m   3998\u001b[0m     \u001b[38;5;66;03m# if we are a copy, mark as such\u001b[39;00m\n\u001b[1;32m   3999\u001b[0m     copy \u001b[38;5;241m=\u001b[39m \u001b[38;5;28misinstance\u001b[39m(new_mgr\u001b[38;5;241m.\u001b[39marray, np\u001b[38;5;241m.\u001b[39mndarray) \u001b[38;5;129;01mand\u001b[39;00m new_mgr\u001b[38;5;241m.\u001b[39marray\u001b[38;5;241m.\u001b[39mbase \u001b[38;5;129;01mis\u001b[39;00m \u001b[38;5;28;01mNone\u001b[39;00m\n",
      "File \u001b[0;32m~/.pyenv/versions/realtime_interview_copilot/lib/python3.9/site-packages/pandas/core/internals/managers.py:1002\u001b[0m, in \u001b[0;36mBlockManager.fast_xs\u001b[0;34m(self, loc)\u001b[0m\n\u001b[1;32m    998\u001b[0m \u001b[38;5;28;01mfor\u001b[39;00m blk \u001b[38;5;129;01min\u001b[39;00m \u001b[38;5;28mself\u001b[39m\u001b[38;5;241m.\u001b[39mblocks:\n\u001b[1;32m    999\u001b[0m     \u001b[38;5;66;03m# Such assignment may incorrectly coerce NaT to None\u001b[39;00m\n\u001b[1;32m   1000\u001b[0m     \u001b[38;5;66;03m# result[blk.mgr_locs] = blk._slice((slice(None), loc))\u001b[39;00m\n\u001b[1;32m   1001\u001b[0m     \u001b[38;5;28;01mfor\u001b[39;00m i, rl \u001b[38;5;129;01min\u001b[39;00m \u001b[38;5;28menumerate\u001b[39m(blk\u001b[38;5;241m.\u001b[39mmgr_locs):\n\u001b[0;32m-> 1002\u001b[0m         \u001b[43mresult\u001b[49m\u001b[43m[\u001b[49m\u001b[43mrl\u001b[49m\u001b[43m]\u001b[49m \u001b[38;5;241m=\u001b[39m blk\u001b[38;5;241m.\u001b[39miget((i, loc))\n\u001b[1;32m   1004\u001b[0m \u001b[38;5;28;01mif\u001b[39;00m \u001b[38;5;28misinstance\u001b[39m(dtype, ExtensionDtype):\n\u001b[1;32m   1005\u001b[0m     \u001b[38;5;28mcls\u001b[39m \u001b[38;5;241m=\u001b[39m dtype\u001b[38;5;241m.\u001b[39mconstruct_array_type()\n",
      "\u001b[0;31mKeyboardInterrupt\u001b[0m: "
     ]
    }
   ],
   "source": [
    "matcher = MemoryOptimizedRoomMatcher({\n",
    "    'batch_size': 2000,  # 使用较小的批次大小\n",
    "    'embedding_model': 'all-MiniLM-L6-v2',  # 使用更小的模型\n",
    "    'use_sentence_transformer': True,  # 如果内存仍然是问题，可以设置为 False\n",
    "    'embedding_dim': 50  # 如果使用 TF-IDF，控制维度\n",
    "})\n",
    "# Process data\n",
    "print(\"Training model...\")\n",
    "upc_s = upc.head(10000)\n",
    "metrics = matcher.train_model(ref, upc_s)\n",
    "print(f\"Training complete. Metrics: {metrics}\")\n"
   ]
  }
 ],
 "metadata": {
  "kernelspec": {
   "display_name": "realtime_interview_copilot",
   "language": "python",
   "name": "python3"
  },
  "language_info": {
   "codemirror_mode": {
    "name": "ipython",
    "version": 3
   },
   "file_extension": ".py",
   "mimetype": "text/x-python",
   "name": "python",
   "nbconvert_exporter": "python",
   "pygments_lexer": "ipython3",
   "version": "3.9.6"
  }
 },
 "nbformat": 4,
 "nbformat_minor": 2
}
